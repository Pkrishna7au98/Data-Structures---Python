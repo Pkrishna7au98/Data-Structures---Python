{
 "cells": [
  {
   "cell_type": "markdown",
   "id": "9862c441",
   "metadata": {},
   "source": [
    "#### Rearrange an array such that arr[i] = i"
   ]
  },
  {
   "cell_type": "code",
   "execution_count": 1,
   "id": "b2a0d51d",
   "metadata": {},
   "outputs": [],
   "source": [
    "import numpy as np"
   ]
  },
  {
   "cell_type": "code",
   "execution_count": 2,
   "id": "71660a09",
   "metadata": {},
   "outputs": [
    {
     "data": {
      "text/plain": [
       "[-1, 1, 2, 3, 4, -1, 6, -1, -1, 9]"
      ]
     },
     "execution_count": 2,
     "metadata": {},
     "output_type": "execute_result"
    }
   ],
   "source": [
    "my_arr = [ -1, -1, 6, 1, 9, 3, 2, -1, 4, -1 ]\n",
    "\n",
    "def Rearrange(arr):\n",
    "    n = len(arr)\n",
    "\n",
    "    for i in range(n):\n",
    "        for j in range(n):\n",
    "            if arr[j] == i:\n",
    "                arr[i],arr[j] = arr[j],arr[i]\n",
    "                \n",
    "    return arr\n",
    "            \n",
    "Rearrange(my_arr)        \n",
    "        "
   ]
  },
  {
   "cell_type": "markdown",
   "id": "c2f67802",
   "metadata": {},
   "source": [
    "#### Write a program to reverse an array or string"
   ]
  },
  {
   "cell_type": "raw",
   "id": "6761bfda",
   "metadata": {},
   "source": [
    "1) Initialize start and end indexes as start = 0, end = n-1 \n",
    "2) Swap arr[start] with arr[end] \n",
    "3) Recursively call reverse for rest of the array.\n",
    "\n"
   ]
  },
  {
   "cell_type": "code",
   "execution_count": 3,
   "id": "37f04dbe",
   "metadata": {},
   "outputs": [
    {
     "data": {
      "text/plain": [
       "[8, 7, 6, 5, 4, 3, 2, 1]"
      ]
     },
     "execution_count": 3,
     "metadata": {},
     "output_type": "execute_result"
    }
   ],
   "source": [
    "\n",
    "Aitr = [1, 2, 3, 4, 5, 6, 7, 8]\n",
    "\n",
    "\n",
    "#---------------// METHOD 1 -ITERATIVE WAY //------------------#\n",
    "\n",
    "def reverseItr(arr):\n",
    "    n = len(arr)\n",
    "    print(n)\n",
    "    for i in range(int(n/2)):\n",
    "        start = i\n",
    "        end = (n-1)-i\n",
    "        \n",
    "        arr[start], arr[end] = arr[end], arr[start]\n",
    "    return arr\n",
    "\n",
    "#reverseItr(A)\n",
    "\n",
    "#---------------// METHOD 2 -RECURSIVE WAY //------------------#\n",
    "\n",
    "Bitr = [1, 2, 3, 4, 5, 6, 7, 8]\n",
    "\n",
    "def reverseRec(arr,start,end):\n",
    "    if start >= end:\n",
    "        return\n",
    "    arr[start], arr[end] = arr[end], arr[start]\n",
    "    reverseRec(arr,start+1,end-1)   \n",
    "    return arr\n",
    "\n",
    "reverseRec(Bitr,0,7)"
   ]
  },
  {
   "cell_type": "code",
   "execution_count": 4,
   "id": "60bea610",
   "metadata": {},
   "outputs": [
    {
     "data": {
      "text/plain": [
       "[8, 7, 6, 5, 4, 3, 2, 1]"
      ]
     },
     "execution_count": 4,
     "metadata": {},
     "output_type": "execute_result"
    }
   ],
   "source": [
    "Bitr = [1, 2, 3, 4, 5, 6, 7, 8]\n",
    "\n",
    "def reverseRec(arr,start,end):\n",
    "    if start >= end:\n",
    "        return\n",
    "    arr[start], arr[end] = arr[end], arr[start]\n",
    "    reverseRec(arr,start+1,end-1)         \n",
    "    return arr\n",
    "reverseRec(Bitr,0,7)"
   ]
  },
  {
   "cell_type": "markdown",
   "id": "fa44fdf6",
   "metadata": {},
   "source": [
    "#### Rearrange array such that arr[i] >= arr[j] if i is even and arr[i]<=arr[j] if i is odd and j < i"
   ]
  },
  {
   "cell_type": "raw",
   "id": "26da7ec8",
   "metadata": {},
   "source": [
    "Our task is to write a program to rearrange the array such that elements at even positions are greater than all elements before it and elements at odd positions are less than all elements before it."
   ]
  },
  {
   "cell_type": "code",
   "execution_count": 5,
   "id": "c45cd918",
   "metadata": {},
   "outputs": [
    {
     "data": {
      "text/plain": [
       "[5, 6, 4, 7, 3, 8, 2, 9, 1]"
      ]
     },
     "execution_count": 5,
     "metadata": {},
     "output_type": "execute_result"
    }
   ],
   "source": [
    "my_arr = [9,8,4,5,3,6,7,2,1]\n",
    "\n",
    "def RearrangeEO(arr):\n",
    "    \n",
    "    n = len(arr)\n",
    "    \n",
    "    evenPos = int(n/2)\n",
    "    oddPos = n- evenPos\n",
    "\n",
    "    arr1 = arr.copy()\n",
    "    arr1.sort()\n",
    "    \n",
    "    j = oddPos - 1\n",
    "\n",
    "    for i in range(0, n, 2):\n",
    "        arr[i] = arr1[j]\n",
    "        j = j - 1\n",
    "     \n",
    "    j = oddPos\n",
    " \n",
    "    for i in range(1, n, 2):\n",
    "        arr[i] = arr1[j]\n",
    "        j = j + 1\n",
    "    \n",
    "    return arr\n",
    "    \n",
    "RearrangeEO(my_arr)       "
   ]
  },
  {
   "cell_type": "markdown",
   "id": "05dee884",
   "metadata": {},
   "source": [
    "#### Move all zeroes to end of array"
   ]
  },
  {
   "cell_type": "markdown",
   "id": "ac8f662a",
   "metadata": {},
   "source": [
    "###### Method 1"
   ]
  },
  {
   "cell_type": "code",
   "execution_count": 6,
   "id": "0170a029",
   "metadata": {},
   "outputs": [
    {
     "data": {
      "text/plain": [
       "array([9, 8, 4, 2, 7, 6, 0, 0, 0, 0, 0])"
      ]
     },
     "execution_count": 6,
     "metadata": {},
     "output_type": "execute_result"
    }
   ],
   "source": [
    "my_Arr = np.array([0, 9, 8, 4, 0, 0, 2, 7, 0, 6, 0])\n",
    "\n",
    "def PushZeroToEnd(arr):\n",
    "    \n",
    "    n = len(arr)\n",
    "    \n",
    "    p = 0\n",
    "    \n",
    "    for i in range(n):\n",
    "        if arr[i] != 0:\n",
    "            arr[p] = arr[i]\n",
    "            p += 1\n",
    "    \n",
    "    while p<n:\n",
    "        arr[p] = 0\n",
    "        p+=1\n",
    "    \n",
    "    return arr\n",
    "    \n",
    "PushZeroToEnd(my_Arr)"
   ]
  },
  {
   "cell_type": "markdown",
   "id": "1c202f2b",
   "metadata": {},
   "source": [
    "###### Method 2 Using single traversal"
   ]
  },
  {
   "cell_type": "code",
   "execution_count": 7,
   "id": "6e61e41d",
   "metadata": {},
   "outputs": [
    {
     "data": {
      "text/plain": [
       "array([1, 9, 8, 4, 2, 7, 6, 9, 0, 0, 0, 0, 0])"
      ]
     },
     "execution_count": 7,
     "metadata": {},
     "output_type": "execute_result"
    }
   ],
   "source": [
    "Array = np.array([0, 1, 9, 8, 4, 0, 0, 2, 7, 0, 6, 0, 9])\n",
    "\n",
    "def STPushZeroEnds(arr):\n",
    "    n = len(arr)\n",
    "    \n",
    "    count = 0\n",
    "    for i in range(n):\n",
    "        if arr[i] != 0:\n",
    "            arr[count],arr[i] = arr[i],arr[count]\n",
    "            count += 1\n",
    "    return arr\n",
    "\n",
    "STPushZeroEnds(Array)"
   ]
  },
  {
   "cell_type": "markdown",
   "id": "35cd0b36",
   "metadata": {},
   "source": [
    "#### Minimum swaps required to bring all elements less than or equal to k together"
   ]
  },
  {
   "cell_type": "code",
   "execution_count": 8,
   "id": "0102c499",
   "metadata": {},
   "outputs": [
    {
     "name": "stdout",
     "output_type": "stream",
     "text": [
      "Min swaps required are 2\n"
     ]
    }
   ],
   "source": [
    "def MinSwapK(arr,k):\n",
    "    \n",
    "    n = len(arr)\n",
    "    \n",
    "    #Counting how many total elements are there less than equal to K. (KLE = Elemetns less than K)\n",
    "    KLE = 0\n",
    "    for i in range(n):\n",
    "        if arr[i] <= k:\n",
    "            KLE += 1\n",
    "            \n",
    "    #Total elements Bigger than K in CURRENT WINDOW. (Swaps required, raw value to be refined)\n",
    "    swaps = 0\n",
    "    for j in range(KLE):\n",
    "        if arr[j] > k:\n",
    "            swaps += 1\n",
    "        \n",
    "    r = swaps\n",
    "    s = KLE-1\n",
    "    \n",
    "    for i in range(n):\n",
    "        if r == s:\n",
    "            break\n",
    "        \n",
    "        if arr[i] > k:\n",
    "            r -= 1\n",
    "            \n",
    "        if arr[s] > k:\n",
    "            r += 1\n",
    "            \n",
    "        r = min(r,swaps)\n",
    "        \n",
    "        s+=1\n",
    "        \n",
    "    return print(\"Min swaps required are {}\".format(r))\n",
    "\n",
    "Array = np.array([2, 7, 9, 5, 8, 7, 4])\n",
    "\n",
    "MinSwapK(Array, 5)\n",
    "    "
   ]
  },
  {
   "cell_type": "markdown",
   "id": "31f53926",
   "metadata": {},
   "source": [
    "#### Rearrange positive and negative numbers using inbuilt sort function"
   ]
  },
  {
   "cell_type": "code",
   "execution_count": 9,
   "id": "b1f02e24",
   "metadata": {},
   "outputs": [
    {
     "data": {
      "text/plain": [
       "array([ -4,  -7,  -5, -23,  -2, 445,  44,   9,   6,   2,   1])"
      ]
     },
     "execution_count": 9,
     "metadata": {},
     "output_type": "execute_result"
    }
   ],
   "source": [
    "#Counting total negative numbers\n",
    "count = 0\n",
    "for i in range(len(my_arr)):\n",
    "    if my_arr[i] <0:\n",
    "        count+=1\n",
    "    \n",
    "\n",
    "#Reverse Funcion\n",
    "\n",
    "def reverse(array, start, end):\n",
    "    while(start < end):\n",
    "        temp = array[start]\n",
    "        array[start] = array[end]\n",
    "        array[end] = temp\n",
    "        start += 1\n",
    "        end -= 1\n",
    "\n",
    "def rearrange(arr,start,end):\n",
    "    \n",
    "    #Exit condition if start = end\n",
    "    if start == end:\n",
    "        return\n",
    "    \n",
    "    #rearranging array (recursion) from first element of new array\n",
    "    \n",
    "    rearrange(arr,(start+1) , end)\n",
    "    \n",
    "    if arr[start] > 0:\n",
    "        reverse(arr,start+1,end)\n",
    "        reverse(arr,start ,end)\n",
    "    \n",
    "    return arr\n",
    "       \n",
    "my_arr = np.array([1,-4,2,6,9,-7,-5,44,445,-23,-2])\n",
    "\n",
    "rearrange(my_arr,0,10)"
   ]
  },
  {
   "cell_type": "markdown",
   "id": "f215664e",
   "metadata": {},
   "source": [
    "#### Rearrange array such that even positioned are greater than odd"
   ]
  },
  {
   "cell_type": "code",
   "execution_count": 10,
   "id": "2588c97a",
   "metadata": {},
   "outputs": [
    {
     "name": "stdout",
     "output_type": "stream",
     "text": [
      "Sorted array [1 2 4 5 6 7 8 9]\n",
      "Rearranged array [1, 9, 2, 8, 4, 7, 5, 6]\n"
     ]
    }
   ],
   "source": [
    "Array_kp = np.array([1, 9, 8, 4, 2, 7, 6, 5])\n",
    "\n",
    "def arrange_EO(arr):\n",
    "    n = len(arr)\n",
    "    \n",
    "    arr.sort()\n",
    "    print(\"Sorted array\",arr)\n",
    "    \n",
    "    ans = [0]*n\n",
    "    p= 0\n",
    "    q = n-1\n",
    "    for i in range(n):\n",
    "        \n",
    "        #assign even positions with max values\n",
    "        if (i+1) % 2 == 0:\n",
    "            ans[i] = arr[q]\n",
    "            q -= 1\n",
    "        else:\n",
    "            ans[i] = arr[p]\n",
    "            p+=1\n",
    "            \n",
    "            \n",
    "    return print(\"Rearranged array\",ans)\n",
    "\n",
    "    \n",
    "    \n",
    "    \n",
    "arrange_EO(Array_kp)            "
   ]
  },
  {
   "cell_type": "markdown",
   "id": "2e41d6ca",
   "metadata": {},
   "source": [
    "#### Set 1-  Rearrange an array in order – smallest, largest, 2nd smallest, 2nd largest, .."
   ]
  },
  {
   "cell_type": "code",
   "execution_count": 11,
   "id": "16967a39",
   "metadata": {},
   "outputs": [
    {
     "data": {
      "text/plain": [
       "[1, 14, 2, 13, 3, 12, 4, 11, 5, 10, 6, 9, 7, 8]"
      ]
     },
     "execution_count": 11,
     "metadata": {},
     "output_type": "execute_result"
    }
   ],
   "source": [
    "Array_sl = np.array([1, 9, 3, 8, 4, 2, 7, 6,5,10,14,11,13,12])\n",
    "\n",
    "def reArrange(arr):\n",
    "    \n",
    "    arr.sort()\n",
    "    \n",
    "    i = 0\n",
    "    j = len(arr)-1\n",
    "    \n",
    "    ans = []*j\n",
    "    \n",
    "    while (i<=j):\n",
    "        if i<j:\n",
    "            ans.append(arr[i])\n",
    "            ans.append(arr[j])\n",
    "            i += 1\n",
    "            j -= 1\n",
    "        elif i==j:\n",
    "            ans.append(arr[i])\n",
    "            break\n",
    "\n",
    "    return ans\n",
    "    \n",
    "reArrange(Array_sl)"
   ]
  },
  {
   "cell_type": "markdown",
   "id": "e7626cf6",
   "metadata": {},
   "source": [
    "#### Double the first element and move zero to end"
   ]
  },
  {
   "cell_type": "code",
   "execution_count": 12,
   "id": "9aae5956",
   "metadata": {},
   "outputs": [
    {
     "data": {
      "text/plain": [
       "array([ 2, 18, 16,  8,  4, 14, 12, 18,  0,  0,  0,  0,  0])"
      ]
     },
     "execution_count": 12,
     "metadata": {},
     "output_type": "execute_result"
    }
   ],
   "source": [
    "Array = np.array([0, 1, 9, 8, 4, 0, 0, 2, 7, 0, 6, 0, 9])\n",
    "\n",
    "def STPushZeroEnds(arr):\n",
    "    n = len(arr)\n",
    "    \n",
    "    for i in range(n):\n",
    "        arr[i] = 2 * arr[i]\n",
    "        \n",
    "    count = 0\n",
    "    for i in range(n):\n",
    "        if arr[i] != 0:\n",
    "            arr[count],arr[i] = arr[i],arr[count]\n",
    "            count += 1\n",
    "    return arr\n",
    "\n",
    "STPushZeroEnds(Array)"
   ]
  },
  {
   "cell_type": "markdown",
   "id": "a12875e1",
   "metadata": {},
   "source": [
    "\n",
    "#### Reorder an array according to given indexes"
   ]
  },
  {
   "cell_type": "code",
   "execution_count": 13,
   "id": "19531843",
   "metadata": {},
   "outputs": [
    {
     "data": {
      "text/plain": [
       "array([40, 60, 90, 50, 70])"
      ]
     },
     "execution_count": 13,
     "metadata": {},
     "output_type": "execute_result"
    }
   ],
   "source": [
    "array = np.array([50, 40, 70, 60, 90])\n",
    "indexes = np.array([3, 0, 4, 1, 2])\n",
    "\n",
    "def ArrangeIndexes(arr,ind):\n",
    "    \n",
    "    n =  len(arr)\n",
    "    temp = np.array([0]*n)\n",
    "    \n",
    "    for i in range(n):\n",
    "        p = ind[i]\n",
    "        temp[p] = array[i]\n",
    "    \n",
    "    return temp\n",
    "\n",
    "ArrangeIndexes(array,indexes)"
   ]
  },
  {
   "cell_type": "markdown",
   "id": "a1636de4",
   "metadata": {},
   "source": [
    "#### Rearrange positive and negative numbers with constant extra space"
   ]
  },
  {
   "cell_type": "raw",
   "id": "e207958d",
   "metadata": {},
   "source": [
    "Current Array :- [Ln, P1, P2, P3, N1, .......]\n",
    "Here, Ln is the left subarray(can be empty) that contains only negative elements. P1, P2, P3 are the positive numbers and N1\n",
    "is the negative number that we want to move at correct place.\n",
    "If difference of indices between positive number and negative number is greater than 1,\n",
    "    1. Swap P1 and N1, we get [Ln, N1, P2, P3, P1, ......]\n",
    "    2. Rotate array by one position to right, i.e. rotate array [P2, P3, P1], we get [Ln, N1, P1, P2, P3, ......]"
   ]
  },
  {
   "cell_type": "code",
   "execution_count": 14,
   "id": "c4b480aa",
   "metadata": {},
   "outputs": [
    {
     "name": "stdout",
     "output_type": "stream",
     "text": [
      "After Step 1 [  4  -2   3   6  -9   8 -55  56 -44 -76   1]\n",
      "After Step 2 [ -2   3   6  -9   8 -55  56 -44 -76   1   4]\n",
      "After Step 3 [ -2   6  -9   8 -55  56 -44 -76   1   4   3]\n",
      "After Step 4 [ -2  -9   8 -55  56 -44 -76   1   4   3   6]\n",
      "After Step 5 [ -2  -9 -55  56 -44 -76   1   4   3   6   8]\n",
      "After Step 6 [ -2  -9 -55 -44 -76   1   4   3   6   8  56]\n"
     ]
    },
    {
     "data": {
      "text/plain": [
       "array([ -2,  -9, -55, -44, -76,   1,   4,   3,   6,   8,  56])"
      ]
     },
     "execution_count": 14,
     "metadata": {},
     "output_type": "execute_result"
    }
   ],
   "source": [
    "my_arr = np.array([1,4,-2,3,6,-9,8,-55,56,-44,-76])\n",
    "end = len(my_arr)-1\n",
    "\n",
    "def rotate(arr,start,end):\n",
    "    \n",
    "    while start < end:\n",
    "        arr[start],arr[start+1] = arr[start+1],arr[start]\n",
    "        start += 1\n",
    "\n",
    "def reArrange(arr):\n",
    "    \n",
    "    #Total neg numbers present\n",
    "    count = 0\n",
    "    for i in range(len(arr)):\n",
    "        if arr[i]<0:\n",
    "            count += 1\n",
    "    \n",
    "    p=0\n",
    "    k = 1\n",
    "    while p<count:\n",
    "        if arr[p] >= 0:\n",
    "            rotate(arr,p,end)\n",
    "            print(\"After Step {}\".format(k),arr)\n",
    "            k+=1\n",
    "            if p<=0:\n",
    "                p=0\n",
    "            elif p>0:\n",
    "                p-=1            \n",
    "        else:\n",
    "            p+=1\n",
    "            \n",
    "    return arr\n",
    "\n",
    "\n",
    "\n",
    "reArrange(my_arr)"
   ]
  },
  {
   "cell_type": "markdown",
   "id": "ea7613e1",
   "metadata": {},
   "source": [
    "#### Arrange given numbers to form the biggest number | Set 1"
   ]
  },
  {
   "cell_type": "code",
   "execution_count": 15,
   "id": "a67d7814",
   "metadata": {},
   "outputs": [
    {
     "name": "stdout",
     "output_type": "stream",
     "text": [
      "The biggest number can be formed is 998764543431\n"
     ]
    }
   ],
   "source": [
    "my_Arr = np.array([1, 34, 3, 98, 9, 76, 45, 4])\n",
    "\n",
    "def compare(arr):\n",
    "    n=len(arr)\n",
    "    ans = \"\"\n",
    "    for j in range(n-1):\n",
    "        for i in range(j,n-1):\n",
    "            ab = str(arr[j]) + str(arr[i+1])\n",
    "            ba = str(arr[i+1]) + str(arr[j])\n",
    "            if int(ab) < int(ba):\n",
    "                arr[j],arr[i+1] = arr[i+1],arr[j]                \n",
    "    \n",
    "    for k in range(n):\n",
    "        ans = ans + str(arr[k])\n",
    "    \n",
    "    return print( \"The biggest number can be formed is {}\".format(ans))\n",
    "        \n",
    "compare(my_Arr)"
   ]
  },
  {
   "cell_type": "markdown",
   "id": "f8c040f7",
   "metadata": {},
   "source": [
    "#### Rearrange an array such that ‘arr[j]’ becomes ‘i’ if ‘arr[i]’ is ‘j’ | Set 1"
   ]
  },
  {
   "cell_type": "raw",
   "id": "02f3387c",
   "metadata": {},
   "source": [
    "Input: arr[]  = {1, 3, 0, 2}\n",
    "Output: arr[] = {2, 0, 3, 1}\n",
    "\n",
    "Explanation for the above output.\n",
    "\n",
    "Since arr[0] is 1, arr[1] is changed to 0\n",
    "Since arr[1] is 3, arr[3] is changed to 1\n",
    "Since arr[2] is 0, arr[0] is changed to 2\n",
    "Since arr[3] is 2, arr[2] is changed to 3"
   ]
  },
  {
   "cell_type": "code",
   "execution_count": 16,
   "id": "0138283a",
   "metadata": {},
   "outputs": [
    {
     "data": {
      "text/plain": [
       "array([1, 2, 0, 5, 3, 4])"
      ]
     },
     "execution_count": 16,
     "metadata": {},
     "output_type": "execute_result"
    }
   ],
   "source": [
    "array = np.array([2, 0, 1, 4, 5, 3])\n",
    "\n",
    "def RearrangeJI(arr):\n",
    "    n = len(arr)\n",
    "    arr2 = arr.copy()\n",
    "    for i in range(n):\n",
    "        p = arr[i]\n",
    "        arr2[p] = i\n",
    "    return arr2\n",
    "\n",
    "RearrangeJI(array)"
   ]
  },
  {
   "cell_type": "markdown",
   "id": "5cddf045",
   "metadata": {},
   "source": [
    "#### Set 2-  Rearrange an array in order – smallest, largest, 2nd smallest, 2nd largest, .."
   ]
  },
  {
   "cell_type": "code",
   "execution_count": 17,
   "id": "1982d79a",
   "metadata": {},
   "outputs": [
    {
     "data": {
      "text/plain": [
       "array([ 1, 10,  2,  9,  3,  8,  4,  7,  5,  6])"
      ]
     },
     "execution_count": 17,
     "metadata": {},
     "output_type": "execute_result"
    }
   ],
   "source": [
    "Array_s2 = np.array([7, 9, 3, 8, 4, 2, 6,5,10,1])\n",
    "\n",
    "def RearrangeSL(arr):\n",
    "    n = len(arr)\n",
    "    j=0\n",
    "    for i in range(n):\n",
    "        if i%2 == 0:\n",
    "            p = min(arr[j:n])\n",
    "            for k in range(n):\n",
    "                if arr[k] == p:\n",
    "                    id = k\n",
    "            arr[i],arr[id] = arr[id],arr[i]\n",
    "            \n",
    "        else:\n",
    "            p = max(arr[j:n])\n",
    "            for k in range(n):\n",
    "                if arr[k] == p:\n",
    "                    id = k\n",
    "            arr[i],arr[id] = arr[id],arr[i]\n",
    "                   \n",
    "        \n",
    "        j+=1 \n",
    "    \n",
    "    return arr       \n",
    "            \n",
    "RearrangeSL(Array_s2)        \n"
   ]
  },
  {
   "cell_type": "markdown",
   "id": "974a9939",
   "metadata": {},
   "source": [
    "#### Move all negative elements to end in order with extra space allowed"
   ]
  },
  {
   "cell_type": "code",
   "execution_count": 18,
   "id": "11226c28",
   "metadata": {},
   "outputs": [
    {
     "name": "stdout",
     "output_type": "stream",
     "text": [
      "After Step 1 [  1   4   3   6  -9   8  98 -55  56  -2]\n",
      "After Step 2 [  1   4   3   6   8  98 -55  56  -2  -9]\n",
      "After Step 3 [  1   4   3   6   8  98  56  -2  -9 -55]\n"
     ]
    },
    {
     "data": {
      "text/plain": [
       "array([  1,   4,   3,   6,   8,  98,  56,  -2,  -9, -55])"
      ]
     },
     "execution_count": 18,
     "metadata": {},
     "output_type": "execute_result"
    }
   ],
   "source": [
    "my_arr = np.array([1,4,-2,3,6,-9,8,98,-55,56])\n",
    "end = len(my_arr)-1\n",
    "\n",
    "def rotate(arr,start,end):\n",
    "    \n",
    "    while start < end:\n",
    "        arr[start],arr[start+1] = arr[start+1],arr[start]\n",
    "        start += 1\n",
    "\n",
    "def reArrange(arr):\n",
    "    \n",
    "    #Total neg numbers present\n",
    "    count = 0\n",
    "    for i in range(len(arr)):\n",
    "        if arr[i]>0:\n",
    "            count += 1\n",
    "    \n",
    "    p=0\n",
    "    k = 1\n",
    "    while p<count:\n",
    "        if arr[p] <= 0:\n",
    "            rotate(arr,p,end)\n",
    "            print(\"After Step {}\".format(k),arr)\n",
    "            k+=1\n",
    "            \n",
    "        else:\n",
    "            p+=1\n",
    "            \n",
    "    return arr\n",
    "\n",
    "\n",
    "\n",
    "reArrange(my_arr)"
   ]
  },
  {
   "cell_type": "markdown",
   "id": "63d8b3a1",
   "metadata": {},
   "source": [
    "#### Rearrange positive and negative numbers in O(n) time and O(1) extra space"
   ]
  },
  {
   "cell_type": "markdown",
   "id": "e19f6b93",
   "metadata": {},
   "source": [
    "#### Positive elements at even and negative at odd positions (Relative order not maintained)\n"
   ]
  },
  {
   "cell_type": "code",
   "execution_count": 19,
   "id": "284fe486",
   "metadata": {
    "scrolled": true
   },
   "outputs": [
    {
     "name": "stdout",
     "output_type": "stream",
     "text": [
      "[  1   2  44   6  55 -55 -76 -43 -99  -2]\n",
      "pos, negs are 5 5\n"
     ]
    },
    {
     "data": {
      "text/plain": [
       "array([  1, -76,  44, -99,  55, -55,   2, -43,   6,  -2])"
      ]
     },
     "execution_count": 19,
     "metadata": {},
     "output_type": "execute_result"
    }
   ],
   "source": [
    "import numpy as np                \n",
    "\n",
    "def pivot(arr):\n",
    "    n = len(arr)\n",
    "    p=0\n",
    "    for i in range(n):\n",
    "        if pos>neg:\n",
    "            if arr[i] < 0:\n",
    "                arr[p],arr[i] = arr[i],arr[p]\n",
    "                p+=1\n",
    "        elif pos<=neg:\n",
    "            if arr[i] > 0:\n",
    "                arr[p],arr[i] = arr[i],arr[p]\n",
    "                p+=1\n",
    "\n",
    "            \n",
    "    return arr\n",
    "\n",
    "def PosNeg(arr):\n",
    "    \n",
    "    pivot(arr)\n",
    "    print(\"pos, negs are\",pos,neg)\n",
    "    p = min(pos,neg)\n",
    "    \n",
    "    if p%2 != 0:\n",
    "        p = p+1\n",
    "    \n",
    "    for i in range(int(p/2)):\n",
    "\n",
    "        if p<n:\n",
    "            arr[2*i+1],arr[p] =  arr[p],arr[2*i+1]\n",
    "            p+=2\n",
    "        else:\n",
    "            break\n",
    "    return arr\n",
    "\n",
    "#//----------------------------------------------------------------//\n",
    "\n",
    "my_arr = np.array([1,-2,2,-76,44,-55,6,-43,-99,55])\n",
    "\n",
    "n = len(my_arr)\n",
    "    \n",
    "pos = 0\n",
    "for i in range(n):\n",
    "    if my_arr[i]>=0:                \n",
    "        pos+=1\n",
    "neg = n - pos\n",
    "\n",
    "#//--------------------------------------------------------------//\n",
    "\n",
    "print(pivot(my_arr))\n",
    "PosNeg(my_arr)\n"
   ]
  },
  {
   "cell_type": "markdown",
   "id": "c7e53c77",
   "metadata": {},
   "source": [
    "#### Replace every array element by multiplication of previous and next"
   ]
  },
  {
   "cell_type": "code",
   "execution_count": 20,
   "id": "17159903",
   "metadata": {},
   "outputs": [
    {
     "data": {
      "text/plain": [
       "array([ 4,  3, 24, 24, 42, 40, 35])"
      ]
     },
     "execution_count": 20,
     "metadata": {},
     "output_type": "execute_result"
    }
   ],
   "source": [
    "my_arr = np.array([1,   4,   3,   6,   8, 7, 5])\n",
    "\n",
    "def RearrangeMulti(arr):\n",
    "    n= len(arr)\n",
    "    \n",
    "    if n==1:\n",
    "        return\n",
    "    \n",
    "    \n",
    "    prev = arr[0]\n",
    "    arr[0] = arr[0] * arr[1]\n",
    "            \n",
    "    for i in range(1,n-1):\n",
    "            curr = arr[i]\n",
    "            arr[i] = prev * arr[i+1]\n",
    "            prev = curr\n",
    "    arr[n-1] = prev*arr[n-1]\n",
    "    \n",
    "    return arr\n",
    "\n",
    "RearrangeMulti(my_arr)\n",
    "            "
   ]
  },
  {
   "cell_type": "markdown",
   "id": "f74cc4c7",
   "metadata": {},
   "source": [
    "#### Shuffle a given array using Fisher–Yates shuffle Algorithm"
   ]
  },
  {
   "cell_type": "code",
   "execution_count": 21,
   "id": "9ea6d657",
   "metadata": {},
   "outputs": [
    {
     "data": {
      "text/plain": [
       "array([ 5, 10,  8,  7,  3,  1,  6, 12,  4, 11])"
      ]
     },
     "execution_count": 21,
     "metadata": {},
     "output_type": "execute_result"
    }
   ],
   "source": [
    "import random\n",
    "#-----------------------#\n",
    "\n",
    "my_arr = np.array([1,   4,   3,   6,   8, 7, 5, 10, 11, 12])\n",
    "\n",
    "def randomize(arr):\n",
    "    n = len(arr)\n",
    "    \n",
    "    for i in range(n-1):\n",
    "        j = random.randint(i,n-1)\n",
    "        \n",
    "        arr[i],arr[j] = arr[j],arr[i]\n",
    "        \n",
    "    return arr\n",
    "\n",
    "randomize(my_arr)"
   ]
  },
  {
   "cell_type": "markdown",
   "id": "a3e2c1bf",
   "metadata": {},
   "source": [
    "#### Method 1 : Segregate even and odd numbers "
   ]
  },
  {
   "cell_type": "code",
   "execution_count": 54,
   "id": "327cd12e",
   "metadata": {},
   "outputs": [
    {
     "name": "stdout",
     "output_type": "stream",
     "text": [
      "6 3\n",
      "Values of K and J are 0 and 0\n",
      "Values of K and J are 1 and 2\n",
      "Values of K and J are 2 and 3\n",
      "Values of K and J are 3 and 5\n",
      "Values of K and J are 4 and 6\n",
      "Values of K and J are 5 and 7\n"
     ]
    },
    {
     "data": {
      "text/plain": [
       "array([100,   2,   4,   6,  90,  10,   7,   3,   5])"
      ]
     },
     "execution_count": 54,
     "metadata": {},
     "output_type": "execute_result"
    }
   ],
   "source": [
    "array = np.array([ 100 ,3, 2, 4, 7, 6, 90, 10,5])\n",
    "\n",
    "def segregate(arr):\n",
    "    n = len(arr)\n",
    "    \n",
    "    even = 0\n",
    "    for i in range(n):\n",
    "        if arr[i]%2 ==0:\n",
    "            even +=1\n",
    "    odd = n-even\n",
    "    \n",
    "    print(even,odd)\n",
    "    \n",
    "    for k in range(0,even):\n",
    "        temp = arr[k]\n",
    "        for j in range(k,n):\n",
    "            if arr[j]%2 == 0:\n",
    "                print(\"Values of K and J are {} and {}\".format(k,j))\n",
    "                arr[j],arr[k] = arr[k],arr[j]\n",
    "                break\n",
    "    return arr       \n",
    "    \n",
    "    \n",
    "segregate(array)"
   ]
  },
  {
   "cell_type": "markdown",
   "id": "b7f08684",
   "metadata": {},
   "source": [
    "#### Method 2 :  : Lomuto’s Partition Scheme"
   ]
  },
  {
   "cell_type": "code",
   "execution_count": 57,
   "id": "915fb46c",
   "metadata": {},
   "outputs": [
    {
     "data": {
      "text/plain": [
       "array([100,   2,   4,   6,  90,  10,   7,   3,   5])"
      ]
     },
     "execution_count": 57,
     "metadata": {},
     "output_type": "execute_result"
    }
   ],
   "source": [
    "def arrayEvenAndOdd(arr):\n",
    "    \n",
    "    n = len(arr)\n",
    "    \n",
    "    i = -1\n",
    "    j= 0\n",
    "    while (j!=n):\n",
    "        if (arr[j] % 2 ==0):\n",
    "            i = i+1\n",
    " \n",
    "            # Swapping even and odd numbers\n",
    "            arr[i],arr[j] = arr[j],arr[i]\n",
    "             \n",
    "        j = j+1\n",
    "    return arr\n",
    "\n",
    "array = np.array([ 100 ,3, 2, 4, 7, 6, 90, 10,5])\n",
    "\n",
    "arrayEvenAndOdd(array)"
   ]
  },
  {
   "cell_type": "code",
   "execution_count": null,
   "id": "d52b2c80",
   "metadata": {},
   "outputs": [],
   "source": []
  }
 ],
 "metadata": {
  "kernelspec": {
   "display_name": "Python 3",
   "language": "python",
   "name": "python3"
  },
  "language_info": {
   "codemirror_mode": {
    "name": "ipython",
    "version": 3
   },
   "file_extension": ".py",
   "mimetype": "text/x-python",
   "name": "python",
   "nbconvert_exporter": "python",
   "pygments_lexer": "ipython3",
   "version": "3.8.8"
  }
 },
 "nbformat": 4,
 "nbformat_minor": 5
}
