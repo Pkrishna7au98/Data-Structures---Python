{
 "cells": [
  {
   "cell_type": "code",
   "execution_count": 1,
   "id": "811ea3af",
   "metadata": {},
   "outputs": [],
   "source": [
    "import numpy as np\n",
    "import math\n",
    "import sys"
   ]
  },
  {
   "cell_type": "markdown",
   "id": "151401bd",
   "metadata": {},
   "source": [
    "#### Subarray/Substring vs Subsequence and Programs to Generate them\n"
   ]
  },
  {
   "cell_type": "code",
   "execution_count": 2,
   "id": "92d73268",
   "metadata": {},
   "outputs": [
    {
     "name": "stdout",
     "output_type": "stream",
     "text": [
      "1 \n",
      "\n",
      "1 2 \n",
      "\n",
      "1 2 3 \n",
      "\n",
      "1 2 3 4 \n",
      "\n",
      "2 \n",
      "\n",
      "2 3 \n",
      "\n",
      "2 3 4 \n",
      "\n",
      "3 \n",
      "\n",
      "3 4 \n",
      "\n",
      "4 \n",
      "\n"
     ]
    }
   ],
   "source": [
    "arr = [1, 2, 3, 4]\n",
    "\n",
    "def SubArrays(arr):\n",
    "    n = len(arr)\n",
    "    \n",
    "    for i in range(n):\n",
    "        for j in range(i,n):\n",
    "            for k in range(i,j+1):\n",
    "                print(arr[k], end=\" \")\n",
    "            print(\"\\n\")\n",
    "\n",
    "SubArrays(arr)"
   ]
  },
  {
   "cell_type": "markdown",
   "id": "7f98c9eb",
   "metadata": {},
   "source": [
    "#### A Product Array Puzzle\n"
   ]
  },
  {
   "cell_type": "markdown",
   "id": "455d7dc5",
   "metadata": {},
   "source": [
    "This is naive approach for the problem but important. below this, we have another approach too, have look"
   ]
  },
  {
   "cell_type": "code",
   "execution_count": 3,
   "id": "b4e2e826",
   "metadata": {},
   "outputs": [
    {
     "data": {
      "text/plain": [
       "[120, 60, 40, 30, 24]"
      ]
     },
     "execution_count": 3,
     "metadata": {},
     "output_type": "execute_result"
    }
   ],
   "source": [
    "prod = [1, 2, 3, 4, 5]\n",
    "\n",
    "\n",
    "def rotate(arr):\n",
    "    n = len(arr)\n",
    "    for i in range(n-1):\n",
    "        arr[i],arr[i+1] = arr[i+1],arr[i]\n",
    "\n",
    "def ProdArrPuzzle(arr):\n",
    "    n = len(arr)\n",
    "    ans = []\n",
    "    \n",
    "    for j in range(n):\n",
    "        if j >=1:\n",
    "            rotate(arr)\n",
    "            \n",
    "        product = 1\n",
    "        for p in range(1,n):\n",
    "            product = product * arr[p]\n",
    "        ans.append(product)\n",
    "        \n",
    "    return ans\n",
    "ProdArrPuzzle(prod)  "
   ]
  },
  {
   "cell_type": "markdown",
   "id": "8c085ddf",
   "metadata": {},
   "source": [
    "###### Method 2"
   ]
  },
  {
   "cell_type": "code",
   "execution_count": 4,
   "id": "c81d7334",
   "metadata": {},
   "outputs": [
    {
     "name": "stdout",
     "output_type": "stream",
     "text": [
      "Array formation direction >>>>>>>>>>>>>>>> [1, 1, 2, 6, 24, 120]\n",
      "Array formation direction [720, 360, 240, 180, 144, 120] <<<<<<<<<<<<<<<<\n"
     ]
    }
   ],
   "source": [
    "arr1 = [1, 2, 3, 4, 5, 6]\n",
    "\n",
    "def ArrPuzzle(arr):\n",
    "    n = len(arr)\n",
    "    \n",
    "    prod = [1 for i in range(n)]\n",
    "    \n",
    "    if n == 1:\n",
    "        return arr\n",
    "    \n",
    "    mul = 1\n",
    "    for i in range(1,n):\n",
    "        mul = mul * arr[i-1]\n",
    "        prod[i] = mul\n",
    "    print(\"Array formation direction >>>>>>>>>>>>>>>>\",prod)\n",
    "    \n",
    "    temp = 1\n",
    "    for i in range(n - 1, -1, -1):\n",
    "        prod[i] = prod[i] * temp\n",
    "        temp = temp * arr[i]\n",
    "    print(\"Array formation direction\",prod , \"<<<<<<<<<<<<<<<<\")\n",
    "    \n",
    "    \n",
    "ArrPuzzle(arr1)"
   ]
  },
  {
   "cell_type": "markdown",
   "id": "09a6dfdb",
   "metadata": {},
   "source": [
    "#### Number of subarrays with given product\n"
   ]
  },
  {
   "cell_type": "raw",
   "id": "e9ec2180",
   "metadata": {},
   "source": [
    "For k != 1:\n",
    "1. Initialize start = end = 0\n",
    "2. Initialize res = 0, p = 1 \n",
    "3. Increment end until p < k\n",
    "4. When p = k do:\n",
    "     Set countOnes = number of succeeding ones\n",
    "     res += (countOnes+1)\n",
    "     Increment start until p = k\n",
    "     and do res += (countOnes+1)\n",
    "5. Stop if end = n\n",
    "\n",
    "For k = 1:\n",
    "1. Find all segments in array in which \n",
    "   only 1 is present.\n",
    "2. Find length of each segment.\n",
    "3. Add length*(length+1) / 2 to result."
   ]
  },
  {
   "cell_type": "code",
   "execution_count": 5,
   "id": "5d9fb417",
   "metadata": {},
   "outputs": [
    {
     "name": "stdout",
     "output_type": "stream",
     "text": [
      "The total sub array/s with product 2 is/are : 4\n"
     ]
    }
   ],
   "source": [
    "#//------------------If K==1-------------------//\n",
    "def countone(arr):\n",
    "    n = len(arr)\n",
    "    i , Len, ans = 0, 0, 0\n",
    "    \n",
    "    while i < n:\n",
    "        \n",
    "        if (arr[i]==1):\n",
    "            Len = 0\n",
    "            \n",
    "            while (i<n and arr[i] == 1):\n",
    "                Len += 1\n",
    "                i += 1\n",
    "             \n",
    "            #Possible Sub arrays n(n+1)/2\n",
    "            ans += (Len*(Len+1))//2\n",
    "        i += 1\n",
    "    return ans\n",
    "\n",
    "#//--------------if K>1-------------------//\n",
    "def SubArrProdCounter(arr,k):\n",
    "    n = len(arr)\n",
    "    start, end , p , counter , res = 0, 0, 1, 0, 0\n",
    "    \n",
    "    while end < n:\n",
    "        p = p * (arr[end])\n",
    "        \n",
    "        if (p > k):\n",
    "            while(start <= end and p > k) :\n",
    "                p = p // arr[start]\n",
    "                start += 1\n",
    "        \n",
    "        if (p == k):\n",
    "            count = 0\n",
    "            \n",
    "            while (end+1 <n and arr[end+1] == 1):\n",
    "                count += 1\n",
    "                end += 1\n",
    "            res += (count + 1)\n",
    "            \n",
    "            while (start < end and arr[start] == 1 and k != 1):\n",
    "                res += (count + 1)\n",
    "                start += 1\n",
    "            \n",
    "            p = p // arr[start]\n",
    "            start += 1\n",
    "            \n",
    "        end += 1 \n",
    "    return res\n",
    "\n",
    "array = [ 2, 1, 1, 1, 4, 5]\n",
    "k = 2\n",
    "\n",
    "\n",
    "if k==1:\n",
    "    print(\"The total sub array/s with product {} is/are : {}\".format(k,countone(array) ))\n",
    "else:\n",
    "    print(\"The total sub array/s with product {} is/are : {}\".format(k,SubArrProdCounter(array,k) ))"
   ]
  },
  {
   "cell_type": "markdown",
   "id": "170d5a3c",
   "metadata": {},
   "source": [
    "#### Find whether an array is subset of another array | Added Method 5\n",
    "\n"
   ]
  },
  {
   "cell_type": "code",
   "execution_count": 6,
   "id": "949fd13a",
   "metadata": {},
   "outputs": [
    {
     "name": "stdout",
     "output_type": "stream",
     "text": [
      "[1, 3, 7, 11, 13, 21] [1, 3, 7, 13]\n"
     ]
    },
    {
     "data": {
      "text/plain": [
       "True"
      ]
     },
     "execution_count": 6,
     "metadata": {},
     "output_type": "execute_result"
    }
   ],
   "source": [
    "def FindSubset(arr1,arr2):\n",
    "    m = len(arr1)\n",
    "    n = len(arr2)\n",
    "    \n",
    "    arr1.sort()\n",
    "    arr2.sort()\n",
    "    \n",
    "    print(arr1, arr2)\n",
    "    i,j = 0, 0\n",
    "    while (i < m and j < n):\n",
    "        \n",
    "        if arr1[i] < arr2[j]:\n",
    "            i += 1\n",
    "        \n",
    "        if arr1[i] == arr2[j]:\n",
    "            i += 1\n",
    "            j += 1\n",
    "            \n",
    "        elif arr1[i] > arr2[j]:\n",
    "            return 0\n",
    "    \n",
    "    return False if i<n else True\n",
    "\n",
    "\n",
    "arr1 = [11, 1, 13, 21, 3, 7]\n",
    "arr2 = [13, 3, 7, 1]\n",
    "\n",
    "FindSubset(arr1,arr2)"
   ]
  },
  {
   "cell_type": "markdown",
   "id": "e18be849",
   "metadata": {},
   "source": [
    "#### Implement two stacks in an array\n"
   ]
  },
  {
   "cell_type": "code",
   "execution_count": 7,
   "id": "d31fda04",
   "metadata": {},
   "outputs": [
    {
     "name": "stdout",
     "output_type": "stream",
     "text": [
      "[4, 6, 8, 7, 3]\n",
      "6\n",
      "44\n"
     ]
    }
   ],
   "source": [
    "class twostacks:\n",
    "    \n",
    "    def __init__(self,n):\n",
    "        self.size = n\n",
    "        self.top1 = -1\n",
    "        self.arr = [None]*n\n",
    "        self.top2 = self.size\n",
    "        \n",
    "    def push1(self, x):\n",
    "        \n",
    "        if self.top1 < self.top2 - 1 :\n",
    "            self.top1 += 1\n",
    "            self.arr[self.top1] = x\n",
    "        else:\n",
    "            print(\"Stack Overflow\")\n",
    "            exit(1)\n",
    "    \n",
    "    def push2(self, x):\n",
    "        \n",
    "        if self.top1 < self.top2 - 1 :\n",
    "            self.top2 -= 1\n",
    "            self.arr[self.top2] = x\n",
    "        else:\n",
    "            print(\"Stack Overflow\")\n",
    "            exit(1)\n",
    "    \n",
    "    def pop1(self):\n",
    "        \n",
    "        if self.top1 > 0:\n",
    "            x = self.arr[self.top1]\n",
    "            self.top1 -= 1\n",
    "            return x\n",
    "            \n",
    "        else:\n",
    "            print(\"Stack Underflow\")\n",
    "            exit(1)\n",
    "            \n",
    "    \n",
    "    def pop2(self):\n",
    "        \n",
    "        if self.top2 < self.size:\n",
    "            x = self.arr[self.top2]\n",
    "            self.top2 += 1\n",
    "            return x\n",
    "            \n",
    "        else:\n",
    "            print(\"Stack Underflow\")\n",
    "            exit(1)\n",
    "\n",
    "\n",
    "#//-----------Driver Function-----------------//\n",
    "\n",
    "ts = twostacks(5)\n",
    "\n",
    "ts.push1(4)\n",
    "ts.push2(3)\n",
    "ts.push1(6)\n",
    "ts.push2(7)\n",
    "ts.push2(8)\n",
    "\n",
    "print(ts.arr)\n",
    "\n",
    "print(ts.pop1())\n",
    "ts.push2(44)\n",
    "print(ts.pop2())"
   ]
  },
  {
   "cell_type": "markdown",
   "id": "f10a2409",
   "metadata": {},
   "source": [
    "#### Find relative complement of two sorted arrays\n"
   ]
  },
  {
   "cell_type": "markdown",
   "id": "3b915c9f",
   "metadata": {},
   "source": [
    "We need to find the elements which are present in one array but not in another one."
   ]
  },
  {
   "cell_type": "code",
   "execution_count": 22,
   "id": "b9203846",
   "metadata": {},
   "outputs": [
    {
     "name": "stdout",
     "output_type": "stream",
     "text": [
      "3 12 15 "
     ]
    }
   ],
   "source": [
    "arr1= [3, 6, 10, 12, 15]\n",
    "arr2 = [1, 5, 6, 10, 16]\n",
    "\n",
    "\n",
    "def RelativeElements(arr1, arr2):\n",
    "    m = len(arr1)\n",
    "    n = len(arr2)\n",
    "    \n",
    "    i = 0\n",
    "    j = 0\n",
    "    \n",
    "    while (i<m and j<n):\n",
    "        \n",
    "        if arr1[i] < arr2[j] :\n",
    "            print(arr1[i], end = \" \")\n",
    "            i += 1\n",
    "            \n",
    "        elif arr1[i] > arr2[j] :\n",
    "            j += 1\n",
    "            \n",
    "        elif arr1[i] == arr2[j]:\n",
    "            i += 1\n",
    "            j += 1\n",
    "        \n",
    "    while i < m:\n",
    "        print(arr1[i], end = \" \")\n",
    "        i+=1\n",
    "    \n",
    "RelativeElements(arr1,arr2)"
   ]
  },
  {
   "cell_type": "markdown",
   "id": "c3989d99",
   "metadata": {},
   "source": [
    "#### Minimum increment by k operations to make all elements equal\n"
   ]
  },
  {
   "cell_type": "code",
   "execution_count": 33,
   "id": "14565358",
   "metadata": {},
   "outputs": [
    {
     "name": "stdout",
     "output_type": "stream",
     "text": [
      "Total operations required to make all elements equare are :  24\n"
     ]
    }
   ],
   "source": [
    "OperationsK = [21, 33, 9, 45, 63]\n",
    "\n",
    "def KoperatE(arr, k):\n",
    "    n = len(arr)\n",
    "    maxval = max(arr)\n",
    "    sum = 0\n",
    "    \n",
    "    for i in range(n):\n",
    "        if ((maxval - arr[i])% k) == 0:\n",
    "            sum += ((maxval - arr[i])/ k)\n",
    "        else:\n",
    "            return print(\"Making elements equal not possible \")\n",
    "    return print(\"Total operations required to make all elements equare are : \", int(sum))   \n",
    "        \n",
    "KoperatE(OperationsK , 6)"
   ]
  },
  {
   "cell_type": "markdown",
   "id": "8c3ae2ac",
   "metadata": {},
   "source": [
    "#### Minimize (max(A[i], B[j], C[k]) – min(A[i], B[j], C[k])) of three different sorted arrays\n"
   ]
  },
  {
   "cell_type": "code",
   "execution_count": 38,
   "id": "3a08ab86",
   "metadata": {},
   "outputs": [
    {
     "name": "stdout",
     "output_type": "stream",
     "text": [
      "4\n",
      "3\n",
      "1\n",
      "3\n",
      "1\n",
      "2\n",
      "1\n",
      "5\n"
     ]
    },
    {
     "data": {
      "text/plain": [
       "1"
      ]
     },
     "execution_count": 38,
     "metadata": {},
     "output_type": "execute_result"
    }
   ],
   "source": [
    "A = [ 5, 8, 10, 15 ]\n",
    "B = [ 6, 9, 15, 78, 89 ]\n",
    "C = [ 2, 3, 6, 6, 8, 8, 10 ]\n",
    "\n",
    "def MinAbsDiff(arr1,arr2,arr3):\n",
    "    l = len(arr1)\n",
    "    m = len(arr2)\n",
    "    n = len(arr3)\n",
    "    \n",
    "    i , j , k, ans = 0, 0, 0, 1000\n",
    "    \n",
    "    while (i<l and j<m and k< n):\n",
    "\n",
    "        if (max(arr1[i], arr2[j], arr3[k]) -  min(arr1[i], arr2[j], arr3[k])) < ans : \n",
    "            ans = (max(arr1[i], arr2[j], arr3[k]) -  min(arr1[i], arr2[j], arr3[k]))\n",
    "        \n",
    "        if (arr1[i] < arr2[j] and arr1[i] <= arr3[k]) : \n",
    "            i+=1\n",
    "            \n",
    "        if (arr2[j] < arr1[i] and arr2[j] <= arr3[k]) : \n",
    "            j+=1\n",
    "            \n",
    "        if (arr3[k] <= arr2[j] and arr3[k] < arr1[i]) : \n",
    "            k+=1\n",
    "            \n",
    "    \n",
    "    return ans\n",
    "MinAbsDiff(A,B,C)\n"
   ]
  },
  {
   "cell_type": "code",
   "execution_count": null,
   "id": "7af1a42b",
   "metadata": {},
   "outputs": [],
   "source": []
  }
 ],
 "metadata": {
  "kernelspec": {
   "display_name": "Python 3",
   "language": "python",
   "name": "python3"
  },
  "language_info": {
   "codemirror_mode": {
    "name": "ipython",
    "version": 3
   },
   "file_extension": ".py",
   "mimetype": "text/x-python",
   "name": "python",
   "nbconvert_exporter": "python",
   "pygments_lexer": "ipython3",
   "version": "3.8.8"
  }
 },
 "nbformat": 4,
 "nbformat_minor": 5
}
