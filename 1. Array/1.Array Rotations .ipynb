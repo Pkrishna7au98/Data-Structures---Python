{
 "cells": [
  {
   "cell_type": "code",
   "execution_count": 1,
   "id": "3f8504c1",
   "metadata": {},
   "outputs": [],
   "source": [
    "import numpy as np\n"
   ]
  },
  {
   "cell_type": "markdown",
   "id": "e7afde87",
   "metadata": {},
   "source": [
    "### Rotating a array of size n with d elements"
   ]
  },
  {
   "cell_type": "markdown",
   "id": "73472faf",
   "metadata": {},
   "source": [
    "#### METHOD 1 (Using temp array)"
   ]
  },
  {
   "cell_type": "code",
   "execution_count": 2,
   "id": "fadec0f6",
   "metadata": {},
   "outputs": [
    {
     "data": {
      "text/plain": [
       "[5, 6, 7, 8, 1, 2, 3, 4]"
      ]
     },
     "execution_count": 2,
     "metadata": {},
     "output_type": "execute_result"
    }
   ],
   "source": [
    "def LeftRotate(array_name,d):\n",
    "    n = len(array_name)\n",
    "    \n",
    "    if d<n:\n",
    "        temp= arr[d:n]\n",
    "        for i in range(d):\n",
    "            \n",
    "            temp.append(arr[i])\n",
    "        \n",
    "        return temp\n",
    "    \n",
    "    elif d>n:\n",
    "        d = d%n\n",
    "        temp= arr[d:n]\n",
    "        for i in range(d):\n",
    "             temp.append(arr[i])\n",
    "        \n",
    "        return temp\n",
    "    \n",
    "    else:\n",
    "        print(\"Invalid Arguments\")\n",
    "\n",
    "        \n",
    "arr =[ 1,2,3,4,5,6,7,8]        \n",
    "\n",
    "LeftRotate(arr,44)\n",
    "    \n"
   ]
  },
  {
   "cell_type": "markdown",
   "id": "70bc8843",
   "metadata": {},
   "source": [
    "#### METHOD 2 (Rotate one by one) "
   ]
  },
  {
   "cell_type": "code",
   "execution_count": 3,
   "id": "3fc942cb",
   "metadata": {},
   "outputs": [
    {
     "data": {
      "text/plain": [
       "[7, 8, 9, 3, 4, 5, 6]"
      ]
     },
     "execution_count": 3,
     "metadata": {},
     "output_type": "execute_result"
    }
   ],
   "source": [
    "my_arr = [3,4,5,6,7,8,9]\n",
    "n = len(my_arr)\n",
    "\n",
    "def RotateRight(arr,d):\n",
    "    n= len(arr)\n",
    "    for i in range(d):\n",
    "        LeftRotatebyOne(arr,n)\n",
    "    return arr\n",
    "        \n",
    "def LeftRotatebyOne(arr,n):\n",
    "    n= len(arr)                                         \n",
    "    tmp = arr[0]\n",
    "    for i in range(n-1):\n",
    "        arr[i] = arr[i+1]\n",
    "    arr[n-1] = tmp      \n",
    "    return arr\n",
    "        \n",
    "RotateRight(my_arr,11)\n",
    "#LeftRotatebyOne(my_arr,11)\n"
   ]
  },
  {
   "cell_type": "markdown",
   "id": "58eb0f95",
   "metadata": {},
   "source": [
    "#### METHOD 3 (Reversal algorithm for array rotation)"
   ]
  },
  {
   "cell_type": "raw",
   "id": "95936ddb",
   "metadata": {},
   "source": [
    "Let the array be arr[] = [1, 2, 3, 4, 5, 6, 7], d =2 and n = 7 \n",
    "A = [1, 2] and B = [3, 4, 5, 6, 7] \n",
    " \n",
    "\n",
    "Reverse A, we get ArB = [2, 1, 3, 4, 5, 6, 7]\n",
    "Reverse B, we get ArBr = [2, 1, 7, 6, 5, 4, 3]\n",
    "Reverse all, we get (ArBr)r = [3, 4, 5, 6, 7, 1, 2]"
   ]
  },
  {
   "cell_type": "code",
   "execution_count": 4,
   "id": "4a8bf01d",
   "metadata": {},
   "outputs": [
    {
     "name": "stdout",
     "output_type": "stream",
     "text": [
      "[6, 7, 8, 9, 0, 1, 2, 3, 4, 5]\n"
     ]
    }
   ],
   "source": [
    "def reverseArray(arr, start, end):\n",
    "    \n",
    "    while (start<end):\n",
    "        temp = arr[start]\n",
    "        arr[start] = arr[end]\n",
    "        arr[end] = temp\n",
    "        start +=1\n",
    "        end -=1\n",
    "    return arr\n",
    "\n",
    "def LeftRotate(arr,d):\n",
    "    \n",
    "    n = len(arr)\n",
    "    \n",
    "    if d<n:\n",
    "        reverseArray(arr,0,d-1)\n",
    "        reverseArray(arr,d,n-1)\n",
    "        reverseArray(arr,0,n-1)\n",
    "        \n",
    "    return(print(arr))\n",
    "\n",
    "    \n",
    "array = [1,2,3,4,5,6,7,8,9,0]\n",
    "\n",
    "LeftRotate(array,5)"
   ]
  },
  {
   "cell_type": "markdown",
   "id": "d84982ff",
   "metadata": {},
   "source": [
    "#### METHOD 4(Block swap algorithm for array rotation)"
   ]
  },
  {
   "cell_type": "code",
   "execution_count": 5,
   "id": "80b3d312",
   "metadata": {},
   "outputs": [
    {
     "name": "stdout",
     "output_type": "stream",
     "text": [
      "3 4 5 6 7 8 9 0 1 2 \n"
     ]
    }
   ],
   "source": [
    "# Wrapper over the recursive function leftRotateRec()\n",
    "# It left rotates arr by d.\n",
    "def leftRotate(arr, d, n):\n",
    "    leftRotateRec(arr, 0, d, n)\n",
    "    \n",
    "\n",
    "def leftRotateRec(arr, i, d, n):\n",
    "    '''\n",
    "     * Return If number of elements to be\n",
    "     rotated is zero or equal to array size\n",
    "     '''\n",
    "    if (d == 0 or d == n):\n",
    "        return\n",
    " \n",
    "    '''\n",
    "     * If number of elements to be rotated\n",
    "     is exactly half of array size\n",
    "     '''\n",
    "    if (n - d == d):\n",
    "        swap(arr, i, n - d + i, d)\n",
    "        return\n",
    " \n",
    "    ''' If A is shorter '''\n",
    "    if (d < n - d):\n",
    "        swap(arr, i, n - d + i, d)\n",
    "        leftRotateRec(arr, i, d, n - d)\n",
    "        ''' If B is shorter '''\n",
    "    else:\n",
    "        swap(arr, i, d, n - d)\n",
    "         \n",
    "        ''' This is tricky '''\n",
    "        leftRotateRec(arr, n - d + i, 2 * d - n, d)\n",
    " \n",
    "''' UTILITY FUNCTIONS '''\n",
    "''' function to pran array '''\n",
    "def printArray(arr, size):\n",
    "    for i in range(size):\n",
    "        print(arr[i], end = \" \")\n",
    "    print()\n",
    "\n",
    "'''\n",
    " * This function swaps d elements starting at\n",
    " * index fi with d elements starting at index si\n",
    " '''\n",
    "def swap(arr, fi, si, d):\n",
    "    for i in range(d):\n",
    "        temp = arr[fi + i]\n",
    "        arr[fi + i] = arr[si + i]\n",
    "        arr[si + i] = temp\n",
    " \n",
    "#Driver Code\n",
    "if __name__ == '__main__':\n",
    "    arr = [1, 2, 3, 4, 5, 6, 7, 8, 9, 0]\n",
    "    leftRotate(arr, 2, 10)\n",
    "    printArray(arr, 10)\n",
    " "
   ]
  },
  {
   "cell_type": "markdown",
   "id": "d27916a2",
   "metadata": {},
   "source": [
    "#### Program to cyclically rotate an array by one"
   ]
  },
  {
   "cell_type": "code",
   "execution_count": 38,
   "id": "fef1b9de",
   "metadata": {},
   "outputs": [
    {
     "data": {
      "text/plain": [
       "[6, 1, 2, 3, 4, 5]"
      ]
     },
     "execution_count": 38,
     "metadata": {},
     "output_type": "execute_result"
    }
   ],
   "source": [
    "def rotate(arr):\n",
    "    \n",
    "    n = len(arr)\n",
    "    x=arr[n-1]\n",
    "    for i in range(n-1,0,-1):\n",
    "        arr[i] = arr[i-1]\n",
    "    \n",
    "    arr[0] = x\n",
    "    return arr\n",
    "\n",
    "arr = [1,2,3,4,5,6]\n",
    "\n",
    "rotate(arr)"
   ]
  },
  {
   "cell_type": "markdown",
   "id": "9e8d25f8",
   "metadata": {},
   "source": [
    "#### Given a sorted and rotated array, find if there is a pair with a given sum"
   ]
  },
  {
   "cell_type": "raw",
   "id": "c71efc8c",
   "metadata": {},
   "source": [
    "How to count all pairs having sum x? \n",
    "The stepwise algorithm is:  \n",
    "\n",
    "1. Find the pivot element of the sorted and the rotated array. The pivot element is the largest element in the array. The smallest element will be adjacent to it.\n",
    "2. Use two pointers (say left and right) with the left pointer pointing to the smallest element and the right pointer pointing to largest element.\n",
    "3. Find the sum of the elements pointed by both the pointers.\n",
    "4. If the sum is equal to x, then increment the count. If the sum is less than x, then to increase sum move the left pointer to next position by incrementing it in a rotational manner. If the sum is greater than x, then to decrease sum move the right pointer to next position by decrementing it in rotational manner.\n",
    "5. Repeat step 3 and 4 until the left pointer is not equal to the right pointer or until the left pointer is not equal to right pointer – 1.\n",
    "6. Print final count. "
   ]
  },
  {
   "cell_type": "code",
   "execution_count": 7,
   "id": "31f19427",
   "metadata": {},
   "outputs": [
    {
     "name": "stdout",
     "output_type": "stream",
     "text": [
      "Total 0 pair/s found\n"
     ]
    }
   ],
   "source": [
    "array = [154444,64,34,800,242,60,22,0,5,2,1]\n",
    "\n",
    "#First of all we sorted the array\n",
    "def sort(arr):\n",
    "    j= len(arr)-1 \n",
    "    \n",
    "    for i in range(j):\n",
    "        if arr[i]<arr[i+1]:\n",
    "\n",
    "            for i in range(j):\n",
    "                if arr[i]>arr[i+1]:\n",
    "                    arr[i],arr[i+1] = arr[i+1], arr[i]\n",
    "    return arr  \n",
    "\n",
    "sort(array)\n",
    "\n",
    "#Now we know the index of smallest value and the largest value\n",
    "\n",
    "#Checking for the sum desired\n",
    "\n",
    "def sum(arr,s):\n",
    "    sort(arr)\n",
    "    count = 0\n",
    "    for i in range(len(arr)-1):\n",
    "        for j in range(len(arr)-1):\n",
    "            if arr[i] + arr[j] == s: \n",
    "                count +=1\n",
    "                print(\"the elements are {} and {}\".format(arr[i] , arr[j]))\n",
    "                \n",
    "    print(\"Total {} pair/s found\".format(count))\n",
    "                    \n",
    "    \n",
    "sum(arr,24)\n"
   ]
  },
  {
   "cell_type": "markdown",
   "id": "9f63d1d7",
   "metadata": {},
   "source": [
    "#### Find maximum value of Sum( i*arr[i]) with (only rotations) all rotations on given array allowed"
   ]
  },
  {
   "cell_type": "code",
   "execution_count": 8,
   "id": "b2de4aba",
   "metadata": {},
   "outputs": [
    {
     "name": "stdout",
     "output_type": "stream",
     "text": [
      "The possible sum of the array is  152\n"
     ]
    }
   ],
   "source": [
    "array = [1,20,2,4,7,10]\n",
    "\n",
    "n = len(array)\n",
    "\n",
    "def index_sum(arr):\n",
    "    p = 0\n",
    "    for i,val in enumerate(array):\n",
    "        p = p + i*val       \n",
    "    return p\n",
    "\n",
    "def RotatebyOne(arr):\n",
    "    n= len(arr)\n",
    "    tmp = arr[0]\n",
    "    for i in range(n-1):\n",
    "        arr[i] = arr[i+1]\n",
    "    arr[n-1] = tmp\n",
    "\n",
    "def max_sum(arr):\n",
    "    sums = []\n",
    "    for i in range(9):\n",
    "        sums.append(index_sum(arr))\n",
    "        RotatebyOne(arr)\n",
    "    \n",
    "    return max(sums)\n",
    "\n",
    "print(\"The possible sum of the array is \", max_sum(array))"
   ]
  },
  {
   "cell_type": "markdown",
   "id": "1aeb3d03",
   "metadata": {},
   "source": [
    "#### Find the Rotation Count in Rotated Sorted array"
   ]
  },
  {
   "cell_type": "raw",
   "id": "057149a6",
   "metadata": {},
   "source": [
    "#Lets say our original SORTED array was [1,2,3,4,5] , and now the array is [4,5,1,2,3].\n",
    "#So we know by looking at the array that it was rotated 3 times to get the new array. \n",
    "#now for a given array we need to find the rotations done to get the new array with help of programming"
   ]
  },
  {
   "cell_type": "code",
   "execution_count": 9,
   "id": "19efb4cd",
   "metadata": {},
   "outputs": [
    {
     "name": "stdout",
     "output_type": "stream",
     "text": [
      "Total rotations were made, are 5\n"
     ]
    }
   ],
   "source": [
    "# Our original array is [3,4,5,6,7,8,9]\n",
    "\n",
    "p = [5,6,7,8,9,3,4]    \n",
    "\n",
    "def rotate(arr):\n",
    "    \n",
    "    n = len(arr)\n",
    "    x=arr[n-1]\n",
    "    for i in range(n-1,0,-1):\n",
    "        arr[i] = arr[i-1]\n",
    "    \n",
    "    arr[0] = x\n",
    "    return arr\n",
    "\n",
    "\n",
    "rotate(arr)\n",
    "\n",
    "#First of all we will sort the array and then rotate it and match with our array, with counting\n",
    "\n",
    "def sort(arr):\n",
    "    j= len(arr)-1 \n",
    "    \n",
    "    for i in range(j):\n",
    "        if arr[i]<arr[i+1]:\n",
    "            for i in range(j):\n",
    "                if arr[i]>arr[i+1]:\n",
    "                    arr[i],arr[i+1] = arr[i+1], arr[i]\n",
    "    return arr \n",
    "\n",
    "def findRotations(array_fr):\n",
    "    \n",
    "    arr_sort= sort(p.copy())\n",
    "    count = 0\n",
    "    \n",
    "    for i in range(len(arr_sort)):\n",
    "        if arr_sort == array_fr:\n",
    "            break\n",
    "        \n",
    "        else:\n",
    "            rotate(array_fr)\n",
    "            count+=1\n",
    "            \n",
    "    return print(\"Total rotations were made, are {}\".format(len(array_fr) - count))\n",
    "\n",
    "findRotations(p)          "
   ]
  },
  {
   "cell_type": "markdown",
   "id": "2ae4e06c",
   "metadata": {},
   "source": [
    "#### Quickly find multiple left rotations of an array"
   ]
  },
  {
   "cell_type": "code",
   "execution_count": 22,
   "id": "05f18ab4",
   "metadata": {},
   "outputs": [
    {
     "name": "stdout",
     "output_type": "stream",
     "text": [
      "original array is  [1, 2, 3, 4, 5, 6, 7, 8, 9]\n",
      "The 1 roation is  [2, 3, 4, 5, 6, 7, 8, 9, 1]\n",
      "The 2 roation is  [3, 4, 5, 6, 7, 8, 9, 1, 2]\n",
      "The 3 roation is  [4, 5, 6, 7, 8, 9, 1, 2, 3]\n",
      "The 4 roation is  [5, 6, 7, 8, 9, 1, 2, 3, 4]\n"
     ]
    }
   ],
   "source": [
    "\"\"\"This means we have a array and we want first 3 rotations of the array, then we follow the below \n",
    "#program\"\"\"\n",
    "\n",
    "my_arr = [1,2,3,4,5,6,7,8,9]\n",
    "\n",
    "print(\"original array is \", my_arr)\n",
    "def LeftRotate(arr):\n",
    "    n = len(arr)\n",
    "    \n",
    "    for i in range(n-1):\n",
    "            \n",
    "        temp = arr[i]\n",
    "        arr[i] = arr[i+1]\n",
    "        arr[i+1] = temp\n",
    "    \n",
    "    return arr\n",
    "\n",
    "def findNrotations(arr,d):\n",
    "    for i in range(d):\n",
    "        LeftRotate(arr)\n",
    "        print(\"The {} roation is \".format(i+1), arr)\n",
    "\n",
    "findNrotations(my_arr, 4)"
   ]
  },
  {
   "cell_type": "markdown",
   "id": "49156d3b",
   "metadata": {},
   "source": [
    "#### Find the minimum element in a sorted and rotated array"
   ]
  },
  {
   "cell_type": "code",
   "execution_count": 57,
   "id": "3282c099",
   "metadata": {},
   "outputs": [
    {
     "data": {
      "text/plain": [
       "1"
      ]
     },
     "execution_count": 57,
     "metadata": {},
     "output_type": "execute_result"
    }
   ],
   "source": [
    "#We have a array which was sorted and rotated unknown number of times.\n",
    "#Now we need to find the min element present in the array efficiently\n",
    "\n",
    "\n",
    "def findMinElement(arr,low, high):\n",
    "    \n",
    "    if high<low:\n",
    "        return arr[0]\n",
    "    \n",
    "    if high  == low:\n",
    "        return arr[low]\n",
    "    \n",
    "    mid = int((low +high)/2)\n",
    "        \n",
    "    if (mid > low and arr[mid] < arr[mid-1]):\n",
    "        return arr[mid]\n",
    "        \n",
    "    if (mid < high and arr[mid+1] < arr[mid]):\n",
    "        return arr[mid+1]\n",
    "        \n",
    "    if arr[mid] < arr[high]:\n",
    "        return findMinElement(arr, low, mid-1)\n",
    "                    \n",
    "    return findMinElement(arr,mid+1,high)\n",
    "            \n",
    "\n",
    "my = [4,5,6,7,8,1,2,3]    \n",
    "\n",
    "findMinElement(my,0,7)"
   ]
  },
  {
   "cell_type": "markdown",
   "id": "5b2d7e3c",
   "metadata": {},
   "source": [
    "#### Finding a rotation with maximum hamming distance"
   ]
  },
  {
   "cell_type": "code",
   "execution_count": 35,
   "id": "d0ec6fd5",
   "metadata": {},
   "outputs": [
    {
     "name": "stdout",
     "output_type": "stream",
     "text": [
      "The maximum hamming distance found is 4\n"
     ]
    }
   ],
   "source": [
    "my_arr = [2,3,8,0]\n",
    "\n",
    "def rotate(arr):\n",
    "    n = len(arr)\n",
    "    \n",
    "    for i in range(n):\n",
    "        arr[i],arr[n-1] = arr[n-1], arr[i]\n",
    "            \n",
    "    return arr\n",
    "    \n",
    "\n",
    "def MaxHammDistance(arr):\n",
    "    \n",
    "    l = len(arr)   \n",
    "    arr1 = arr.copy()\n",
    "    counts = []\n",
    "    \n",
    "    for i in range(l):\n",
    "        count = 0\n",
    "        rotate(arr1)\n",
    "        \n",
    "        for p in range(l):\n",
    "            if arr[p] != arr1[p]:\n",
    "                count +=1\n",
    "        counts.append(count)\n",
    "\n",
    "    return print(\"The maximum hamming distance found is {}\".format(max(counts)))\n",
    "    \n",
    "MaxHammDistance(my_arr)    "
   ]
  },
  {
   "cell_type": "markdown",
   "id": "4dba085f",
   "metadata": {},
   "source": [
    "#### Queries on Left and Right Circular shift on array"
   ]
  },
  {
   "cell_type": "code",
   "execution_count": 66,
   "id": "34655c43",
   "metadata": {},
   "outputs": [
    {
     "name": "stdout",
     "output_type": "stream",
     "text": [
      "[5, 7, 1, 9, 2, 6, 4]\n"
     ]
    },
    {
     "data": {
      "text/plain": [
       "30"
      ]
     },
     "execution_count": 66,
     "metadata": {},
     "output_type": "execute_result"
    }
   ],
   "source": [
    " my_arr = [2,6,4,5,7,1,9]\n",
    "    \n",
    "def LeftRotate(arr,m):\n",
    "    n = len(arr)\n",
    "    for p in range(m):\n",
    "        for i in range(n-1):\n",
    "            arr[i],arr[i+1] = arr[i+1],arr[i]\n",
    "        \n",
    "    return arr\n",
    "\n",
    "def RightRotate(arr,m):\n",
    "    n = len(arr)\n",
    "    for p in range(m):\n",
    "        for i in range(n-1):\n",
    "            arr[i],arr[n-1] = arr[n-1],arr[i]\n",
    "        \n",
    "    return arr\n",
    "\n",
    "\n",
    "def SumWithRotations(arr,m,k,p):\n",
    "    LeftRotate(arr,m)\n",
    "    sum = 0\n",
    "    print(arr)\n",
    "    for i in range(k,p):\n",
    "        sum = sum+arr[i]\n",
    "    \n",
    "    return sum\n",
    "\n",
    "#Here the parameters are , array , rotations you want , first index number to start sum, last index number till you want the sum\n",
    "SumWithRotations(my_arr,3,0,6)"
   ]
  },
  {
   "cell_type": "markdown",
   "id": "de8284a8",
   "metadata": {},
   "source": [
    "#### Find element at given index after a number of rotations"
   ]
  },
  {
   "cell_type": "raw",
   "id": "f9352201",
   "metadata": {},
   "source": [
    "Here we need to find a element at given index after several rotations given for a particular range of the array.\n",
    "\n",
    "for example we want to rotate a array and only 4 elements of it from index number 2 to 5. then we want to find the value at index 4 in the array. \n",
    "\n",
    "example:  [1,2,3,4,5,6,7,8,9,0]\n",
    "    \n",
    "rotations from index 2 to 5\n",
    "\n",
    "we get    [1,2,6,3,4,5,7,8,9,0]\n",
    "\n",
    "now value at index 4 is 4."
   ]
  },
  {
   "cell_type": "code",
   "execution_count": 131,
   "id": "06a81e5c",
   "metadata": {},
   "outputs": [
    {
     "name": "stdout",
     "output_type": "stream",
     "text": [
      "The value at index 4 is 7 , after the given manipulations\n"
     ]
    }
   ],
   "source": [
    "my_arr = [2,3,4,5,6,7,8,9]\n",
    "\n",
    "\n",
    "def  rotate(arr,k,fi,li):\n",
    "    if fi and li in range(len(arr)):\n",
    "        for o in range(k):\n",
    "            for i in range(fi,li):\n",
    "                arr[i],arr[li] = arr[li],arr[i]\n",
    "        return arr\n",
    "        \n",
    "    else:\n",
    "        print(\"Check the given values of fi and li (must be in range of the array length)\")\n",
    "        \n",
    "def findIndexValue(arr,k,fi,li,index):\n",
    "    arr1 = rotate(arr,k,fi,li)\n",
    "    val = arr1[index]\n",
    "    return print(\"The value at index {} is {} , after the given manipulations\".format(index,val))\n",
    "\n",
    "findIndexValue(my_arr,3,2,5,4)\n",
    "\n"
   ]
  },
  {
   "cell_type": "markdown",
   "id": "1039e921",
   "metadata": {},
   "source": [
    "#### Split the array and add the first part to the end"
   ]
  },
  {
   "cell_type": "raw",
   "id": "80fc36f9",
   "metadata": {},
   "source": [
    "#a given array [1,2,5,43,6,7,8,9,0,98,7]\n",
    "\n",
    "split this array at index n (exclusive)\n",
    "\n",
    "add the first part at the end of second part\n",
    "\n",
    "example : [1,2,5,43,6,7,8,9,0,98,7]\n",
    "    splitted at index 4\n",
    "    new splitted arrays [1,2,5,43] and [6,7,8,9,0,98,7]\n",
    "    \n",
    "    now adding the first part at the end of second part\n",
    "    \n",
    "    output : [6,7,8,9,0,98,7,1,2,5,43]"
   ]
  },
  {
   "cell_type": "code",
   "execution_count": 175,
   "id": "ba3f253d",
   "metadata": {},
   "outputs": [
    {
     "name": "stdout",
     "output_type": "stream",
     "text": [
      "Method one output [8, 9, 0, 98, 7, 1, 2, 5, 43, 6, 7]\n",
      "[8, 9, 0, 98, 7, 1, 2, 5, 43, 6, 7]\n"
     ]
    }
   ],
   "source": [
    "my_arr = [1,2,5,43,6,7,8,9,0,98,7]\n",
    "\n",
    "def splitArrAdd0(arr,index  ):\n",
    "    \n",
    "    n = len(arr)\n",
    "    \n",
    "    for i in range(index):\n",
    "        for j in range(n-1):\n",
    "            arr[j], arr[n-1] = arr[n-1], arr[j]\n",
    "    return arr\n",
    "\n",
    "print(\"Method one output\",splitArrAdd0(my_arr,5))\n",
    "\n",
    "\n",
    "#-----------------// ALTERNATE METHOD//-----------------------\n",
    "my_arr1 = [1,2,5,43,6,7,8,9,0,98,7]\n",
    "\n",
    "def splitArrAdd1(arr,index):\n",
    "    m = len(arr)\n",
    "    arr1 = arr+arr\n",
    "    n = len(arr1)\n",
    "    for i in range(index):\n",
    "        for j in range(n-1):\n",
    "            arr1[j], arr1[n-1] = arr1[n-1], arr1[j]\n",
    "    \n",
    "    print(arr1[:m])\n",
    "    \n",
    "splitArrAdd1(my_arr1,5)"
   ]
  },
  {
   "cell_type": "code",
   "execution_count": null,
   "id": "f3c50911",
   "metadata": {},
   "outputs": [],
   "source": []
  }
 ],
 "metadata": {
  "kernelspec": {
   "display_name": "Python 3",
   "language": "python",
   "name": "python3"
  },
  "language_info": {
   "codemirror_mode": {
    "name": "ipython",
    "version": 3
   },
   "file_extension": ".py",
   "mimetype": "text/x-python",
   "name": "python",
   "nbconvert_exporter": "python",
   "pygments_lexer": "ipython3",
   "version": "3.8.8"
  }
 },
 "nbformat": 4,
 "nbformat_minor": 5
}
