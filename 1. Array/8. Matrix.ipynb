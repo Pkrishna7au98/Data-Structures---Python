{
 "cells": [
  {
   "cell_type": "code",
   "execution_count": 1,
   "id": "3426611b",
   "metadata": {},
   "outputs": [],
   "source": [
    "import numpy as np\n",
    "import math\n",
    "import sys"
   ]
  },
  {
   "cell_type": "markdown",
   "id": "b8594080",
   "metadata": {},
   "source": [
    "#### Rotate Matrix Elements"
   ]
  },
  {
   "cell_type": "code",
   "execution_count": 2,
   "id": "7f8f744f",
   "metadata": {},
   "outputs": [
    {
     "name": "stdout",
     "output_type": "stream",
     "text": [
      "[5, 1, 2, 3]\n",
      "[9, 10, 6, 4]\n",
      "[13, 11, 7, 8]\n",
      "[14, 15, 16, 12]\n"
     ]
    }
   ],
   "source": [
    "matrixInv =[\n",
    "            [1,  2,  3,  4 ],\n",
    "            [5,  6,  7,  8 ],\n",
    "            [9,  10, 11, 12 ],\n",
    "            [13, 14, 15, 16 ] \n",
    "        ]\n",
    "\n",
    "def RotateMatrix(mat):\n",
    "    if not len(mat):\n",
    "        return\n",
    "    \n",
    "    top = 0\n",
    "    bottom = len(mat)\n",
    "    left = 0\n",
    "    right = len(mat[0])\n",
    "    \n",
    "    while (left < right-1 and top < bottom-1): \n",
    "        \n",
    "        prev = mat[top+1][left]\n",
    "\n",
    "        for i in range(left , right):\n",
    "            curr = mat[top][i]\n",
    "            mat[top][i] = prev\n",
    "            prev = curr\n",
    "        top +=1\n",
    "            \n",
    "        for j in range(top , bottom):\n",
    "            curr = mat[j][right-1]\n",
    "            mat[j][right-1] = prev\n",
    "            prev = curr\n",
    "        right -= 1\n",
    "        \n",
    "        for k in range(right-1 , left-1, -1):\n",
    "            curr = mat[bottom-1][k]\n",
    "            mat[bottom-1][k] = prev\n",
    "            prev = curr\n",
    "        bottom -= 1\n",
    "\n",
    "        for l in range(bottom-1 , top-1,-1):\n",
    "            curr = mat[l][left]\n",
    "            mat[l][left] = prev\n",
    "            prev = curr\n",
    "        left += 1\n",
    "        \n",
    "    return mat\n",
    "\n",
    "RotateMatrix(matrixInv)\n",
    "\n",
    "for p in matrixInv:\n",
    "    print(p)"
   ]
  },
  {
   "cell_type": "markdown",
   "id": "99e56464",
   "metadata": {},
   "source": [
    "#### Inplace rotate square matrix by 90 degrees | Set 1\n"
   ]
  },
  {
   "cell_type": "markdown",
   "id": "8fb09367",
   "metadata": {},
   "source": [
    "#### Time Complexity O(n^2) and Space Complexity O(n)"
   ]
  },
  {
   "cell_type": "code",
   "execution_count": 3,
   "id": "81770a05",
   "metadata": {},
   "outputs": [
    {
     "name": "stdout",
     "output_type": "stream",
     "text": [
      "[4, 8, 12, 16]\n",
      "[3, 7, 11, 15]\n",
      "[2, 6, 10, 14]\n",
      "[1, 5, 9, 13]\n"
     ]
    }
   ],
   "source": [
    "matrix90 = [[1, 2, 3, 4 ],\n",
    "            [5, 6, 7, 8 ],\n",
    "            [9, 10, 11, 12 ],\n",
    "            [13, 14, 15, 16 ]]\n",
    "\n",
    "#Created a copy \n",
    "ppx = [ [1, 2, 3, 4 ],\n",
    "        [5, 6, 7, 8 ],\n",
    "        [9, 10, 11, 12 ],\n",
    "        [13, 14, 15, 16 ]]\n",
    "\n",
    "\n",
    "def Rotate90(mat,newmat):\n",
    "    n= len(mat)\n",
    "    \n",
    "    for j in range(n):\n",
    "        for i in range(n):\n",
    "            newmat[j][i] = mat[i][n-1-j]\n",
    "\n",
    "    return newmat\n",
    "Rotate90(matrix90 ,ppx)\n",
    "\n",
    "for rows in ppx:\n",
    "    print(rows)"
   ]
  },
  {
   "cell_type": "markdown",
   "id": "da5e8690",
   "metadata": {},
   "source": [
    "#### Rotate a matrix by 90 degree without using any extra space | Set 2\n"
   ]
  },
  {
   "cell_type": "markdown",
   "id": "8f08e088",
   "metadata": {},
   "source": [
    "(attachment:https://media.geeksforgeeks.org/wp-content/uploads/20200407035007/untitled215.png)"
   ]
  },
  {
   "cell_type": "raw",
   "id": "525979a4",
   "metadata": {},
   "source": [
    "We can solve this in two steps. 1. Getting the transpose of the matrix and 2. then reversing the columns we have got from step 1. This would solve our problem and the matrix will be rotated by 90 degree without using any extra space."
   ]
  },
  {
   "cell_type": "code",
   "execution_count": 4,
   "id": "222cdc98",
   "metadata": {},
   "outputs": [
    {
     "data": {
      "text/plain": [
       "[[7, 9, 11, 13, 14],\n",
       " [4, 8, 12, 16, 14],\n",
       " [3, 7, 11, 15, 14],\n",
       " [2, 6, 10, 14, 14],\n",
       " [1, 5, 9, 13, 14]]"
      ]
     },
     "execution_count": 4,
     "metadata": {},
     "output_type": "execute_result"
    }
   ],
   "source": [
    "mat0Sp =   [[1, 2, 3, 4, 7 ],\n",
    "            [5, 6, 7, 8, 9 ],\n",
    "            [9, 10, 11, 12, 11 ],\n",
    "            [13, 14, 15, 16, 13 ],\n",
    "            [14, 14, 14, 14, 14] ]\n",
    "\n",
    "#Transposing the matrix \n",
    "def Transpose(mat):\n",
    "    n = len(mat)\n",
    "    for j in range(n):\n",
    "        for i in range(j,n):\n",
    "            t = mat[i][j]\n",
    "            mat[i][j] = mat[j][i]\n",
    "            mat[j][i] = t\n",
    "    return mat\n",
    "\n",
    "#Reversing the rows\n",
    "\n",
    "def reverse(mat1):\n",
    "    n = len(mat1)\n",
    "    j = n-1\n",
    "    for i in range(int(n/2)):\n",
    "        mat1[i],mat1[j] = mat1[j],mat1[i]\n",
    "        j-=1\n",
    "    return mat1\n",
    "\n",
    "tpm = Transpose(mat0Sp)\n",
    "reverse(tpm)\n",
    "\n"
   ]
  },
  {
   "cell_type": "markdown",
   "id": "41ec9f24",
   "metadata": {},
   "source": [
    "#### Rotate a Matrix by 180 degree\n"
   ]
  },
  {
   "cell_type": "raw",
   "id": "9ddbd116",
   "metadata": {},
   "source": [
    "TO do this, we can reverse our matrix two times. 1 horizontally and 2. vertically"
   ]
  },
  {
   "cell_type": "markdown",
   "id": "6d4f1383",
   "metadata": {},
   "source": [
    "###### Methods : Position swapping , In-place rotation , 90 + 90 rotation"
   ]
  },
  {
   "cell_type": "markdown",
   "id": "129dd840",
   "metadata": {},
   "source": [
    "###### Can be done using above given methods or the first method"
   ]
  },
  {
   "cell_type": "markdown",
   "id": "bf057734",
   "metadata": {},
   "source": [
    "^^^^^^^^^^^^^^^^^^^^^^^^^^^^^^^^^^^^^^^^^^^^^^^^^^^^^^^^^^^^^^^^^^^^^^^^^^^^^^^^^^^^^^^^^^^^^"
   ]
  },
  {
   "cell_type": "markdown",
   "id": "04f8e065",
   "metadata": {},
   "source": [
    "#### Rotate each ring of matrix anticlockwise by K elements"
   ]
  },
  {
   "cell_type": "raw",
   "id": "df685450",
   "metadata": {},
   "source": [
    "Given a matrix of order M*N and a value K, the task is to rotate each ring of the matrix anticlockwise by K elements. If in any ring elements are less than and equal K then don’t rotate it."
   ]
  },
  {
   "cell_type": "code",
   "execution_count": 5,
   "id": "ccc74d7a",
   "metadata": {},
   "outputs": [
    {
     "name": "stdout",
     "output_type": "stream",
     "text": [
      "[4, 8, 12, 16]\n",
      "[3, 10, 6, 15]\n",
      "[2, 11, 7, 14]\n",
      "[1, 5, 9, 13]\n"
     ]
    }
   ],
   "source": [
    "def Rotmatrix(matrix):\n",
    "    top = 0\n",
    "    bottom = len(matrix)\n",
    "    left = 0\n",
    "    right = len(matrix[0])\n",
    "    \n",
    "    while (left < right-1 and top < bottom-1): \n",
    "        \n",
    "        prev = matrix[top+1][left]\n",
    "\n",
    "        for i in range(left , right):\n",
    "            curr = matrix[top][i]\n",
    "            matrix[top][i] = prev\n",
    "            prev = curr\n",
    "        top +=1\n",
    "            \n",
    "        for j in range(top , bottom):\n",
    "            curr = matrix[j][right-1]\n",
    "            matrix[j][right-1] = prev\n",
    "            prev = curr\n",
    "        right -= 1\n",
    "        \n",
    "        for k in range(right-1 , left-1, -1):\n",
    "            curr = matrix[bottom-1][k]\n",
    "            matrix[bottom-1][k] = prev\n",
    "            prev = curr\n",
    "        bottom -= 1\n",
    "\n",
    "        for l in range(bottom-1 , top-1,-1):\n",
    "            curr = matrix[l][left]\n",
    "            matrix[l][left] = prev\n",
    "            prev = curr\n",
    "        left += 1\n",
    "        \n",
    "    return matrix\n",
    "\n",
    "\n",
    "matrixK =  [[1, 2, 3, 4 ],\n",
    "            [5, 6, 7, 8],\n",
    "            [9, 10, 11, 12],\n",
    "            [13, 14, 15, 16]]\n",
    "k=3\n",
    "for i in range(9):  # we used 9 because its a right rotating function, we can use the left rotating funtion for smaller value\n",
    "    Rotmatrix(matrixK)\n",
    "\n",
    "for rows in matrixK:\n",
    "    print(rows)"
   ]
  },
  {
   "cell_type": "markdown",
   "id": "e39724c9",
   "metadata": {},
   "source": [
    "#### Check if all rows of a matrix are circular rotations of each other\n"
   ]
  },
  {
   "cell_type": "code",
   "execution_count": 6,
   "id": "15d91927",
   "metadata": {
    "scrolled": true
   },
   "outputs": [
    {
     "name": "stdout",
     "output_type": "stream",
     "text": [
      "Yes this matrix has all rows in rotation\n"
     ]
    }
   ],
   "source": [
    "def isPermutedMatrix(mat, n) :\n",
    "\n",
    "    str_cat = \"\"\n",
    "    for i in range(n) :\n",
    "        str_cat = str_cat + \"-\" + str(mat[0][i])\n",
    " \n",
    "    str_cat = str_cat + str_cat\n",
    "\n",
    "    for i in range(1, n) :\n",
    "\n",
    "        curr_str = \"\"\n",
    "         \n",
    "        for j in range(n) :\n",
    "            curr_str = curr_str + \"-\" + str(mat[i][j])\n",
    "\n",
    "        if (str_cat.find(curr_str)) < 0:\n",
    "            return False\n",
    "\n",
    "    return True\n",
    "\n",
    "if __name__ == \"__main__\" :\n",
    "    n = 4\n",
    "    mat = [[1, 2, 3, 4],\n",
    "           [4, 1, 2, 3],\n",
    "           [3, 4, 1, 2],\n",
    "           [2, 3, 4, 1]]\n",
    "     \n",
    "    if (isPermutedMatrix(mat, n)):\n",
    "        print(\"Yes this matrix has all rows in rotation\")\n",
    "    else :\n",
    "        print(\"No it does not have one or more rows in rotation\")\n"
   ]
  },
  {
   "cell_type": "markdown",
   "id": "1c8a6448",
   "metadata": {},
   "source": [
    "#### Sort the given matrix\n"
   ]
  },
  {
   "cell_type": "code",
   "execution_count": 7,
   "id": "05970f47",
   "metadata": {
    "scrolled": true
   },
   "outputs": [
    {
     "name": "stdout",
     "output_type": "stream",
     "text": [
      "[1, 2, 3]\n",
      "[4, 5, 6]\n",
      "[7, 8, 9]\n"
     ]
    }
   ],
   "source": [
    "S_mat = [ [ 5, 4, 7 ],\n",
    "         [ 1, 3, 8 ],\n",
    "         [ 2, 9, 6 ] ]\n",
    "\n",
    "def SortMat(mat):\n",
    "    n = len(mat)\n",
    "    \n",
    "    temp = [0]*(n*n)\n",
    "    k = 0\n",
    "    for i in range(n):\n",
    "        for j in range(n):\n",
    "            temp[k] = mat[i][j]\n",
    "            k+=1\n",
    "            \n",
    "    temp.sort()\n",
    "\n",
    "    p = 0\n",
    "    for m in range(n):\n",
    "        for l in range(n):\n",
    "            mat[m][l] = temp[p]\n",
    "            p += 1 \n",
    "            \n",
    "    return mat\n",
    "\n",
    "SortMat(S_mat)\n",
    "for rows in S_mat:\n",
    "    print(rows)"
   ]
  },
  {
   "cell_type": "markdown",
   "id": "0fca2a08",
   "metadata": {},
   "source": [
    "#### Find the row with maximum number of 1s\n"
   ]
  },
  {
   "cell_type": "markdown",
   "id": "78c8cc6b",
   "metadata": {},
   "source": [
    "ZerOne = [[0, 0, 0, 1],\n",
    "       [0, 1, 1, 1],\n",
    "       [1, 1, 1, 1],\n",
    "       [0, 0, 0, 0]]\n",
    "\n",
    "This we can do by counting ones in each row, looping twice in O(n^2) time complexity and O(n) space complexity"
   ]
  },
  {
   "cell_type": "markdown",
   "id": "f8ea25b8",
   "metadata": {},
   "source": [
    "#### Find median in row wise sorted matrix\n"
   ]
  },
  {
   "cell_type": "raw",
   "id": "488771b7",
   "metadata": {},
   "source": [
    "We are given a row-wise sorted matrix of size r*c, we need to find the median of the matrix given. It is assumed that r*c is always odd."
   ]
  },
  {
   "cell_type": "code",
   "execution_count": 8,
   "id": "65e4054f",
   "metadata": {},
   "outputs": [
    {
     "data": {
      "text/plain": [
       "5"
      ]
     },
     "execution_count": 8,
     "metadata": {},
     "output_type": "execute_result"
    }
   ],
   "source": [
    "array_med = [ [1, 3, 5], [2, 6, 9], [3, 6, 9]]\n",
    "\n",
    "def Median(mat):\n",
    "    n = len(mat)\n",
    "    \n",
    "    temp = [0]*(n*n)\n",
    "    k = 0\n",
    "    for i in range(n):\n",
    "        for j in range(n):\n",
    "            temp[k] = mat[i][j]\n",
    "            k+=1\n",
    "            \n",
    "    temp.sort()\n",
    "    return temp[int(n*n/2)]\n",
    "\n",
    "Median(array_med)"
   ]
  },
  {
   "cell_type": "markdown",
   "id": "5ae03af9",
   "metadata": {},
   "source": [
    "#### Matrix Multiplication | Recursive\n"
   ]
  },
  {
   "cell_type": "code",
   "execution_count": 9,
   "id": "896a5383",
   "metadata": {},
   "outputs": [
    {
     "name": "stdout",
     "output_type": "stream",
     "text": [
      "30 36 42 \n",
      "66 81 96 \n",
      "102 126 150 \n"
     ]
    }
   ],
   "source": [
    "MAX = 100\n",
    "\n",
    "def MatMulti(A,m1,n1,B,m2,n2,C):\n",
    "    \n",
    "    global i\n",
    "    global j\n",
    "    global k\n",
    "    \n",
    "    if (i >= m1):\n",
    "        return\n",
    "    if i <m1:\n",
    "        if j<n2:\n",
    "            if k<n1:\n",
    "                \n",
    "                C[i][j] += A[i][k] * B[k][j]\n",
    "                k+=1\n",
    "                MatMulti(A,m1,n1,B,m2,n2,C)\n",
    "            j+= 1\n",
    "            k = 0\n",
    "            MatMulti(A,m1,n1,B,m2,n2,C)\n",
    "        i+= 1\n",
    "        j = 0\n",
    "        MatMulti(A,m1,n1,B,m2,n2,C)\n",
    "    \n",
    "#// ---------Driver Code---------------//\n",
    "    \n",
    "A = [[1, 2, 3],\n",
    "     [4, 5, 6],\n",
    "     [7, 8, 9]]\n",
    "B = [[1, 2, 3],\n",
    "     [4, 5, 6],\n",
    "     [7, 8, 9]]\n",
    "\n",
    "m1 = len(A)\n",
    "n1 = len(A[0])\n",
    "m2 = len(B)\n",
    "n2 = len(B[0])\n",
    "    \n",
    "i ,j, k = 0, 0, 0\n",
    "\n",
    "C = [[0 for i in range(m1)] for i in range(n2)]\n",
    "MatMulti(A,m1,n1,B,m2,n2,C)\n",
    "\n",
    "for i in range(m1):\n",
    "    for j in range(n2):\n",
    "        print(C[i][j] ,end = \" \")\n",
    "    print()"
   ]
  },
  {
   "cell_type": "markdown",
   "id": "8a481d3a",
   "metadata": {},
   "source": [
    "#### Program for scalar multiplication of a matrix\n"
   ]
  },
  {
   "cell_type": "code",
   "execution_count": 10,
   "id": "2346bdc0",
   "metadata": {},
   "outputs": [
    {
     "name": "stdout",
     "output_type": "stream",
     "text": [
      "[6, 12, 18]\n",
      "[24, 30, 36]\n",
      "[42, 48, 54]\n"
     ]
    }
   ],
   "source": [
    "def scalarProdMat( mat, k):\n",
    "    N = len(mat)\n",
    "    M = len(mat[0])\n",
    "    \n",
    "    for i in range( N):\n",
    "        for j in range( M):\n",
    "            mat[i][j] = mat[i][j] * k \n",
    "            \n",
    "    return mat\n",
    "\n",
    "#//-----------------Driver Code-------------------//\n",
    "\n",
    "ScaMat =  [[ 1, 2, 3 ],\n",
    "           [ 4, 5, 6 ],\n",
    "           [ 7, 8, 9 ]]\n",
    "\n",
    "scalarProdMat(ScaMat , 6)\n",
    "\n",
    "for rows in ScaMat:\n",
    "    print(rows)"
   ]
  },
  {
   "cell_type": "markdown",
   "id": "f7eed763",
   "metadata": {},
   "source": [
    "#### Program to print Lower triangular and Upper triangular matrix of an array\n"
   ]
  },
  {
   "cell_type": "code",
   "execution_count": 11,
   "id": "43ffce32",
   "metadata": {},
   "outputs": [
    {
     "name": "stdout",
     "output_type": "stream",
     "text": [
      "[1, 0, 0]\n",
      "[4, 5, 0]\n",
      "[7, 8, 9]\n",
      "\n",
      "[1, 0, 0]\n",
      "[0, 5, 0]\n",
      "[0, 0, 9]\n"
     ]
    }
   ],
   "source": [
    "TriMat =  [[ 1, 2, 3 ],\n",
    "           [ 4, 5, 6 ],\n",
    "           [ 7, 8, 9 ]]\n",
    "\n",
    "def LowerMatrix(mat):\n",
    "    n = len(mat)\n",
    "    m = len(mat[0])\n",
    "    \n",
    "    for i in range(0,n):\n",
    "        for j in range(i+1,n):\n",
    "            mat[i][j] = 0\n",
    "    return mat\n",
    "\n",
    "def UpperMatrix(mat):\n",
    "    n = len(mat)\n",
    "    m = len(mat[0])\n",
    "    \n",
    "    for i in range(n-1,0,-1):\n",
    "        for j in range(0,i):\n",
    "            mat[i][j] = 0\n",
    "    return mat\n",
    "\n",
    "\n",
    "#//------------------Driver Code-----------------//\n",
    "LowerMatrix(TriMat)\n",
    "for i in TriMat:\n",
    "    print(i)\n",
    "    \n",
    "print()\n",
    "    \n",
    "UpperMatrix(TriMat)\n",
    "for i in TriMat:\n",
    "    print(i)"
   ]
  },
  {
   "cell_type": "markdown",
   "id": "fa64ad22",
   "metadata": {},
   "source": [
    "#### Find distinct elements common to all rows of a matrix\n"
   ]
  },
  {
   "cell_type": "raw",
   "id": "78c0bf24",
   "metadata": {},
   "source": [
    "Sort all the rows of the matrix individually in increasing order. Then apply a modified approach to the problem of finding common elements in 3 sorted arrays. Below an implementation for the same is given. "
   ]
  },
  {
   "cell_type": "code",
   "execution_count": 12,
   "id": "fc5f408a",
   "metadata": {},
   "outputs": [
    {
     "name": "stdout",
     "output_type": "stream",
     "text": [
      "The common elements found in all three array are :  [1, 3, 14]\n"
     ]
    }
   ],
   "source": [
    "def SortMat(mat):\n",
    "    n = len(mat)\n",
    "    \n",
    "    for i in range(n):\n",
    "        mat[i].sort()\n",
    "    return mat\n",
    "\n",
    "def HouseOfCommons(mat):\n",
    "    \n",
    "    SortMat(mat)\n",
    "    \n",
    "    arr1 = mat[0]\n",
    "    arr2 = mat[1]\n",
    "    arr3 = mat[2]\n",
    "\n",
    "    n1 = len(arr1)\n",
    "    n2 = len(arr2)\n",
    "    n3 = len(arr3)\n",
    "    \n",
    "    i = 0\n",
    "    j = 0\n",
    "    k = 0\n",
    "    list = []\n",
    "    while (i<n1 and j<n2 and k<n3):\n",
    "        \n",
    "        if (arr1[i] == arr2[j] == arr3[k]) :\n",
    "            list.append(arr1[i])\n",
    "            i += 1\n",
    "            j += 1 \n",
    "            k += 1\n",
    "        \n",
    "        elif (arr1[i] < arr2[j] and arr1[i] <= arr3[k]) :\n",
    "            i += 1\n",
    "        elif (arr2[j] < arr1[i] and arr2[j] <= arr3[k]) :\n",
    "            j += 1\n",
    "        elif (arr3[k] < arr2[j] and arr3[k] <= arr1[i]) :\n",
    "            k += 1\n",
    "\n",
    "    return print(\"The common elements found in all three array are : \",list)   \n",
    "\n",
    "#//---------------------Driver Code-----------------------//\n",
    "\n",
    "MatDistinct = [[12, 1, 14, 3, 17],\n",
    "               [14, 2, 1, 3, 35],\n",
    "               [14, 1, 14, 3, 11],\n",
    "               [14, 25, 3, 2, 1],\n",
    "               [1, 18, 3, 21, 14]]\n",
    "\n",
    "HouseOfCommons(MatDistinct)"
   ]
  },
  {
   "cell_type": "markdown",
   "id": "cabab078",
   "metadata": {},
   "source": [
    "#### Print a given matrix in spiral form\n"
   ]
  },
  {
   "cell_type": "markdown",
   "id": "ddce125a",
   "metadata": {},
   "source": [
    "https://media.geeksforgeeks.org/wp-content/uploads/20200421034622/untitled1810.png"
   ]
  },
  {
   "cell_type": "code",
   "execution_count": 13,
   "id": "641f8a0a",
   "metadata": {},
   "outputs": [
    {
     "name": "stdout",
     "output_type": "stream",
     "text": [
      "12 1 14 3 16 35 11 1 14 21 3 18 1 14 14 14 2 1 3 3 2 3 25 1 14 "
     ]
    }
   ],
   "source": [
    "def Spirals(mat, i, j, m, n):\n",
    " \n",
    "    if (i >= m or j >= n):\n",
    "        return\n",
    "\n",
    "    for p in range(i, n):\n",
    "        print(mat[i][p], end=\" \")\n",
    "\n",
    "    for p in range(i + 1, m):\n",
    "        print(mat[p][n - 1], end=\" \")\n",
    "\n",
    "    if ((m - 1) != i):\n",
    "        for p in range(n - 2, j - 1, -1):\n",
    "            print(mat[m - 1][p], end=\" \")\n",
    "\n",
    "    if ((n - 1) != j):\n",
    "        for p in range(m - 2, i, -1):\n",
    "            print(mat[p][j], end=\" \")\n",
    " \n",
    "    Spirals(mat, i + 1, j + 1, m - 1, n - 1)\n",
    "\n",
    "#//----------------------Driver Code-----------------------//\n",
    "\n",
    "SpiralMat =   [[12, 1, 14, 3, 16],\n",
    "               [14, 2, 1, 3, 35],\n",
    "               [14, 1, 14, 3, 11],\n",
    "               [14, 25, 3, 2, 1],\n",
    "               [1, 18, 3, 21, 14]]\n",
    "\n",
    "m = len(SpiralMat)\n",
    "n = len(SpiralMat[0])\n",
    "\n",
    "Spirals(SpiralMat,0,0,m,n)"
   ]
  },
  {
   "cell_type": "markdown",
   "id": "c8ec97e1",
   "metadata": {},
   "source": [
    "#### Find unique elements in a SQUARE matrix\n"
   ]
  },
  {
   "cell_type": "code",
   "execution_count": 14,
   "id": "166afd52",
   "metadata": {},
   "outputs": [
    {
     "name": "stdout",
     "output_type": "stream",
     "text": [
      "All the unique elements of the matrix are:  [1, 2, 3, 11, 12, 14, 25, 35]\n",
      "3 11 12 25 35 "
     ]
    }
   ],
   "source": [
    "SpiralMat =   [[12, 1, 14, 3],\n",
    "               [14, 2, 1, 35 ],\n",
    "               [14, 1, 14, 11],\n",
    "               [14, 25, 2, 1 ]]\n",
    "\n",
    "def ArrayMaker(mat):\n",
    "    m = len(mat)\n",
    "    n = len(mat[0])\n",
    "    \n",
    "    array = []\n",
    "    \n",
    "    for i in range(n):\n",
    "        for j in range(n):\n",
    "            array.append(mat[i][j])\n",
    "    return array \n",
    "    \n",
    "def unique(mat):\n",
    "   #//------Converting Matrix to array---------// \n",
    "    array = ArrayMaker(mat)\n",
    "    array.sort()\n",
    "    \n",
    "  #//---------Getting all the unique elements of the array stored in EMPT list-----------//\n",
    "    l = len(array)\n",
    "    empt = []\n",
    "    temp = array[0]\n",
    "    for i in range(l):\n",
    "        if array[i] not in empt:\n",
    "            empt.append(array[i])\n",
    "    print(empt)        \n",
    "  #//--------Counting the frequencies of the elements and storing them all in the list BT----//\n",
    "    bt = []\n",
    "    cnt = 0\n",
    "    mp = array[0]\n",
    "    for i in range(l):\n",
    "        if array[i] == mp:\n",
    "            cnt += 1\n",
    "        \n",
    "        elif array[i] != mp:\n",
    "            bt.append(cnt)\n",
    "            cnt = 1\n",
    "            mp = array[i]\n",
    "            \n",
    "            if i == l-1:\n",
    "                bt.append(cnt)\n",
    "\n",
    "\n",
    "  #//-----Printing the elemetns have only 1 frequency----------//\n",
    "    for x in range(len(bt)):\n",
    "        if bt[x] == 1:\n",
    "            print(empt[x], end=\" \")\n",
    "\n",
    "print(\"All the unique elements of the matrix are: \", end= \" \")\n",
    "unique(SpiralMat)"
   ]
  },
  {
   "cell_type": "markdown",
   "id": "e8ff423c",
   "metadata": {},
   "source": [
    "#### Shift matrix elements row-wise by k\n"
   ]
  },
  {
   "cell_type": "raw",
   "id": "a8466580",
   "metadata": {},
   "source": [
    "There are two methods:\n",
    "    1. TO rotate each row of array by K elements as done previously in array rotation.\n",
    "    2. To print elements from index k to N and then 0 to K."
   ]
  },
  {
   "cell_type": "code",
   "execution_count": 15,
   "id": "7882e7d2",
   "metadata": {},
   "outputs": [
    {
     "name": "stdout",
     "output_type": "stream",
     "text": [
      "3 4 1 2 \n",
      "7 8 5 6 \n",
      "11 12 9 10 \n",
      "15 16 13 14 \n"
     ]
    }
   ],
   "source": [
    "def shiftMatrixByK(mat, k):\n",
    "    N = len(mat)\n",
    "    if (k > N) :\n",
    "        print (\"shifting is\"\n",
    "            \" not possible\")\n",
    "        return\n",
    "     \n",
    "    j = 0\n",
    "    while (j < N) :\n",
    "\n",
    "        for i in range(k, N):\n",
    "            print (\"{} \" .\n",
    "            format(mat[j][i]), end=\"\")\n",
    " \n",
    "        for i in range(0, k):\n",
    "            print (\"{} \" .\n",
    "            format(mat[j][i]), end=\"\")\n",
    "             \n",
    "        print (\"\")\n",
    "        j = j + 1\n",
    "        \n",
    "mat = [[1, 2, 3, 4],\n",
    "       [5, 6, 7, 8],\n",
    "       [9, 10, 11, 12],\n",
    "       [13, 14, 15, 16]]\n",
    "k = 2\n",
    "shiftMatrixByK(mat, k)"
   ]
  },
  {
   "cell_type": "markdown",
   "id": "b1fb03f9",
   "metadata": {},
   "source": [
    "#### Different Operations on Matrices\n"
   ]
  },
  {
   "cell_type": "markdown",
   "id": "bfd1bcde",
   "metadata": {},
   "source": [
    "###### Addition & Subtraction"
   ]
  },
  {
   "cell_type": "raw",
   "id": "cab44e8f",
   "metadata": {},
   "source": [
    "for i in 1 to m\n",
    "   for j in 1 to n\n",
    "      cij = aij + bij\n",
    "        \n",
    "for i in 1 to m\n",
    "   for j in 1 to n\n",
    "      cij = aij - bij"
   ]
  },
  {
   "cell_type": "markdown",
   "id": "b0edd348",
   "metadata": {},
   "source": [
    "###### Multiplication"
   ]
  },
  {
   "cell_type": "raw",
   "id": "4054224a",
   "metadata": {},
   "source": [
    "for i in 1 to m\n",
    "   for j in 1 to p\n",
    "      cij = 0\n",
    "      for k in 1 to n\n",
    "         cij += aik*bkj"
   ]
  },
  {
   "cell_type": "markdown",
   "id": "e59cc157",
   "metadata": {},
   "source": [
    "#### Print a given matrix in counter-clock wise spiral form\n"
   ]
  },
  {
   "cell_type": "code",
   "execution_count": 30,
   "id": "fb16ac11",
   "metadata": {},
   "outputs": [
    {
     "name": "stdout",
     "output_type": "stream",
     "text": [
      "12 14 14 14 1 18 3 21 14 1 11 35 16 3 14 1 2 1 25 3 2 3 3 1 14 "
     ]
    }
   ],
   "source": [
    "MAX = 50\n",
    "def CounterSpirals(mat, i, j, m, n):\n",
    " \n",
    "    if (i >= m or j >= n):\n",
    "        return\n",
    "\n",
    "    for p in range(i, n):\n",
    "        print(mat[p][i], end=\" \")\n",
    "\n",
    "    for p in range(i + 1, m):\n",
    "        print(mat[n-1][p], end=\" \")\n",
    "\n",
    "    if ((m - 1) != i):\n",
    "        for p in range(n - 2, j - 1, -1):\n",
    "            print(mat[p][m-1], end=\" \")\n",
    "\n",
    "    if ((n - 1) != j):\n",
    "        for p in range(m - 2, i, -1):\n",
    "            print(mat[j][p], end=\" \")\n",
    " \n",
    "    CounterSpirals(mat, i + 1, j + 1, m - 1, n - 1)\n",
    "\n",
    "#//----------------------Driver Code-----------------------//\n",
    "\n",
    "Mat =         [[12, 1, 14, 3, 16],\n",
    "               [14, 2, 1, 3, 35],\n",
    "               [14, 1, 14, 3, 11],\n",
    "               [14, 25, 3, 2, 1],\n",
    "               [1, 18, 3, 21, 14]]\n",
    "\n",
    "m = len(Mat)\n",
    "n = len(Mat[0])\n",
    "\n",
    "CounterSpirals(Mat,0,0,m,n)"
   ]
  },
  {
   "cell_type": "markdown",
   "id": "fd339e80",
   "metadata": {},
   "source": [
    "#### Swap major and minor diagonals of a square matrix\n"
   ]
  },
  {
   "cell_type": "code",
   "execution_count": 36,
   "id": "c7c3e881",
   "metadata": {},
   "outputs": [
    {
     "name": "stdout",
     "output_type": "stream",
     "text": [
      "[6, 1, 2, 3]\n",
      "[3, 1, 2, 0]\n",
      "[3, 4, 5, 4]\n",
      "[0, 7, 8, 9]\n"
     ]
    }
   ],
   "source": [
    "matrix = [[0, 1, 2, 9],\n",
    "          [3, 4, 5, 0],\n",
    "          [3, 1, 2, 4],\n",
    "          [6, 7, 8, 3]]\n",
    "\n",
    "def SwapDigonal(mat):\n",
    "    n = len(mat)\n",
    "    for i in range(n):\n",
    "        mat[i][i],mat[n-1-i][i] = mat[n-1-i][i],mat[i][i]\n",
    "    return mat\n",
    "SwapDigonal(matrix)\n",
    "\n",
    "for row in matrix:\n",
    "    print(row)"
   ]
  },
  {
   "cell_type": "markdown",
   "id": "003852db",
   "metadata": {},
   "source": [
    "#### Maximum path sum in matrix\n"
   ]
  },
  {
   "cell_type": "code",
   "execution_count": 48,
   "id": "3bc646b8",
   "metadata": {},
   "outputs": [
    {
     "data": {
      "text/plain": [
       "74"
      ]
     },
     "execution_count": 48,
     "metadata": {},
     "output_type": "execute_result"
    }
   ],
   "source": [
    "def MaxPathSum(mat,m,n):\n",
    "    \n",
    "    for i in range(1,m):\n",
    "        ans = -1000\n",
    "        \n",
    "        for j in range(n): \n",
    "            if (j > 0 and j < n-1):\n",
    "                mat[i][j] += max(mat[i-1][j],mat[i-1][j-1], mat[i-1][j+1])\n",
    "                \n",
    "            elif (j > 0):\n",
    "                 mat[i][j] += max(mat[i-1][j],mat[i-1][j-1])\n",
    "                    \n",
    "            elif (j < n-1):\n",
    "                mat[i][j] += max(mat[i-1][j], mat[i-1][j+1])\n",
    "    \n",
    "            ans = max(mat[i][j] , ans)\n",
    "    return ans\n",
    "\n",
    "#/-------------------Driver Function------------------//\n",
    "\n",
    "PathMat = ([[ 10, 10, 2, 0, 20, 4 ],\n",
    "            [ 1, 0, 0, 30, 2, 5 ],\n",
    "            [ 0, 10, 4, 0, 2, 0 ],\n",
    "            [ 1, 0, 2, 20, 0, 4 ]])\n",
    "m = len(PathMat)\n",
    "n = len(PathMat[0])\n",
    "\n",
    "MaxPathSum(PathMat,4,6)"
   ]
  },
  {
   "cell_type": "markdown",
   "id": "0ce08a37",
   "metadata": {},
   "source": [
    "#### Squares of Matrix Diagonal Elements\n"
   ]
  },
  {
   "cell_type": "code",
   "execution_count": 56,
   "id": "c3748b18",
   "metadata": {},
   "outputs": [
    {
     "name": "stdout",
     "output_type": "stream",
     "text": [
      "Square Digonal 1 is :  [0, 16, 4, 9] \n",
      " Square Digonal 2 is:  [81, 25, 1, 36]\n"
     ]
    }
   ],
   "source": [
    "SqDig =  [[0, 1, 2, 9],\n",
    "          [3, 4, 5, 0],\n",
    "          [3, 1, 2, 4],\n",
    "          [6, 7, 8, 3]]\n",
    "\n",
    "def DigSquare(mat):\n",
    "    n = len(mat)\n",
    "    dig1 = []\n",
    "    dig2 = []\n",
    "\n",
    "    for i in range(n):\n",
    "        dig1.append((mat[i][i])**2)\n",
    "        dig2.append((mat[i][n-1-i])**2)\n",
    "    \n",
    "    return print(\"Square Digonal 1 is : \", dig1, \"\\n\" , \"Square Digonal 2 is: \", dig2)\n",
    "DigSquare(SqDig)"
   ]
  },
  {
   "cell_type": "markdown",
   "id": "c0a173dc",
   "metadata": {},
   "source": [
    "#### Move matrix elements in given direction and add elements with same value\n"
   ]
  },
  {
   "cell_type": "markdown",
   "id": "df99a776",
   "metadata": {},
   "source": [
    "###### Right Shifting"
   ]
  },
  {
   "cell_type": "code",
   "execution_count": 63,
   "id": "976c3e7c",
   "metadata": {},
   "outputs": [
    {
     "data": {
      "text/plain": [
       "[[0, 0, 32, 6, 6],\n",
       " [0, 0, 0, 0, 1],\n",
       " [0, 20, 8, 1, 2],\n",
       " [0, 0, 0, 0, 1],\n",
       " [4, 5, 6, 7, 8]]"
      ]
     },
     "execution_count": 63,
     "metadata": {},
     "output_type": "execute_result"
    }
   ],
   "source": [
    "def RightMove(d, n, AR):\n",
    "\n",
    "    if (d == 'r'):\n",
    "\n",
    "        for i in range(n):\n",
    "            v = []\n",
    "            w = []\n",
    " \n",
    "            for j in range(n - 1, -1, -1):\n",
    "\n",
    "                if (AR[i][j]):\n",
    "                    v.append(AR[i][j])\n",
    "\n",
    "            j = 0\n",
    "            while (j < len(v)):\n",
    "\n",
    "                if (j < len(v) - 1 and v[j] == v[j + 1]):\n",
    "                    w.append(2 * v[j])\n",
    "                    j += 1\n",
    "                 \n",
    "                else:\n",
    "                    w.append(v[j])\n",
    "                     \n",
    "                j += 1\n",
    "\n",
    "            for j in range(n):\n",
    "                AR[i][j] = 0\n",
    " \n",
    "            j = n - 1\n",
    "\n",
    "            for it in w:\n",
    "                AR[i][j] = it\n",
    "                j -= 1\n",
    "    return AR\n",
    "\n",
    "#//-----------------------Driver Code-------------------//\n",
    "\n",
    "AR =      [[ 32, 3, 3, 3, 3 ],\n",
    "          [ 0, 0, 1, 0, 0 ],\n",
    "          [ 10, 10, 8, 1, 2],\n",
    "          [ 0, 0, 0, 0, 1 ],\n",
    "          [ 4, 5, 6, 7, 8 ]]\n",
    "\n",
    "d = \"r\"\n",
    "RightMove(d, 5, AR)"
   ]
  },
  {
   "cell_type": "markdown",
   "id": "da3be693",
   "metadata": {},
   "source": [
    "##### Left Shifting"
   ]
  },
  {
   "cell_type": "code",
   "execution_count": 72,
   "id": "0695a8a0",
   "metadata": {},
   "outputs": [
    {
     "data": {
      "text/plain": [
       "[[32, 6, 6, 0, 0],\n",
       " [1, 0, 0, 0, 0],\n",
       " [20, 8, 1, 2, 0],\n",
       " [1, 0, 0, 0, 0],\n",
       " [4, 5, 6, 7, 8]]"
      ]
     },
     "execution_count": 72,
     "metadata": {},
     "output_type": "execute_result"
    }
   ],
   "source": [
    "def LeftMove(d, n, AL):\n",
    "\n",
    "    if (d == 'l'):\n",
    "\n",
    "        for i in range(n):\n",
    "            v = []\n",
    "            w = []\n",
    " \n",
    "            for j in range(n):\n",
    "\n",
    "                if (AL[i][j]):\n",
    "                    v.append(AL[i][j])\n",
    "\n",
    "            j = 0\n",
    "            while (j < len(v)):\n",
    "\n",
    "                if (j < len(v) - 1 and v[j] == v[j + 1]):\n",
    "                    w.append(2 * v[j])\n",
    "                    j += 1\n",
    "                 \n",
    "                else:\n",
    "                    w.append(v[j])\n",
    "                     \n",
    "                j += 1\n",
    "            for j in range(n):\n",
    "                AL[i][j] = 0\n",
    " \n",
    "            j = 0\n",
    "\n",
    "            for it in w:\n",
    "                AL[i][j] = it\n",
    "                j += 1\n",
    "\n",
    "    return AL\n",
    "#//-----------------------Driver Code-------------------//\n",
    "\n",
    "AL =      [[ 32, 3, 3, 3, 3 ],\n",
    "          [ 0, 0, 1, 0, 0 ],\n",
    "          [ 10, 10, 8, 1, 2],\n",
    "          [ 0, 0, 0, 0, 1 ],\n",
    "          [ 4, 5, 6, 7, 8 ]]\n",
    "\n",
    "d =\"l\"\n",
    "LeftMove(d, 5, AL)"
   ]
  },
  {
   "cell_type": "markdown",
   "id": "c47681fa",
   "metadata": {},
   "source": [
    "##### Up Shifting"
   ]
  },
  {
   "cell_type": "code",
   "execution_count": 78,
   "id": "f8e0049b",
   "metadata": {},
   "outputs": [
    {
     "data": {
      "text/plain": [
       "[[32, 3, 3, 3, 3],\n",
       " [10, 10, 1, 1, 2],\n",
       " [4, 5, 8, 7, 1],\n",
       " [0, 0, 6, 0, 8],\n",
       " [0, 0, 0, 0, 0]]"
      ]
     },
     "execution_count": 78,
     "metadata": {},
     "output_type": "execute_result"
    }
   ],
   "source": [
    "def LeftMove(d, n, AU):\n",
    "\n",
    "    if (d == 'l'):\n",
    "\n",
    "        for i in range(n):\n",
    "            v = []\n",
    "            w = []\n",
    " \n",
    "            for j in range(n):\n",
    "\n",
    "                if (AU[j][i]):\n",
    "                    v.append(AU[j][i])\n",
    "\n",
    "            j = 0\n",
    "            while (j < len(v)):\n",
    "                if (j < len(v) - 1 and v[j] == v[j + 1]):\n",
    "                    w.append(2 * v[j])\n",
    "                    j += 1\n",
    "                 \n",
    "                else:\n",
    "                    w.append(v[j])\n",
    "                     \n",
    "                j += 1\n",
    "            for j in range(n):\n",
    "                AU[j][i] = 0\n",
    " \n",
    "            j = 0\n",
    "\n",
    "            for it in w:\n",
    "                AU[j][i] = it\n",
    "                j += 1\n",
    "\n",
    "    return AU\n",
    "#//-----------------------Driver Code-------------------//\n",
    "\n",
    "AU =      [[ 32, 3, 3, 3, 3 ],\n",
    "          [ 0, 0, 1, 0, 0 ],\n",
    "          [ 10, 10, 8, 1, 2],\n",
    "          [ 0, 0, 0, 0, 1 ],\n",
    "          [ 4, 5, 6, 7, 8 ]]\n",
    "\n",
    "d =\"l\"\n",
    "LeftMove(d, 5, AU)"
   ]
  },
  {
   "cell_type": "markdown",
   "id": "f7ee06ea",
   "metadata": {},
   "source": [
    "##### Down Shift"
   ]
  },
  {
   "cell_type": "code",
   "execution_count": 83,
   "id": "b7c8d592",
   "metadata": {},
   "outputs": [
    {
     "data": {
      "text/plain": [
       "[[0, 0, 0, 0, 0],\n",
       " [0, 0, 3, 0, 3],\n",
       " [32, 3, 1, 3, 2],\n",
       " [10, 10, 8, 1, 1],\n",
       " [4, 5, 6, 7, 8]]"
      ]
     },
     "execution_count": 83,
     "metadata": {},
     "output_type": "execute_result"
    }
   ],
   "source": [
    "def LeftMove(d, n, AD):\n",
    "\n",
    "    if (d == 'l'):\n",
    "\n",
    "        for i in range(n):\n",
    "            v = []\n",
    "            w = []\n",
    " \n",
    "            for j in range(n-1,-1,-1):\n",
    "\n",
    "                if (AD[j][i]):\n",
    "                    v.append(AD[j][i])\n",
    "\n",
    "            j = 0\n",
    "            while (j < len(v)):\n",
    "                if (j < len(v) - 1 and v[j] == v[j + 1]):\n",
    "                    w.append(2 * v[j])\n",
    "                    j += 1\n",
    "                 \n",
    "                else:\n",
    "                    w.append(v[j])\n",
    "                     \n",
    "                j += 1\n",
    "            for j in range(n):\n",
    "                AD[j][i] = 0\n",
    " \n",
    "            j = n-1\n",
    "\n",
    "            for it in w:\n",
    "                AD[j][i] = it\n",
    "                j -= 1\n",
    "\n",
    "    return AD\n",
    "#//-----------------------Driver Code-------------------//\n",
    "\n",
    "AD =      [[ 32, 3, 3, 3, 3 ],\n",
    "          [ 0, 0, 1, 0, 0 ],\n",
    "          [ 10, 10, 8, 1, 2],\n",
    "          [ 0, 0, 0, 0, 1 ],\n",
    "          [ 4, 5, 6, 7, 8 ]]\n",
    "\n",
    "d =\"l\"\n",
    "LeftMove(d, 5, AD)"
   ]
  },
  {
   "cell_type": "markdown",
   "id": "e7af5f7a",
   "metadata": {},
   "source": [
    "#### Single Program to work on any shifting"
   ]
  },
  {
   "cell_type": "code",
   "execution_count": 104,
   "id": "6fef731f",
   "metadata": {},
   "outputs": [
    {
     "name": "stdout",
     "output_type": "stream",
     "text": [
      "This shift is in Right direction \n",
      "\n",
      "[0, 0, 32, 6, 6]\n",
      "[0, 0, 0, 0, 1]\n",
      "[0, 20, 8, 1, 2]\n",
      "[0, 0, 0, 0, 1]\n",
      "[4, 5, 6, 7, 8]\n",
      "------------------------------------\n",
      "This shift is in Left direction \n",
      "\n",
      "[0, 0, 32, 6, 6]\n",
      "[0, 0, 0, 0, 1]\n",
      "[0, 20, 8, 1, 2]\n",
      "[0, 0, 0, 0, 1]\n",
      "[4, 5, 6, 7, 8]\n",
      "------------------------------------\n",
      "This shift is in Upward direction \n",
      "\n",
      "[0, 0, 32, 6, 6]\n",
      "[0, 0, 0, 0, 1]\n",
      "[0, 20, 8, 1, 2]\n",
      "[0, 0, 0, 0, 1]\n",
      "[4, 5, 6, 7, 8]\n",
      "------------------------------------\n",
      "This shift is in Downward direction \n",
      "\n",
      "[0, 0, 32, 6, 6]\n",
      "[0, 0, 0, 0, 1]\n",
      "[0, 20, 8, 1, 2]\n",
      "[0, 0, 0, 0, 1]\n",
      "[4, 5, 6, 7, 8]\n",
      "------------------------------------\n"
     ]
    }
   ],
   "source": [
    "def moveMatrix(d, n, a):\n",
    "\n",
    "    if (d == 'Right'):\n",
    "\n",
    "        for i in range(n):\n",
    "            v = []\n",
    "            w = []\n",
    "\n",
    "            for j in range(n - 1, -1, -1):\n",
    "                if (a[i][j]):\n",
    "                    v.append(a[i][j])\n",
    " \n",
    "            j = 0\n",
    "            while (j < len(v)):\n",
    "                if (j < len(v) - 1 and\n",
    "                   v[j] == v[j + 1]):\n",
    "                    w.append(2 * v[j])\n",
    "                    j += 1\n",
    "                    \n",
    "                else:\n",
    "                    w.append(v[j])\n",
    "                     \n",
    "                j += 1\n",
    "\n",
    "            for j in range(n):\n",
    "                a[i][j] = 0\n",
    " \n",
    "            j = n - 1\n",
    "\n",
    "            for it in w:\n",
    "                a[i][j] = it\n",
    "                j -= 1\n",
    "\n",
    "    elif (d[0] == 'Left'):\n",
    "\n",
    "        for i in range(n):\n",
    "            v = []\n",
    "            w = []\n",
    "\n",
    "            for j in range(n):\n",
    "                if (a[i][j]):\n",
    "                    v.append(a[i][j])\n",
    "\n",
    "            j = 0\n",
    "            while(j < len(v)):\n",
    "                if (j < len(v) - 1 and\n",
    "                   v[j] == v[j + 1]):\n",
    "                    w.append(2 * v[j])\n",
    "                    j += 1\n",
    "                 \n",
    "                else:\n",
    "                    w.append(v[j])\n",
    "                     \n",
    "                j += 1\n",
    "\n",
    "            for j in range(n):\n",
    "                a[i][j] = 0\n",
    " \n",
    "            j = 0\n",
    " \n",
    "            for it in w:\n",
    "                a[i][j] = it\n",
    "                j += 1\n",
    "\n",
    "    elif (d[0] == 'Downward'):\n",
    "\n",
    "        for i in range(n):\n",
    "            v = []\n",
    "            w = []\n",
    "\n",
    "            for j in range(n - 1, -1, -1):\n",
    "                if (a[j][i]):\n",
    "                    v.append(a[j][i])\n",
    "\n",
    "            j = 0\n",
    "            while(j < len(v)):\n",
    "                if (j <len( v) - 1 and\n",
    "                   v[j] == v[j + 1]):\n",
    "                    w.append(2 * v[j])\n",
    "                    j += 1\n",
    "                 \n",
    "                else:\n",
    "                    w.append(v[j])\n",
    "                     \n",
    "                j += 1\n",
    "\n",
    "            for j in range(n):\n",
    "                a[j][i] = 0\n",
    " \n",
    "            j = n - 1\n",
    "\n",
    "            for it in w:\n",
    "                a[j][i] = it\n",
    "                j -= 1\n",
    "\n",
    "    elif (d[0] == 'Upward'):\n",
    "\n",
    "        for i in range(n):\n",
    "            v = []\n",
    "            w = []\n",
    "\n",
    "            for j in range(n):\n",
    "                if (a[j][i]):\n",
    "                    v.append(a[j][i])\n",
    "\n",
    "            j = 0\n",
    "            while(j < len(v)):\n",
    "                if (j < len(v) - 1 and\n",
    "                   v[j] == v[j + 1]):\n",
    "                    w.append(2 * v[j])\n",
    "                    j += 1\n",
    "                 \n",
    "                else:\n",
    "                    w.append(v[j])\n",
    "                j += 1\n",
    "\n",
    "            for j in range(n):\n",
    "                a[j][i] = 0\n",
    " \n",
    "            j = 0\n",
    "\n",
    "            for it in w:\n",
    "                a[j][i] = it\n",
    "                j += 1\n",
    "\n",
    "    return a\n",
    "\n",
    "if __name__ == \"__main__\":\n",
    " \n",
    "    shift = [\"Right\",\"Left\",\"Upward\",\"Downward\"] \n",
    "    n = 5\n",
    "    a = [ [ 32, 3, 3, 3, 3 ],\n",
    "          [ 0, 0, 1, 0, 0 ],\n",
    "          [ 10, 10, 8, 1, 2 ],\n",
    "          [ 0, 0, 0, 0, 1 ],\n",
    "          [ 4, 5, 6, 7, 8 ] ]\n",
    " \n",
    "    for ai in range(4):\n",
    "        moveMatrix(shift[ai], n, a)\n",
    "        print(\"This shift is in {} direction \\n\".format(shift[ai]))\n",
    "        for row in a:\n",
    "            print(row)\n",
    "        print(\"------------------------------------\")"
   ]
  },
  {
   "cell_type": "code",
   "execution_count": null,
   "id": "815264ec",
   "metadata": {},
   "outputs": [],
   "source": []
  }
 ],
 "metadata": {
  "kernelspec": {
   "display_name": "Python 3",
   "language": "python",
   "name": "python3"
  },
  "language_info": {
   "codemirror_mode": {
    "name": "ipython",
    "version": 3
   },
   "file_extension": ".py",
   "mimetype": "text/x-python",
   "name": "python",
   "nbconvert_exporter": "python",
   "pygments_lexer": "ipython3",
   "version": "3.8.8"
  }
 },
 "nbformat": 4,
 "nbformat_minor": 5
}
