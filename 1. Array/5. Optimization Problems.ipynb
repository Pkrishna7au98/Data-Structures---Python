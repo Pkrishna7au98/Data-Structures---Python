{
 "cells": [
  {
   "cell_type": "code",
   "execution_count": 1,
   "id": "14562b23",
   "metadata": {},
   "outputs": [],
   "source": [
    "import numpy as np\n",
    "import math\n",
    "import sys"
   ]
  },
  {
   "cell_type": "markdown",
   "id": "6839d328",
   "metadata": {},
   "source": [
    "#### Largest Sum Contiguous Subarray : Kadane’s Algorithm:"
   ]
  },
  {
   "cell_type": "raw",
   "id": "ef97c48c",
   "metadata": {},
   "source": [
    "The simple idea of Kadane’s algorithm is to look for all positive contiguous segments of the array (max_ending_here is used for this). And keep track of maximum sum contiguous segment among all positive segments (max_so_far is used for this). Each time we get a positive-sum compare it with max_so_far and update max_so_far if it is greater than max_so_far "
   ]
  },
  {
   "cell_type": "code",
   "execution_count": 2,
   "id": "aebf1c8d",
   "metadata": {},
   "outputs": [
    {
     "name": "stdout",
     "output_type": "stream",
     "text": [
      "38\n"
     ]
    }
   ],
   "source": [
    "Array = np.array([-13, -3, 25, -20, 3, -16, 23, -12, 5, 22, -15, 4, 7])\n",
    "\n",
    "max_sum = 0\n",
    "max_sum_ending = 0\n",
    "\n",
    "for i in range(len(Array)):\n",
    "    max_sum_ending = max_sum_ending + Array[i]\n",
    "    \n",
    "    if max_sum < max_sum_ending:\n",
    "        max_sum = max_sum_ending\n",
    " \n",
    "    if max_sum_ending < 0:\n",
    "        max_sum_ending = 0\n",
    "\n",
    "print(max_sum)"
   ]
  },
  {
   "cell_type": "markdown",
   "id": "e4ec247a",
   "metadata": {},
   "source": [
    "#### Maximum profit by buying and selling a share at most twice"
   ]
  },
  {
   "cell_type": "code",
   "execution_count": 3,
   "id": "23fb98b9",
   "metadata": {},
   "outputs": [
    {
     "name": "stdout",
     "output_type": "stream",
     "text": [
      "A max profit of 87 Rs be earned with max 2 trancs allowed.\n"
     ]
    }
   ],
   "source": [
    "prices = np.array([10, 22, 5, 75, 65, 80])\n",
    "\n",
    "def MaxProfit(arr):\n",
    "    n = len(arr)\n",
    "    profit = [0]*n\n",
    "    \n",
    "    max_price = arr[n-1]\n",
    "    \n",
    "    for i in range(n-2,0,-1):\n",
    "\n",
    "        if arr[i] > max_price:\n",
    "            max_price = arr[i]\n",
    "        \n",
    "        profit[i] = max(profit[i+1] , max_price - arr[i])\n",
    "\n",
    "        \n",
    "    min_price = arr[0]\n",
    "    \n",
    "    for j in range(1,n):\n",
    "        if arr[j] < min_price:\n",
    "            min_price = arr[j]\n",
    "            \n",
    "        profit[j] = max(profit[j-1] , profit[j] + arr[j] - min_price)\n",
    "    \n",
    "    return print(\"A max profit of {} Rs be earned with max 2 trancs allowed.\".format(profit[n-1]))\n",
    "MaxProfit(prices)"
   ]
  },
  {
   "cell_type": "markdown",
   "id": "8aea84a9",
   "metadata": {},
   "source": [
    "#### Find the subarray  of size k with least average"
   ]
  },
  {
   "cell_type": "code",
   "execution_count": 4,
   "id": "fe468cdc",
   "metadata": {},
   "outputs": [
    {
     "name": "stdout",
     "output_type": "stream",
     "text": [
      "The Least average found is :  5.0\n"
     ]
    }
   ],
   "source": [
    "LA = np.array([3, 7, 5, 20, 10, 0, 12])\n",
    "n = len(LA)\n",
    "k = 3\n",
    "\n",
    "my_avg = 1000\n",
    "\n",
    "for i in range(len(Array)):\n",
    "    if i+k-1 < n:\n",
    "        avg = sum(LA[i:i+k])/k\n",
    "\n",
    "        if avg < my_avg:\n",
    "            my_avg = avg\n",
    "            \n",
    "print(\"The Least average found is : \",my_avg)"
   ]
  },
  {
   "cell_type": "markdown",
   "id": "87518de0",
   "metadata": {},
   "source": [
    "#### Find the minimum distance between two numbers"
   ]
  },
  {
   "cell_type": "code",
   "execution_count": 5,
   "id": "70d8a44b",
   "metadata": {},
   "outputs": [
    {
     "data": {
      "text/plain": [
       "8"
      ]
     },
     "execution_count": 5,
     "metadata": {},
     "output_type": "execute_result"
    }
   ],
   "source": [
    "MD = np.array([5, 3, 4, 2, 6, 5, 6, 6, 5, 14, 8, 3])\n",
    "\n",
    "def MinDistance(arr,x,y):\n",
    "    n = len(arr)\n",
    "    mdis = n+1\n",
    "    \n",
    "    for i in range(n):\n",
    "            for j in range(n):\n",
    "                \n",
    "                if (x == arr[i] and y == arr[j] or y == arr[i] and x == arr[j]) and mdis > abs(i-j):\n",
    "                    mdis = abs(i-j)\n",
    "                    \n",
    "    return mdis\n",
    "\n",
    "MinDistance(MD,4,8)"
   ]
  },
  {
   "cell_type": "markdown",
   "id": "15e9fa5b",
   "metadata": {},
   "source": [
    "#### Minimize the maximum difference between the heights"
   ]
  },
  {
   "cell_type": "code",
   "execution_count": 6,
   "id": "5d085522",
   "metadata": {},
   "outputs": [
    {
     "name": "stdout",
     "output_type": "stream",
     "text": [
      "The maximum difference now is:  5\n"
     ]
    }
   ],
   "source": [
    "Towers = np.array([1,15,10])\n",
    "\n",
    "def MinMaxDiff(arr, k):\n",
    "    \n",
    "    n = len(arr)\n",
    "    \n",
    "    arr.sort()\n",
    "    \n",
    "    mine = arr[0]\n",
    "    maxe = arr[n-1]\n",
    "    \n",
    "    if k > (maxe-mine):\n",
    "        for i in range(n):\n",
    "            arr[i] += k\n",
    "        print(\"since k > biggest element, new array is: \",arr)\n",
    "    \n",
    "    arr[0] += k\n",
    "    arr[n-1] -= k\n",
    "        \n",
    "    new_min =  min(arr[0], arr[n-1])\n",
    "    new_max =  max(arr[0], arr[n-1])\n",
    "    \n",
    "    for j in range(1,n-1):\n",
    "        \n",
    "        if arr[j] < new_min:\n",
    "            arr[j] += k\n",
    "            \n",
    "        elif arr[j] > new_max:\n",
    "            arr[j] -= k\n",
    "            \n",
    "        elif (arr[j]-new_min) > ( new_max - arr[j]):\n",
    "            arr[j] -= k\n",
    "            \n",
    "        else:\n",
    "            arr[j] += k\n",
    "\n",
    "        new_min =  min(arr[j] , new_min)\n",
    "        new_max =  max(arr[j] , new_max)\n",
    "\n",
    "    return print(\"The maximum difference now is: \",new_max- new_min)\n",
    "\n",
    "MinMaxDiff(Towers, 6)"
   ]
  },
  {
   "cell_type": "markdown",
   "id": "a9952646",
   "metadata": {},
   "source": [
    "#### Minimum number of jumps to reach end\n"
   ]
  },
  {
   "cell_type": "raw",
   "id": "fd97a590",
   "metadata": {},
   "source": [
    "Given an array of integers where each element represents the max number of steps that can be made forward from that element. Write a function to return the minimum number of jumps to reach the end of the array (starting from the first element). If an element is 0, they cannot move through that element. If the end isn’t reachable, return -1."
   ]
  },
  {
   "cell_type": "code",
   "execution_count": 7,
   "id": "283770c1",
   "metadata": {},
   "outputs": [
    {
     "name": "stdout",
     "output_type": "stream",
     "text": [
      "At the value of i=2 the array Jumps is [0, 1, inf, 0, 0, 0] \n",
      "At the value of i=3 the array Jumps is [0, 1, 2, inf, 0, 0] \n",
      "At the value of i=4 the array Jumps is [0, 1, 2, 2, inf, 0] \n",
      "At the value of i=5 the array Jumps is [0, 1, 2, 2, 2, inf] \n",
      "At the value of i=5 the array Jumps is [0, 1, 2, 2, 2, inf] \n",
      "\n",
      "\n",
      "So the min jumps required to reach the end fo the array are : 3 \n"
     ]
    }
   ],
   "source": [
    "MJ = np.array([1, 3, 6, 1, 0, 9])\n",
    "\n",
    "def MinJumps(arr):\n",
    "    n = len(arr)\n",
    "    Jumps = [0 for i in range(n)]    \n",
    "    \n",
    "    if (n == 0) or (arr[0] == 0):\n",
    "        return float('inf')\n",
    "    \n",
    "    Jumps[0] = 0\n",
    "    for i in range(1,n):\n",
    "        Jumps[i] = float('inf')\n",
    "        for j in range(i):\n",
    "            if (i <= j + arr[j])  and (Jumps[j] != float('inf')):\n",
    "                Jumps[i] = min(Jumps[i] , Jumps[j] +1)\n",
    "                break\n",
    "            print(\"At the value of i={} the array Jumps is {} \".format(i,Jumps))\n",
    "    print(\"\\n\")\n",
    "    return print(\"So the min jumps required to reach the end fo the array are : {} \".format(Jumps[n-1]))\n",
    "\n",
    "MinJumps(MJ)"
   ]
  },
  {
   "cell_type": "markdown",
   "id": "132ade81",
   "metadata": {},
   "source": [
    "#### Maximum Sum Increasing Subsequence | DP-14"
   ]
  },
  {
   "cell_type": "raw",
   "id": "d267d41d",
   "metadata": {},
   "source": [
    "Given an array of n positive integers. Write a program to find the sum of maximum sum subsequence of the given array such that the integers in the subsequence are sorted in increasing order. For example, if input is {1, 101, 2, 3, 100, 4, 5}, then output should be 106 (1 + 2 + 3 + 100), if the input array is {3, 4, 5, 10}, then output should be 22 (3 + 4 + 5 + 10) and if the input array is {10, 5, 4, 3}, then output should be 10"
   ]
  },
  {
   "cell_type": "code",
   "execution_count": 8,
   "id": "f0996bbd",
   "metadata": {},
   "outputs": [
    {
     "name": "stdout",
     "output_type": "stream",
     "text": [
      "[1, 102, 2, 3, 100, 4, 5]\n",
      "[1, 102, 3, 3, 100, 4, 5]\n",
      "[1, 102, 3, 6, 100, 4, 5]\n",
      "[1, 102, 3, 6, 106, 4, 5]\n",
      "[1, 102, 3, 6, 106, 10, 5]\n",
      "[1, 102, 3, 6, 106, 10, 15]\n",
      "The max sum can be found for a subsequence is :  106\n"
     ]
    }
   ],
   "source": [
    "MSseq = np.array([1, 101, 2, 3, 100, 4, 5])\n",
    "\n",
    "def MaxSumSeq(arr):\n",
    "    n = len(arr)\n",
    "    \n",
    "    msis = [0 for x in range(n)]\n",
    "\n",
    "    maxis = 0\n",
    "    \n",
    "    for y in range(n):\n",
    "        msis[y] = arr[y]\n",
    "    \n",
    "    for i in range(1,n):\n",
    "        for j in range(i):\n",
    "            if (arr[i] > arr[j] and msis[i] < msis[j] + arr[i]):\n",
    "                msis[i] = msis[j] + arr[i]\n",
    "        print(msis)\n",
    "                \n",
    "    for p in range(n):\n",
    "        if maxis < msis[p]:\n",
    "            maxis = msis[p]\n",
    "            \n",
    "    return print(\"The max sum can be found for a subsequence is : \",maxis)\n",
    "\n",
    "MaxSumSeq(MSseq)"
   ]
  },
  {
   "cell_type": "markdown",
   "id": "0d211884",
   "metadata": {},
   "source": [
    "#### Smallest subarray with sum greater than a given value"
   ]
  },
  {
   "cell_type": "code",
   "execution_count": 9,
   "id": "5241d7a6",
   "metadata": {},
   "outputs": [
    {
     "data": {
      "text/plain": [
       "3"
      ]
     },
     "execution_count": 9,
     "metadata": {},
     "output_type": "execute_result"
    }
   ],
   "source": [
    "ML = np.array([1, 4, 45, 6, 10, 19])\n",
    "\n",
    "def MinLength(arr,x):\n",
    "    n = len(arr)\n",
    "    min_len = n+1\n",
    "    \n",
    "    for i in range(n):\n",
    "        curr_sum = arr[i]\n",
    "        \n",
    "        if (curr_sum > x):\n",
    "            return 1\n",
    "        \n",
    "        for j in range(i+1,n):\n",
    "            curr_sum += arr[j]\n",
    "            \n",
    "            if curr_sum > x and j- i+ 1 < min_len:\n",
    "                min_len =  j - i +1\n",
    "                \n",
    "    return min_len\n",
    "\n",
    "MinLength(ML, 51)"
   ]
  },
  {
   "cell_type": "markdown",
   "id": "d8e37e39",
   "metadata": {},
   "source": [
    "#### Find maximum average subarray of k length"
   ]
  },
  {
   "cell_type": "code",
   "execution_count": 10,
   "id": "c0e4b693",
   "metadata": {},
   "outputs": [
    {
     "name": "stdout",
     "output_type": "stream",
     "text": [
      "The maximum sum of subarray with length 4 starts at index 1\n"
     ]
    }
   ],
   "source": [
    "MSAvg = np.array([1, 12, -5, -6, 50, 3])\n",
    "\n",
    "def AuxArray(arr):\n",
    "    n = len(arr)\n",
    "    \n",
    "    aux = [0]*n\n",
    "    aux[0] = arr[0]\n",
    "    for i in range(1, n):\n",
    "        aux[i] = aux[i-1] + arr[i]\n",
    "        \n",
    "    return aux\n",
    "    \n",
    "def MSumAvg(arr , k):\n",
    "    \n",
    "    AuxArr = AuxArray(arr)\n",
    "    \n",
    "    try:\n",
    "        max_sum = AuxArr[k-1]\n",
    "        max_end = k-1\n",
    "\n",
    "        for j in range(k,n-1):\n",
    "            curr_sum = AuxArr[j] - AuxArr[j-k]\n",
    "\n",
    "            if curr_sum > max_sum:\n",
    "                max_sum = curr_sum\n",
    "                max_end = j\n",
    "        return print(\"The maximum sum of subarray with length {} starts at index {}\".format(k , max_end - k + 1))\n",
    "    except:\n",
    "        print(\"Error Ocurred : Please check entered parameters\")\n",
    "MSumAvg(MSAvg, 4)"
   ]
  },
  {
   "cell_type": "markdown",
   "id": "d15a4637",
   "metadata": {},
   "source": [
    "#### Count minimum steps to get the given desired array"
   ]
  },
  {
   "cell_type": "code",
   "execution_count": 53,
   "id": "07c9a11b",
   "metadata": {},
   "outputs": [
    {
     "name": "stdout",
     "output_type": "stream",
     "text": [
      "This code require some corrections, solve it, the wrong answer is :  15\n"
     ]
    }
   ],
   "source": [
    "def MinStepsR(target):\n",
    "    n = len(target)\n",
    "    result = 0\n",
    "    \n",
    "    while (True):\n",
    "        \n",
    "        zeros = 0\n",
    "        i = 0\n",
    "        while i<n:\n",
    "            if ((target[i] & 1) > 0):\n",
    "                break\n",
    "            \n",
    "            elif (target[i] == 0):\n",
    "                zeros += 1\n",
    "            i+=1\n",
    "            \n",
    "        if (zeros == n):\n",
    "            return result\n",
    "            \n",
    "        if i==n:\n",
    "            for j in range(n):\n",
    "                target[j] = target[j] // 2\n",
    "                result += 1\n",
    "        \n",
    "        for j in range(i,n):\n",
    "            if (target[j] & 1):\n",
    "                target[j] -= 1\n",
    "                result += 1\n",
    "                \n",
    "                \n",
    "DAMS = np.array([16,16,16])               \n",
    "print('This code require some corrections, solve it, the wrong answer is : ', MinStepsR(DAMS))"
   ]
  },
  {
   "cell_type": "code",
   "execution_count": null,
   "id": "171da7a0",
   "metadata": {},
   "outputs": [],
   "source": []
  }
 ],
 "metadata": {
  "kernelspec": {
   "display_name": "Python 3",
   "language": "python",
   "name": "python3"
  },
  "language_info": {
   "codemirror_mode": {
    "name": "ipython",
    "version": 3
   },
   "file_extension": ".py",
   "mimetype": "text/x-python",
   "name": "python",
   "nbconvert_exporter": "python",
   "pygments_lexer": "ipython3",
   "version": "3.8.8"
  }
 },
 "nbformat": 4,
 "nbformat_minor": 5
}
