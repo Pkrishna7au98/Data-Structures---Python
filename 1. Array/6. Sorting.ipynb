{
 "cells": [
  {
   "cell_type": "code",
   "execution_count": 1,
   "id": "ec7aead0",
   "metadata": {},
   "outputs": [],
   "source": [
    "import numpy as np\n",
    "import sys\n",
    "import math"
   ]
  },
  {
   "cell_type": "markdown",
   "id": "f5f8278f",
   "metadata": {},
   "source": [
    "#### Alternative Sorting"
   ]
  },
  {
   "cell_type": "raw",
   "id": "c795220b",
   "metadata": {},
   "source": [
    "Given an array of integers, print the array in such a way that the first element is first maximum and second element is first minimum and so on."
   ]
  },
  {
   "cell_type": "code",
   "execution_count": 2,
   "id": "3686a610",
   "metadata": {},
   "outputs": [
    {
     "name": "stdout",
     "output_type": "stream",
     "text": [
      "8 1 7 2 6 3 5 4 "
     ]
    }
   ],
   "source": [
    "myarr = np.array([7, 1, 2, 3, 4, 8, 5, 6])\n",
    "\n",
    "def AlterSort(arr):\n",
    "    n = len(arr)\n",
    "    \n",
    "    arr.sort()\n",
    "    \n",
    "    i= 0\n",
    "    j = n-1\n",
    "    \n",
    "    while i<j:\n",
    "        print(arr[j], end = \" \")\n",
    "        print(arr[i], end = \" \")\n",
    "        i+=1\n",
    "        j-=1\n",
    "        \n",
    "AlterSort(myarr)"
   ]
  },
  {
   "cell_type": "markdown",
   "id": "1f473626",
   "metadata": {},
   "source": [
    "#### Sort a nearly sorted (or K sorted) array\n"
   ]
  },
  {
   "cell_type": "code",
   "execution_count": 3,
   "id": "db2072fe",
   "metadata": {},
   "outputs": [
    {
     "data": {
      "text/plain": [
       "array([ 2,  3,  6,  8, 12, 56])"
      ]
     },
     "execution_count": 3,
     "metadata": {},
     "output_type": "execute_result"
    }
   ],
   "source": [
    "array = np.array([2, 6, 3, 12, 56, 8])\n",
    "\n",
    "def Ksorted(A):\n",
    "    n = len(A)\n",
    "    \n",
    "    for i in range(n):\n",
    "        j = i-1\n",
    "        key = A[i]\n",
    "\n",
    "        while j>=0 and A[j]>key:\n",
    "            A[j+1] = A[j]\n",
    "            j = j-1\n",
    "            A[j+1] = key\n",
    "    return A\n",
    "\n",
    "Ksorted(array)"
   ]
  },
  {
   "cell_type": "markdown",
   "id": "e75cfdd6",
   "metadata": {},
   "source": [
    "#### Sort an array according to absolute difference with given value\n"
   ]
  },
  {
   "cell_type": "code",
   "execution_count": 4,
   "id": "2da54a8d",
   "metadata": {},
   "outputs": [
    {
     "data": {
      "text/plain": [
       "array([6, 3, 2, 8])"
      ]
     },
     "execution_count": 4,
     "metadata": {},
     "output_type": "execute_result"
    }
   ],
   "source": [
    "ABS = np.array([2, 6, 8, 3])\n",
    "\n",
    "def SortAbs(arr,x):\n",
    "    n = len(arr)\n",
    "    \n",
    "    diff = [0]*n\n",
    "    for i in range(n):\n",
    "        diff[i] = abs(arr[i]-x)\n",
    "        \n",
    "    l=0\n",
    "    indexes = [0]*n\n",
    "    while l<n:\n",
    "        key = diff.index(min(diff))\n",
    "        diff[key] = float('inf')\n",
    "        indexes[l] = key\n",
    "        l+=1\n",
    "        \n",
    "    ans = arr.copy()\n",
    "    for m in range(n):\n",
    "        ans[m] = arr[indexes[m]]\n",
    "    \n",
    "    return ans\n",
    "\n",
    "SortAbs(ABS,5)"
   ]
  },
  {
   "cell_type": "markdown",
   "id": "76bc7eed",
   "metadata": {},
   "source": [
    "#### Sort an array in wave form\n"
   ]
  },
  {
   "cell_type": "code",
   "execution_count": 5,
   "id": "488895fa",
   "metadata": {},
   "outputs": [
    {
     "data": {
      "text/plain": [
       "array([90, 10, 49,  1,  5,  2, 23])"
      ]
     },
     "execution_count": 5,
     "metadata": {},
     "output_type": "execute_result"
    }
   ],
   "source": [
    "WF = np.array([10, 90, 49, 2, 1, 5, 23])\n",
    "\n",
    "def WaveSorted(arr):\n",
    "    n = len(arr)\n",
    "    \n",
    "    for i in range(0,n,2):\n",
    "        \n",
    "        if (i>0 and arr[i] < arr[i-1]):\n",
    "            arr[i],arr[i-1] = arr[i-1],arr[i]\n",
    "        \n",
    "        if (i<n-1 and arr[i] < arr[i+1]):\n",
    "            arr[i],arr[i+1] = arr[i+1],arr[i]\n",
    "    return arr\n",
    "    \n",
    "WaveSorted(WF)"
   ]
  },
  {
   "cell_type": "markdown",
   "id": "1fbac815",
   "metadata": {},
   "source": [
    "#### Merge an array of size n into another array of size m+n\n"
   ]
  },
  {
   "cell_type": "code",
   "execution_count": 6,
   "id": "cd7b3e44",
   "metadata": {},
   "outputs": [
    {
     "data": {
      "text/plain": [
       "array([ 2,  5,  7,  8,  9, 13, 15, 20, 25])"
      ]
     },
     "execution_count": 6,
     "metadata": {},
     "output_type": "execute_result"
    }
   ],
   "source": [
    "NA = -1\n",
    "\n",
    "MpN = np.array([2, 8, NA, NA, NA, 13, NA, 15, 20])\n",
    "N = np.array([5, 7, 9, 25])\n",
    "\n",
    "def MplusN(MN,N):\n",
    "    \n",
    "    mn = len(MN)\n",
    "    n = len(N)\n",
    "    \n",
    "    for i in range(n):\n",
    "        for j in range(mn):\n",
    "            if (MN[j] == -1):\n",
    "                MN[j] = N[i]\n",
    "                break\n",
    "    MN.sort()\n",
    "    return MN\n",
    "\n",
    "MplusN(MpN,N)\n"
   ]
  },
  {
   "cell_type": "markdown",
   "id": "a8d854df",
   "metadata": {},
   "source": [
    "#### Sort an array which contain 1 to n values\n"
   ]
  },
  {
   "cell_type": "code",
   "execution_count": 7,
   "id": "3f266d99",
   "metadata": {},
   "outputs": [
    {
     "name": "stdout",
     "output_type": "stream",
     "text": [
      "[ 1  2  3  4  5  6  7  8  9 10]\n"
     ]
    }
   ],
   "source": [
    "SrtArr = np.array([10, 7, 9, 2, 8, 3, 5, 4, 6, 1])\n",
    "\n",
    "n = len(SrtArr)\n",
    "for i in range(n):\n",
    "    SrtArr[i] = i+1\n",
    "    \n",
    "print(SrtArr)"
   ]
  },
  {
   "cell_type": "markdown",
   "id": "ba8faaa9",
   "metadata": {},
   "source": [
    "#### Sort elements by frequency | Set 1\n"
   ]
  },
  {
   "cell_type": "code",
   "execution_count": 8,
   "id": "060ed702",
   "metadata": {},
   "outputs": [
    {
     "name": "stdout",
     "output_type": "stream",
     "text": [
      "Array sorted by frequency is :  8 8 8 -1 -1 2 2 5 5 6 9999999 "
     ]
    }
   ],
   "source": [
    "\n",
    "#//----------------Brute Force Method-------------------//\n",
    "\n",
    "Freq = np.array([2, 5,-1, 2, 6, -1, 9999999, 5, 8, 8, 8])\n",
    "\n",
    "def SortFreq(arr):\n",
    "    n = len(arr)\n",
    "    \n",
    "    arr.sort()\n",
    "    \n",
    "    dc = {}\n",
    "    for i in range(n):\n",
    "        temp = arr[i]\n",
    "        count = 0\n",
    "        for j in range(n):\n",
    "            if arr[j] == temp:\n",
    "                count += 1\n",
    "        dc[temp] = count\n",
    "        \n",
    "    sorte = dict(sorted(dc.items(), key=lambda item: item[1], reverse = True))\n",
    "    k = list(sorte.keys())\n",
    "    \n",
    "    print(\"Array sorted by frequency is : \", end= \" \")\n",
    "    for p,s in enumerate(k):\n",
    "        l = sorte[s] \n",
    "        for s in range(l):\n",
    "            print(k[p], end = \" \" )\n",
    "\n",
    "SortFreq(Freq)"
   ]
  },
  {
   "cell_type": "markdown",
   "id": "90ff4a27",
   "metadata": {},
   "source": [
    "#### Count Inversions in an array | Set 1 (Using Merge Sort)"
   ]
  },
  {
   "cell_type": "code",
   "execution_count": 9,
   "id": "95f85834",
   "metadata": {},
   "outputs": [
    {
     "data": {
      "text/plain": [
       "5"
      ]
     },
     "execution_count": 9,
     "metadata": {},
     "output_type": "execute_result"
    }
   ],
   "source": [
    "Inv = np.array([1, 20, 6, 4, 5])\n",
    "\n",
    "def Inversions(arr):\n",
    "    n = len(arr)\n",
    "    count = 0\n",
    "    for i in range(n):\n",
    "        temp = arr[i]\n",
    "        for j in range(i+1,n):\n",
    "            if arr[j] < temp:\n",
    "                count += 1\n",
    "    return count\n",
    "\n",
    "Inversions(Inv)"
   ]
  },
  {
   "cell_type": "markdown",
   "id": "8d9ee77d",
   "metadata": {},
   "source": [
    "#### Two elements whose sum is closest to zero"
   ]
  },
  {
   "cell_type": "raw",
   "id": "6a813401",
   "metadata": {},
   "source": [
    "Question: An Array of integers is given, both +ve and -ve. You need to find the two elements such that their sum is closest to zero.\n",
    "For the below array, program should print -80 and 85."
   ]
  },
  {
   "cell_type": "raw",
   "id": "ad0f7724",
   "metadata": {},
   "source": [
    "Algorithm \n",
    "1) Sort all the elements of the input array. \n",
    "2) Use two index variables l and r to traverse from left and right ends respectively. Initialize l as 0 and r as n-1. \n",
    "3) sum = a[l] + a[r] \n",
    "4) If sum is -ve, then l++ \n",
    "5) If sum is +ve, then r– \n",
    "6) Keep track of abs min sum. \n",
    "7) Repeat steps 3, 4, 5 and 6 while l < r"
   ]
  },
  {
   "cell_type": "code",
   "execution_count": 10,
   "id": "d4963a76",
   "metadata": {},
   "outputs": [
    {
     "name": "stdout",
     "output_type": "stream",
     "text": [
      "[-80  -9   1   7   8  10]\n",
      "The min distance found from 0 is 1 with pair -9,10\n"
     ]
    }
   ],
   "source": [
    "CLZ = np.array([1, -9, 10, 7, -80, 8])\n",
    "\n",
    "def NearZero(arr):\n",
    "    n = len(arr)\n",
    "    \n",
    "    arr.sort()\n",
    "    i = 0\n",
    "    j = n-1\n",
    "    \n",
    "    aux = 9999999\n",
    "    \n",
    "    while (i < j):\n",
    "\n",
    "        temp = arr[i]+arr[j]\n",
    "        \n",
    "        if abs(temp) < aux:\n",
    "            aux = abs(temp)\n",
    "            p =i\n",
    "            k=j\n",
    "            \n",
    "        if temp == 0:\n",
    "            return i,j,arr\n",
    "        \n",
    "        else:\n",
    "            if temp<0:\n",
    "                i+=1\n",
    "            if temp>0:\n",
    "                j-=1\n",
    "                \n",
    "  \n",
    "    print(arr)\n",
    "    return print(\"The min distance found from 0 is {} with pair {},{}\".format(aux,arr[p],arr[k]))\n",
    "\n",
    "NearZero(CLZ)"
   ]
  },
  {
   "cell_type": "markdown",
   "id": "fa721e3e",
   "metadata": {},
   "source": [
    "#### Minimum number of swaps required to sort an array\n"
   ]
  },
  {
   "cell_type": "raw",
   "id": "aad7b841",
   "metadata": {},
   "source": [
    "While iterating over the array, check the current element, and if not in the correct place, replace that element with the index of the element which should have come in this place."
   ]
  },
  {
   "cell_type": "code",
   "execution_count": 11,
   "id": "056a7d91",
   "metadata": {},
   "outputs": [
    {
     "name": "stdout",
     "output_type": "stream",
     "text": [
      "Min swaps required are :  5\n"
     ]
    }
   ],
   "source": [
    "Swap = np.array([101, 758, 315, 730, 472, 619, 460, 479 ])\n",
    "\n",
    "def minSwap(arr):\n",
    "    n = len(arr)\n",
    "    \n",
    "    ans = 0\n",
    "    temp = arr.copy()\n",
    "    h = {}\n",
    "    temp.sort()\n",
    " \n",
    "    for i in range(n):\n",
    "        h[arr[i]] = i\n",
    "         \n",
    "    init = 0\n",
    "    for i in range(n):\n",
    "        if (arr[i] != temp[i]):\n",
    "            ans += 1\n",
    "            init = arr[i]\n",
    "\n",
    "            arr[i], arr[h[temp[i]]] = arr[h[temp[i]]], arr[i]\n",
    " \n",
    "            h[init] = h[temp[i]]\n",
    "            h[temp[i]] = i\n",
    "    return print(\"Min swaps required are : \",ans)\n",
    "minSwap(Swap)"
   ]
  },
  {
   "cell_type": "markdown",
   "id": "fecb3e34",
   "metadata": {},
   "source": [
    "#### Union and Intersection of two sorted arrays\n"
   ]
  },
  {
   "cell_type": "code",
   "execution_count": 12,
   "id": "5f38647e",
   "metadata": {},
   "outputs": [
    {
     "name": "stdout",
     "output_type": "stream",
     "text": [
      "Union is :  [1, 2, 2, 3, 4, 6, 7, 8]\n"
     ]
    }
   ],
   "source": [
    "arr1 = [2, 2, 4, 6, 7, 8]\n",
    "arr2 = [1, 2, 2, 3, 4]\n",
    "\n",
    "def Union(arr1,arr2):\n",
    "    n1 = len(arr1)\n",
    "    n2 = len(arr2)\n",
    "    \n",
    "    for i in range(n2):\n",
    "        if arr2[i] not in arr1:\n",
    "            arr1.append(arr2[i])\n",
    "    arr1.sort()\n",
    "    return print(\"Union is : \",arr1)\n",
    "\n",
    "\n",
    "Union(arr1,arr2)"
   ]
  },
  {
   "cell_type": "code",
   "execution_count": 13,
   "id": "0608a2ff",
   "metadata": {},
   "outputs": [
    {
     "name": "stdout",
     "output_type": "stream",
     "text": [
      "Intersection is :  [2, 7, 4]\n"
     ]
    }
   ],
   "source": [
    "a1 = [4, 2, 7,9, 6, 8]\n",
    "a2 = [1, 2, 7, 3, 4]\n",
    "\n",
    "def Intersection(arr1,arr2):\n",
    "    n1 = len(arr1)\n",
    "    n2 = len(arr2)\n",
    "    In = []\n",
    "    for i in range(n2):\n",
    "        if arr2[i] in arr1:\n",
    "            In.append(arr2[i])\n",
    "    return print(\"Intersection is : \",In)\n",
    "Intersection(a1,a2)"
   ]
  },
  {
   "cell_type": "markdown",
   "id": "c67cd6c6",
   "metadata": {},
   "source": [
    "#### Sort an array of 0s, 1s and 2s"
   ]
  },
  {
   "cell_type": "code",
   "execution_count": 14,
   "id": "13c77d60",
   "metadata": {},
   "outputs": [
    {
     "data": {
      "text/plain": [
       "array([0, 0, 0, 1, 1, 1, 1, 1, 1, 2, 2, 2])"
      ]
     },
     "execution_count": 14,
     "metadata": {},
     "output_type": "execute_result"
    }
   ],
   "source": [
    "A210r = np.array([0, 1, 1, 2, 1, 2, 1, 2, 0, 1, 0, 1])\n",
    "\n",
    "def Sort210(arr):\n",
    "    n = len(arr)\n",
    "    \n",
    "    l = 0\n",
    "    m = 0\n",
    "    h = n-1\n",
    "    \n",
    "    \n",
    "    while m<=h:\n",
    "        \n",
    "        if arr[m] == 0:\n",
    "            arr[l],arr[m] = arr[m],arr[l]\n",
    "            l += 1\n",
    "            m+=1\n",
    "            \n",
    "        elif arr[m] == 1:\n",
    "            m += 1\n",
    "        else:\n",
    "            arr[m],arr[h] = arr[h],arr[m]\n",
    "            h -= 1\n",
    "    return arr\n",
    "\n",
    "Sort210(A210r)"
   ]
  },
  {
   "cell_type": "markdown",
   "id": "ecc958bb",
   "metadata": {},
   "source": [
    "#### Find the Minimum length Unsorted Subarray, sorting which makes the complete array sorted\n"
   ]
  },
  {
   "cell_type": "raw",
   "id": "da0deaad",
   "metadata": {},
   "source": [
    "Given an unsorted array arr[0..n-1] of size n, find the minimum length subarray arr[s..e] such that sorting this subarray makes the whole array sorted. \n",
    "Examples: \n",
    "1) If the input array is [10, 12, 20, 30, 25, 40, 32, 31, 35, 50, 60], your program should be able to find that the subarray lies between the indexes 3 and 8.\n",
    "2) If the input array is [0, 1, 15, 25, 6, 7, 30, 40, 50], your program should be able to find that the subarray lies between the indexes 2 and 5."
   ]
  },
  {
   "cell_type": "raw",
   "id": "f24ce651",
   "metadata": {},
   "source": [
    "Solution: \n",
    "1) Find the candidate unsorted subarray \n",
    "a) Scan from left to right and find the first element which is greater than the next element. Let s be the index of such an element. In the above example 1, s is 3 (index of 30). \n",
    "b) Scan from right to left and find the first element (first in right to left order) which is smaller than the next element (next in right to left order). Let e be the index of such an element. In the above example 1, e is 7 (index of 31).\n",
    "2) Check whether sorting the candidate unsorted subarray makes the complete array sorted or not. If not, then include more elements in the subarray. \n",
    "a) Find the minimum and maximum values in arr[s..e]. Let minimum and maximum values be min and max. min and max for [30, 25, 40, 32, 31] are 25 and 40 respectively. \n",
    "b) Find the first element (if there is any) in arr[0..s-1] which is greater than min, change s to index of this element. There is no such element in above example 1. \n",
    "c) Find the last element (if there is any) in arr[e+1..n-1] which is smaller than max, change e to index of this element. In the above example 1, e is changed to 8 (index of 35)\n",
    "3) Print s and e."
   ]
  },
  {
   "cell_type": "code",
   "execution_count": 15,
   "id": "f1834d7a",
   "metadata": {},
   "outputs": [
    {
     "name": "stdout",
     "output_type": "stream",
     "text": [
      "The range for smallest array required to be sorted to sort to complete array is : 2  to  5\n"
     ]
    }
   ],
   "source": [
    "CSRT = np.array([0, 1, 15, 25, 6, 7, 30, 40, 50])\n",
    "\n",
    "def CandSort(arr):\n",
    "    n = len(arr)\n",
    "    \n",
    "    for i in range(n):\n",
    "        if arr[i]>arr[i+1]:\n",
    "            s = i\n",
    "            break\n",
    "    for j in range(n-1,0,-1):\n",
    "        if arr[j]<arr[j-1]:\n",
    "            e = j\n",
    "            break\n",
    "            \n",
    "    arr[i:j+1].sort()\n",
    "\n",
    "    count = 0\n",
    "    for p in range(n-1):\n",
    "        if arr[p]<arr[p+1]:\n",
    "            count +=1\n",
    "\n",
    "    if count == n:\n",
    "        return s,e\n",
    "    else:\n",
    "        minval = min(arr[s:e+1])\n",
    "        maxval = max(arr[s:e+1])\n",
    "\n",
    "        for l in range(s+1):\n",
    "            if arr[l] > minval:\n",
    "                s = l\n",
    "                break\n",
    "        for m in range(e+1,n):\n",
    "            if arr[m] < maxval:\n",
    "                e = m\n",
    "                break\n",
    "    return print(\"The range for smallest array required to be sorted to sort to complete array is :\",s,\" to \",e)\n",
    "CandSort(CSRT)"
   ]
  },
  {
   "cell_type": "markdown",
   "id": "5df04d4b",
   "metadata": {},
   "source": [
    "#### Count the number of possible triangles\n"
   ]
  },
  {
   "cell_type": "raw",
   "id": "2c7c89f8",
   "metadata": {},
   "source": [
    "Given an unsorted array of positive integers, find the number of triangles that can be formed with three different array elements as three sides of triangles. For a triangle to be possible from 3 values, the sum of any of the two values (or sides) must be greater than the third value (or third side). "
   ]
  },
  {
   "cell_type": "code",
   "execution_count": 16,
   "id": "0ccf0735",
   "metadata": {},
   "outputs": [
    {
     "name": "stdout",
     "output_type": "stream",
     "text": [
      "Total Triangles can be made from the given array are :  6\n"
     ]
    }
   ],
   "source": [
    "Tri_Arr = np.array([ 10, 21, 22, 100, 101, 200, 300 ])\n",
    "\n",
    "def Triangles(arr):\n",
    "    count = 0\n",
    "    n = len(arr)\n",
    "    \n",
    "    for i in range(n):\n",
    "        for j in range(i+1, n):\n",
    "            for k in range(j+1, n):\n",
    "                if (arr[i] + arr[j] > arr[k] and \n",
    "                    arr[i] + arr[k] > arr[j] and \n",
    "                    arr[k] + arr[j] > arr[i]):\n",
    "                    \n",
    "                    count += 1\n",
    "    \n",
    "    return print(\"Total Triangles can be made from the given array are : \",count)\n",
    "\n",
    "Triangles(Tri_Arr)\n",
    "    "
   ]
  },
  {
   "cell_type": "markdown",
   "id": "a0a82874",
   "metadata": {},
   "source": [
    "#### Find number of pairs (x, y) in an array such that x^y > y^x\n"
   ]
  },
  {
   "cell_type": "code",
   "execution_count": 17,
   "id": "d3376f55",
   "metadata": {},
   "outputs": [
    {
     "data": {
      "text/plain": [
       "2"
      ]
     },
     "execution_count": 17,
     "metadata": {},
     "output_type": "execute_result"
    }
   ],
   "source": [
    "def countPairsBruteForce(X, Y, m, n):\n",
    "    ans = 0\n",
    "    for i in range(m):\n",
    "        for j in range(n):\n",
    "            if (pow(X[i], Y[j]) > pow(Y[j], X[i])):\n",
    "                ans += 1\n",
    "    return ans\n",
    "\n",
    "X = (10, 19, 18)\n",
    "Y = (11, 15, 9)\n",
    "\n",
    "countPairsBruteForce(X,Y,len(X),len(Y))"
   ]
  },
  {
   "cell_type": "markdown",
   "id": "012c9fe9",
   "metadata": {},
   "source": [
    "#### Print All Distinct Elements of a given integer array\n"
   ]
  },
  {
   "cell_type": "code",
   "execution_count": 21,
   "id": "a788035a",
   "metadata": {},
   "outputs": [
    {
     "data": {
      "text/plain": [
       "[30, 10, 21, 22, 11, 20]"
      ]
     },
     "execution_count": 21,
     "metadata": {},
     "output_type": "execute_result"
    }
   ],
   "source": [
    "Distinct = np.array([30, 10, 21, 30, 22, 10, 11, 10, 20, 30, 21, 30, 10])\n",
    "\n",
    "def Distincts(arr):\n",
    "    list = []\n",
    "    for i in range(n):\n",
    "        if arr[i] not in list:\n",
    "            list.append(arr[i])\n",
    "    return list\n",
    "\n",
    "Distincts(Distinct)"
   ]
  },
  {
   "cell_type": "markdown",
   "id": "52a4e2fd",
   "metadata": {},
   "source": [
    "#### Construct an array from its pair - sum array\n"
   ]
  },
  {
   "cell_type": "code",
   "execution_count": 53,
   "id": "650e1e78",
   "metadata": {},
   "outputs": [
    {
     "name": "stdout",
     "output_type": "stream",
     "text": [
      "[8, 7, 5, 3, 2]\n"
     ]
    }
   ],
   "source": [
    "Pairs = np.array([15, 13, 11, 10, 12, 10, 9, 8, 7, 5])\n",
    "\n",
    "#So, if the length of a array is n then in the pair array we will have n(n-1)/2 elements \n",
    "#by simple airthmatic\n",
    "\n",
    "\n",
    "\n",
    "def FindArr(pair):\n",
    "    n = len(pair)\n",
    "    \n",
    "    #Finding the len of original array\n",
    "    l = (1 + (1 + (4 * 2*(n)))**0.5)/2\n",
    "    \n",
    "    Array = [0]*int(l)\n",
    "    \n",
    "    Array[0] = (pair[0]+pair[1] - pair[int(l)-1]) // 2\n",
    "    \n",
    "    for i in range(1,int(l)):\n",
    "        Array[i] = pair[i-1]-Array[0]\n",
    " \n",
    "    print (Array)\n",
    "FindArr(Pairs)\n",
    "    "
   ]
  },
  {
   "cell_type": "markdown",
   "id": "201e25f0",
   "metadata": {},
   "source": [
    "#### Merge two sorted arrays with O(1) extra space"
   ]
  },
  {
   "cell_type": "raw",
   "id": "133c6f9c",
   "metadata": {},
   "source": [
    "We are given two sorted arrays. We need to merge these two arrays such that the initial numbers (after complete sorting) are in the first array and the remaining numbers are in the second array. Extra space allowed in O(1)."
   ]
  },
  {
   "cell_type": "raw",
   "id": "f315a800",
   "metadata": {},
   "source": [
    "1) Iterate through every element of ar2[] starting from last \n",
    "   element. Do following for every element ar2[i]\n",
    "    a) Store last element of ar1[i]: last = ar1[i]\n",
    "    b) Loop from last element of ar1[] while element ar1[j] is \n",
    "       greater than ar2[i].\n",
    "          ar1[j+1] = ar1[j] // Move element one position ahead\n",
    "          j--\n",
    "    c) If any element of ar1[] was moved or (j != m-1)\n",
    "          ar1[j+1] = ar2[i] \n",
    "          ar2[i] = last"
   ]
  },
  {
   "cell_type": "markdown",
   "id": "8d7bbfa1",
   "metadata": {},
   "source": [
    "![Image](https://media.geeksforgeeks.org/wp-content/cdn-uploads/Merge-two-sorted-Arrays.png)"
   ]
  },
  {
   "cell_type": "code",
   "execution_count": 57,
   "id": "aec807c4",
   "metadata": {},
   "outputs": [
    {
     "data": {
      "text/plain": [
       "([1, 3, 5, 8, 9, 10], [2, 13, 15, 20])"
      ]
     },
     "execution_count": 57,
     "metadata": {},
     "output_type": "execute_result"
    }
   ],
   "source": [
    "def MergeSortSA(arr1,arr2):\n",
    "    n1 = len(arr1)\n",
    "    n2 = len(arr2)\n",
    "    \n",
    "    for i in range(n2-1,0,-1):\n",
    "        last = arr1[n1-1]\n",
    "        \n",
    "        j = n1-2\n",
    "        while(j >= 0 and arr1[j] > arr2[i]):\n",
    "            arr1[j+1] = arr1[j]\n",
    "            j-=1\n",
    "  \n",
    "        # If there was a greater element\n",
    "        if (j != n1-2 or last > arr2[i]):\n",
    "         \n",
    "            arr1[j+1] = arr2[i]\n",
    "            arr2[i] = last\n",
    "            \n",
    "    return arr1, arr2    \n",
    "\n",
    "Arr1 = [1, 5, 9, 10, 15, 20]\n",
    "Arr2 = [2, 3, 8, 13]\n",
    "MergeSortSA(Arr1, Arr2)"
   ]
  },
  {
   "cell_type": "markdown",
   "id": "e196178e",
   "metadata": {},
   "source": [
    "#### Product of maximum in first array and minimum in second\n"
   ]
  },
  {
   "cell_type": "code",
   "execution_count": 69,
   "id": "e9b78490",
   "metadata": {},
   "outputs": [
    {
     "name": "stdout",
     "output_type": "stream",
     "text": [
      "10\n"
     ]
    }
   ],
   "source": [
    "def minMaxProduct(arr1, arr2, n1, n2) :\n",
    "    maxval = arr1[0]\n",
    "    minval  = arr2[0]\n",
    "    \n",
    "    i = 0\n",
    "    while (i < n1) :\n",
    "     \n",
    "        if (arr1[i] > maxval) :\n",
    "            maxval = arr1[i]\n",
    "        i += 1\n",
    "        \n",
    "    j = 0 \n",
    "    while (j < n2):\n",
    "     \n",
    "        if (arr2[j] < minval) :\n",
    "            minval = arr2[j]\n",
    "        j += 1\n",
    " \n",
    "    return maxval * minval\n",
    "\n",
    "arr1 = [10, 2, 3, 6, 4, 1 ]\n",
    "arr2 = [5, 1, 4, 6, 7, 9 ]\n",
    "n1 = len(arr1)\n",
    "n2 = len(arr1)\n",
    "print(minMaxProduct(arr1, arr2, n1, n2))"
   ]
  },
  {
   "cell_type": "code",
   "execution_count": null,
   "id": "063e7802",
   "metadata": {},
   "outputs": [],
   "source": []
  }
 ],
 "metadata": {
  "kernelspec": {
   "display_name": "Python 3",
   "language": "python",
   "name": "python3"
  },
  "language_info": {
   "codemirror_mode": {
    "name": "ipython",
    "version": 3
   },
   "file_extension": ".py",
   "mimetype": "text/x-python",
   "name": "python",
   "nbconvert_exporter": "python",
   "pygments_lexer": "ipython3",
   "version": "3.8.8"
  }
 },
 "nbformat": 4,
 "nbformat_minor": 5
}
