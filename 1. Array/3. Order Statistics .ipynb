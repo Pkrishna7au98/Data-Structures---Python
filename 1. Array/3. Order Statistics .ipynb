{
 "cells": [
  {
   "cell_type": "markdown",
   "id": "c8fb325e",
   "metadata": {},
   "source": [
    "#### K’th Smallest/Largest Element in Unsorted Array | Set 1"
   ]
  },
  {
   "cell_type": "markdown",
   "id": "bcb26d13",
   "metadata": {},
   "source": [
    "##### Method 1"
   ]
  },
  {
   "cell_type": "code",
   "execution_count": 1,
   "id": "5444d056",
   "metadata": {},
   "outputs": [],
   "source": [
    "import numpy as np"
   ]
  },
  {
   "cell_type": "code",
   "execution_count": 2,
   "id": "995de441",
   "metadata": {},
   "outputs": [
    {
     "name": "stdout",
     "output_type": "stream",
     "text": [
      "you want Kth Smallest(type 1) or Kth Largest(type 2)? : 2\n",
      "which smallest/Largest value you want (1 = k <= 6) : 5\n",
      "Sorted Array for manual check  [ 3  4  7 10 15 20]\n",
      "Here is your answer 4\n"
     ]
    }
   ],
   "source": [
    "\n",
    "def KthElement(arr,p,k):\n",
    "    n = len(arr)\n",
    "    arr.sort()\n",
    "    print(\"Sorted Array for manual check \",arr)\n",
    "    if (p == 1 and k>0 and k<=n):\n",
    "        return arr[k-1]\n",
    "    elif (p == 2 and k>0 and k<=n):\n",
    "        return print(\"Here is your answer {}\".format(arr[n-k]))\n",
    "\n",
    "\n",
    "my_Arr = np.array([7, 10, 4, 3, 20, 15])\n",
    "n = len(my_Arr)    \n",
    "p = int(input(\"you want Kth Smallest(type 1) or Kth Largest(type 2)? : \"))    \n",
    "k = int(input(\"which smallest/Largest value you want (1 = k <= {}) : \".format(n)))\n",
    "    \n",
    "KthElement(my_Arr,p,k)"
   ]
  },
  {
   "cell_type": "markdown",
   "id": "7589c0fc",
   "metadata": {},
   "source": [
    "##### Method 2"
   ]
  },
  {
   "cell_type": "code",
   "execution_count": 3,
   "id": "766bbcf9",
   "metadata": {},
   "outputs": [
    {
     "name": "stdout",
     "output_type": "stream",
     "text": [
      "K'th smallest element is 12\n"
     ]
    }
   ],
   "source": [
    "\n",
    "# This function returns k'th smallest element\n",
    "# in arr[l..r] using QuickSort based method.\n",
    "# ASSUMPTION: ALL ELEMENTS IN ARR[] ARE DISTINCT\n",
    "import sys\n",
    " \n",
    "def kthSmallest(arr, l, r, k):\n",
    " \n",
    "    # If k is smaller than number of\n",
    "    # elements in array\n",
    "    if (k > 0 and k <= r - l + 1):\n",
    "     \n",
    "        # Partition the array around last\n",
    "        # element and get position of pivot\n",
    "        # element in sorted array\n",
    "        pos = partition(arr, l, r)\n",
    " \n",
    "        # If position is same as k\n",
    "        if (pos - l == k - 1):\n",
    "            return arr[pos]\n",
    "        if (pos - l > k - 1): # If position is more,\n",
    "                              # recur for left subarray\n",
    "            return kthSmallest(arr, l, pos - 1, k)\n",
    " \n",
    "        # Else recur for right subarray\n",
    "        return kthSmallest(arr, pos + 1, r,\n",
    "                            k - pos + l - 1)\n",
    " \n",
    "    # If k is more than number of\n",
    "    # elements in array\n",
    "    return sys.maxsize\n",
    " \n",
    "# Standard partition process of QuickSort().\n",
    "# It considers the last element as pivot and\n",
    "# moves all smaller element to left of it\n",
    "# and greater elements to right\n",
    "def partition(arr, l, r):\n",
    " \n",
    "    x = arr[r]\n",
    "    i = l\n",
    "    for j in range(l, r):\n",
    "        if (arr[j] <= x):\n",
    "            arr[i], arr[j] = arr[j], arr[i]\n",
    "            i += 1\n",
    "    arr[i], arr[r] = arr[r], arr[i]\n",
    "    return i\n",
    "\n",
    "# Driver Code\n",
    "if __name__ == \"__main__\":\n",
    "     \n",
    "    arr = [12, 3, 5, 7, 4, 19, 26]\n",
    "    n = len(arr)\n",
    "    k = 5;\n",
    "    print(\"K'th smallest element is\",\n",
    "           kthSmallest(arr, 0, n - 1, k))"
   ]
  },
  {
   "cell_type": "markdown",
   "id": "064db7b2",
   "metadata": {},
   "source": [
    "#### K Smallest/Largest Element"
   ]
  },
  {
   "cell_type": "code",
   "execution_count": 4,
   "id": "02d84de5",
   "metadata": {},
   "outputs": [
    {
     "name": "stdout",
     "output_type": "stream",
     "text": [
      "[23 30 50]\n"
     ]
    }
   ],
   "source": [
    "def Kelements(arr,k):\n",
    "    arr.sort()\n",
    "    \n",
    "    return print(arr[k+1:])\n",
    "\n",
    "My_Arr =np.array([1, 23, 12, 9, 30, 2, 50])\n",
    "Kelements(My_Arr,3)\n",
    "    "
   ]
  },
  {
   "cell_type": "markdown",
   "id": "1592893c",
   "metadata": {},
   "source": [
    "#### Find all elements in array which have at-least two greater elements"
   ]
  },
  {
   "cell_type": "code",
   "execution_count": 5,
   "id": "60529e0d",
   "metadata": {},
   "outputs": [
    {
     "name": "stdout",
     "output_type": "stream",
     "text": [
      "1 12 9 2 5 "
     ]
    }
   ],
   "source": [
    "#We can also do by sorting this array in simple way but lets look at this one\n",
    "\n",
    "My_Arr =np.array([1, 23, 12, 9, 30, 2, 5])\n",
    "\n",
    "def Elements2Greater(arr):\n",
    "    n = len(arr)\n",
    "    \n",
    "    for i in range(n):\n",
    "        count = 0\n",
    "        for j in range(n):\n",
    "\n",
    "            if arr[j]>arr[i]:\n",
    "                count += 1\n",
    "        if count >= 2:\n",
    "            print(arr[i],end = \" \")\n",
    "    \n",
    "\n",
    "Elements2Greater(My_Arr)"
   ]
  },
  {
   "cell_type": "markdown",
   "id": "f9532fea",
   "metadata": {},
   "source": [
    "#### Program for Mean and median of an unsorted array"
   ]
  },
  {
   "cell_type": "code",
   "execution_count": 6,
   "id": "bea1b22a",
   "metadata": {},
   "outputs": [
    {
     "name": "stdout",
     "output_type": "stream",
     "text": [
      "For the given array Mean is 4.5 and Median is 4.5 .\n"
     ]
    }
   ],
   "source": [
    "Array = np.array([1, 3, 4, 2, 6, 5, 8, 7])\n",
    "\n",
    "def Mean(arr):\n",
    "    \n",
    "    n = len(arr)\n",
    "    sum = 0\n",
    "    for i in range(n):\n",
    "        sum = sum + arr[i]\n",
    "    \n",
    "    mean =float(sum/n)\n",
    "    \n",
    "    return mean\n",
    "\n",
    "def Median(arr):\n",
    "    n = len(arr)\n",
    "    \n",
    "    arr.sort()\n",
    "    \n",
    "    if n%2 !=0:\n",
    "        return arr[int(n/2)+1]\n",
    "    else:\n",
    "        return (arr[int(n/2)-1]+arr[int(n/2)]) / 2\n",
    "\n",
    "\n",
    "\n",
    "print(\"For the given array Mean is {} and Median is {} .\".format(Mean(Array) , Median(Array)))\n"
   ]
  },
  {
   "cell_type": "markdown",
   "id": "81369ef7",
   "metadata": {},
   "source": [
    "#### Median of Stream of Running Integers"
   ]
  },
  {
   "cell_type": "code",
   "execution_count": 7,
   "id": "e1c3f078",
   "metadata": {},
   "outputs": [
    {
     "name": "stdout",
     "output_type": "stream",
     "text": [
      "Enter the number : 25\n",
      "Enter the number : 25\n"
     ]
    },
    {
     "data": {
      "text/plain": [
       "25.0"
      ]
     },
     "execution_count": 7,
     "metadata": {},
     "output_type": "execute_result"
    }
   ],
   "source": [
    "def Inputs(arr,r):\n",
    "\n",
    "    k=0\n",
    "    while k<r:\n",
    "        p = int(input(\"Enter the number : \"))\n",
    "        arr[0][k] = p\n",
    "        k+=1\n",
    "        \n",
    "    if r==1:\n",
    "        return arr[0][0]\n",
    "    if r ==2:\n",
    "        return (arr[0][0]+arr[0][1]) / 2\n",
    "    \n",
    "    else:\n",
    "        for i in range(3,r+1):\n",
    "            if r%2 !=0:\n",
    "                return arr[0][int(r/2)]\n",
    "            else:\n",
    "                return (arr[0][int(r/2)-1]+arr[0][int(r/2)]) / 2\n",
    "                \n",
    "Array = np.zeros((1,2))\n",
    "Inputs(Array,2)"
   ]
  },
  {
   "cell_type": "markdown",
   "id": "fb943e7e",
   "metadata": {},
   "source": [
    "#### Minimum product of k integers in an array of positive Integers"
   ]
  },
  {
   "cell_type": "raw",
   "id": "ea8198b2",
   "metadata": {},
   "source": [
    "#This is imply finding the k smallest elements using sort method. then multiplying the all elements till k to find the min multiplication till k elemements. Similarl, we can use this method for Max multiplication till K elements for that we can reverse sort the array."
   ]
  },
  {
   "cell_type": "markdown",
   "id": "83c5090b",
   "metadata": {},
   "source": [
    "#### K-th Largest Sum Contiguous Subarray"
   ]
  },
  {
   "cell_type": "code",
   "execution_count": 8,
   "id": "f4d4a1ab",
   "metadata": {},
   "outputs": [
    {
     "name": "stdout",
     "output_type": "stream",
     "text": [
      "Your 6th largest sum is 13\n"
     ]
    }
   ],
   "source": [
    "My_Array = np.array([20, -15, 14, -5, -6, 1, 4])\n",
    "\n",
    "def ContiguousSum(arr ,k):\n",
    "    n = len(arr)\n",
    "    \n",
    "    arr1 = arr.copy()\n",
    "    \n",
    "    sum = 0\n",
    "    for i in range(n):\n",
    "        sum = sum + arr[i]\n",
    "        arr1[i] = sum\n",
    "    return print(\"Your {}th largest sum is {}\".format(k, arr1[k]))\n",
    "\n",
    "ContiguousSum(My_Array,6)"
   ]
  },
  {
   "cell_type": "markdown",
   "id": "13038dff",
   "metadata": {},
   "source": [
    "#### Not the exact solution :: a try :: K maximum sum combinations from two arrays"
   ]
  },
  {
   "cell_type": "raw",
   "id": "62d75b1d",
   "metadata": {},
   "source": [
    "Given two equally sized arrays (A, B) and N (size of both arrays). A sum combination is made by adding one element from array A and another element of array B. Display the maximum K valid sum combinations from all the possible sum combinations. \n",
    "\n",
    "Input :  A[] : {4, 2, 5, 1}\n",
    "         B[] : {8, 0, 3, 5}         \n",
    "K : 3\n",
    "Output : 13   // (A : 5) + (B : 8)\n",
    "         12   // (A : 4) + (B : 8)\n",
    "         10   // (A : 2) + (B : 8)"
   ]
  },
  {
   "cell_type": "code",
   "execution_count": 9,
   "id": "fafc1c12",
   "metadata": {},
   "outputs": [
    {
     "name": "stdout",
     "output_type": "stream",
     "text": [
      "13 10 8 5 "
     ]
    }
   ],
   "source": [
    "#Only if K < Length of any one array. # also length of each array must be same.\n",
    "\n",
    "arr1 = np.array([8, 0, 3, 5])\n",
    "arr2 = np.array([4, 2, 5, 1])\n",
    "\n",
    "def KmaxSum(arr1,arr2,k):\n",
    "    n = len(arr1)\n",
    "    \n",
    "    arr1.sort()\n",
    "    arr2.sort()\n",
    "    \n",
    "    for i in range(n-1,n-k-1,-1):\n",
    "        sum = arr1[i] + arr2[n-1]\n",
    "        print(sum, end = \" \")\n",
    "\n",
    "KmaxSum(arr1,arr2,4)\n",
    "\n"
   ]
  },
  {
   "cell_type": "markdown",
   "id": "a0f08b80",
   "metadata": {},
   "source": [
    "#### K maximum sums of Non-overlapping contiguous sub-arrays"
   ]
  },
  {
   "cell_type": "raw",
   "id": "092ca7cd",
   "metadata": {},
   "source": [
    "Kadane’s algorithm finds out only the maximum subarray sum, but using the same algorithm we can find out k maximum non-overlapping subarray sums. The approach is: \n",
    "\n",
    "Find out the maximum subarray in the array using Kadane’s algorithm. Also find out its starting and end indices. Print the sum of this subarray.\n",
    "Fill each cell of this subarray by -infinity.\n",
    "Repeat process 1 and 2 for k times. "
   ]
  },
  {
   "cell_type": "code",
   "execution_count": 10,
   "id": "214bf963",
   "metadata": {},
   "outputs": [
    {
     "name": "stdout",
     "output_type": "stream",
     "text": [
      "Max K sum is 14 starting at index 6 and ending at index 8 \n",
      "Max K sum is 6 starting at index 0 and ending at index 2 \n",
      "Max K sum is -1 starting at index 3 and ending at index 3 \n",
      "\n"
     ]
    }
   ],
   "source": [
    "def KmaxSums(arr , k):\n",
    "    n = len(arr)\n",
    "    \n",
    "    # In each iteration it will give\n",
    "    # the ith maximum subarray sum.\n",
    "    for x in range(k):\n",
    "        \n",
    "        # Kadane's algorithm\n",
    "        max_so_far = -float(\"inf\")\n",
    "        max_here = 0\n",
    "        \n",
    "        #Determining the starting and ending indexes of a array for which sum is described\n",
    "        start = 0\n",
    "        end = 0\n",
    "        s = 0\n",
    "        \n",
    "        for i in range(n):\n",
    "            \n",
    "            max_here += arr[i]\n",
    "            \n",
    "            if (max_so_far < max_here):\n",
    "                \n",
    "                max_so_far = max_here\n",
    "                \n",
    "                start  = s\n",
    "                end = i\n",
    "                \n",
    "            if max_here < 0:\n",
    "                max_here = 0\n",
    "                s = i+1\n",
    "            \n",
    "        print(\"Max K sum is {} starting at index {} and ending at index {} \".format(max_so_far,start,end))\n",
    "            \n",
    "        for p in range(start ,end+1):\n",
    "            arr[p] = -float(1e6)\n",
    "    print()\n",
    "    \n",
    "array = np.array([4, 1, 1, -1, -3, -5, 6, 2, 6, -2])\n",
    "\n",
    "KmaxSums(array,3)"
   ]
  },
  {
   "cell_type": "markdown",
   "id": "fff66f09",
   "metadata": {},
   "source": [
    "#### k smallest elements in same order using O(1) extra space"
   ]
  },
  {
   "cell_type": "code",
   "execution_count": 11,
   "id": "7f00d842",
   "metadata": {},
   "outputs": [
    {
     "name": "stdout",
     "output_type": "stream",
     "text": [
      "0 3 4 2 1 "
     ]
    }
   ],
   "source": [
    "def Ksmallest(arr, n, k):\n",
    "\n",
    "    for i in range(k, n):\n",
    "\n",
    "        max_var = arr[k - 1]\n",
    "        pos = k - 1\n",
    "        \n",
    "        for j in range(k - 2, -1, -1):\n",
    "                     \n",
    "            if (arr[j] > max_var):\n",
    "             \n",
    "                max_var = arr[j]\n",
    "                pos = j\n",
    "\n",
    "        if (max_var > arr[i]):\n",
    "         \n",
    "            j = pos\n",
    "            while (j < k - 1):\n",
    "             \n",
    "                arr[j] = arr[j + 1]\n",
    "                j += 1\n",
    "\n",
    "            arr[k - 1] = arr[i]\n",
    "\n",
    "    for i in range(0, k):\n",
    "        print(arr[i], end = \" \")\n",
    "\n",
    "arr = [9, 5, 8, 0, 6, 7, 3, 4, 2, 1]\n",
    "n = len(arr)\n",
    "k = 5\n",
    "\n",
    "Ksmallest(arr, n, k)"
   ]
  },
  {
   "cell_type": "markdown",
   "id": "d51672b0",
   "metadata": {},
   "source": [
    "#### Find k pairs with smallest sums in two arrays"
   ]
  },
  {
   "cell_type": "code",
   "execution_count": 12,
   "id": "3ad67d67",
   "metadata": {},
   "outputs": [
    {
     "name": "stdout",
     "output_type": "stream",
     "text": [
      "(1, 2) (1, 4) (3, 2) (3, 4) (1, 8) (3, 8) "
     ]
    }
   ],
   "source": [
    "import sys\n",
    "\n",
    "def PairsSmallest(arr1,arr2,k):\n",
    "    n1 = len(arr1)\n",
    "    n2 = len(arr2)\n",
    "    \n",
    "    if k > n1*n1:\n",
    "        print(\"K pairs doesn't exist\")\n",
    "        \n",
    "    index_2 = [0 for i in range(n2)]\n",
    "    \n",
    "    while k>0:\n",
    "\n",
    "        min_sum = sys.maxsize\n",
    "        min_index = 0\n",
    "\n",
    "\n",
    "        for i1 in range(n1):\n",
    "\n",
    "            if (index_2[i1] < n2 and arr1[i1] + arr2[index_2[i1]] < min_sum):\n",
    "\n",
    "                # Update index that gives minimum\n",
    "                min_index = i1\n",
    "\n",
    "                # update minimum sum\n",
    "                min_sum = arr1[i1] + arr2[index_2[i1]]\n",
    "\n",
    "        print((arr1[min_index] , arr2[index_2[min_index]]), end = \" \")\n",
    "\n",
    "        index_2[min_index] += 1\n",
    "\n",
    "        k -= 1\n",
    "\n",
    "    \n",
    "arr1 = [1, 3, 11]\n",
    "arr2 = [2, 4, 8]\n",
    "\n",
    "\n",
    "PairsSmallest(arr1,arr2,6)"
   ]
  },
  {
   "cell_type": "markdown",
   "id": "5a89723d",
   "metadata": {},
   "source": [
    "#### k-th smallest absolute difference of two elements in an array"
   ]
  },
  {
   "cell_type": "code",
   "execution_count": 13,
   "id": "0c3a2518",
   "metadata": {},
   "outputs": [],
   "source": [
    "arr = [1,4,2,7,9,5,6]\n",
    "\n"
   ]
  },
  {
   "cell_type": "markdown",
   "id": "e71c1ef6",
   "metadata": {},
   "source": [
    "#### k-th smallest absolute difference of two elements in two arrays"
   ]
  },
  {
   "cell_type": "code",
   "execution_count": 14,
   "id": "eb92dc00",
   "metadata": {},
   "outputs": [
    {
     "name": "stdout",
     "output_type": "stream",
     "text": [
      "-1 -3 1 -1 "
     ]
    }
   ],
   "source": [
    "def PairsSmallest(arr1,arr2,k):\n",
    "    n1 = len(arr1)\n",
    "    n2 = len(arr2)\n",
    "    \n",
    "    if k > n1*n1:\n",
    "        print(\"K pairs doesn't exist\")\n",
    "        \n",
    "    index_2 = [0 for i in range(n2)]\n",
    "    \n",
    "    while k>0:\n",
    "\n",
    "        min_sum = sys.maxsize\n",
    "        min_index = 0\n",
    "\n",
    "\n",
    "        for i1 in range(n1):\n",
    "\n",
    "            if (index_2[i1] < n2 and arr1[i1] + arr2[index_2[i1]] < min_sum):\n",
    "\n",
    "                # Update index that gives minimum\n",
    "                min_index = i1\n",
    "\n",
    "                # update minimum sum\n",
    "                min_sum = arr1[i1] + arr2[index_2[i1]]\n",
    "\n",
    "        print(int(arr1[min_index] - arr2[index_2[min_index]]),  end = \" \")\n",
    "\n",
    "        index_2[min_index] += 1\n",
    "\n",
    "        k -= 1\n",
    "\n",
    "    \n",
    "arr1 = [1, 3, 11]\n",
    "arr2 = [2, 4, 8]\n",
    "\n",
    "\n",
    "PairsSmallest(arr1,arr2,4)"
   ]
  },
  {
   "cell_type": "markdown",
   "id": "cdaedb10",
   "metadata": {},
   "source": [
    "#### Find Second largest element in an array"
   ]
  },
  {
   "cell_type": "code",
   "execution_count": 15,
   "id": "59b3fbda",
   "metadata": {},
   "outputs": [
    {
     "name": "stdout",
     "output_type": "stream",
     "text": [
      "The second largest element of the array is :  6\n"
     ]
    }
   ],
   "source": [
    "arr = np.array([ 5, 11, 0, 6, 3, 4, 2, 1])\n",
    "\n",
    "def Largest2nd(arr):\n",
    "    \n",
    "    n = len(arr)\n",
    "    \n",
    "    for i in range(2):\n",
    "        temp = arr[i]\n",
    "        \n",
    "        for j in range(i,n):\n",
    "            if arr[j]>temp:\n",
    "                temp = arr[j]\n",
    "                arr[i],arr[j] = arr[j],arr[i]\n",
    "        if i == 1:\n",
    "            print(\"The second largest element of the array is : \",temp)\n",
    "                    \n",
    "Largest2nd(arr)"
   ]
  },
  {
   "cell_type": "markdown",
   "id": "51e86366",
   "metadata": {},
   "source": [
    "#### Find k numbers with most occurrences in the given array"
   ]
  },
  {
   "cell_type": "code",
   "execution_count": 16,
   "id": "dda579ea",
   "metadata": {},
   "outputs": [
    {
     "name": "stdout",
     "output_type": "stream",
     "text": [
      "13 13\n",
      "count and std are:  3 3\n",
      "7 has the frequency of :  3\n",
      "[10 11  5  2  5  5 11  8  9  5]\n",
      "10 10\n",
      "count and std are:  2 5\n",
      "11 has the frequency of :  2\n",
      "[10  5  2  5  5  8  9  5]\n",
      "8 8\n",
      "2 has the frequency of : 1\n",
      "count and std are:  1 6\n",
      "5 has the frequency of :  1\n",
      "[10  5  5  5  8  9  5]\n",
      "7 7\n",
      "count and std are:  4 10\n",
      "5 has the frequency of :  4\n",
      "[10  8  9]\n"
     ]
    },
    {
     "ename": "IndexError",
     "evalue": "index 4 is out of bounds for axis 0 with size 3",
     "output_type": "error",
     "traceback": [
      "\u001b[1;31m---------------------------------------------------------------------------\u001b[0m",
      "\u001b[1;31mIndexError\u001b[0m                                Traceback (most recent call last)",
      "\u001b[1;32m<ipython-input-16-6dd4f6a0d69c>\u001b[0m in \u001b[0;36m<module>\u001b[1;34m\u001b[0m\n\u001b[0;32m     30\u001b[0m \u001b[1;33m\u001b[0m\u001b[0m\n\u001b[0;32m     31\u001b[0m \u001b[1;33m\u001b[0m\u001b[0m\n\u001b[1;32m---> 32\u001b[1;33m \u001b[0mK_Num_Occur\u001b[0m\u001b[1;33m(\u001b[0m\u001b[0marray_occ\u001b[0m\u001b[1;33m,\u001b[0m \u001b[1;36m7\u001b[0m\u001b[1;33m)\u001b[0m\u001b[1;33m\u001b[0m\u001b[1;33m\u001b[0m\u001b[0m\n\u001b[0m",
      "\u001b[1;32m<ipython-input-16-6dd4f6a0d69c>\u001b[0m in \u001b[0;36mK_Num_Occur\u001b[1;34m(arr, k)\u001b[0m\n\u001b[0;32m      9\u001b[0m \u001b[1;33m\u001b[0m\u001b[0m\n\u001b[0;32m     10\u001b[0m         \u001b[0mln\u001b[0m \u001b[1;33m=\u001b[0m \u001b[0mlen\u001b[0m\u001b[1;33m(\u001b[0m\u001b[0marr\u001b[0m\u001b[1;33m)\u001b[0m\u001b[1;33m\u001b[0m\u001b[1;33m\u001b[0m\u001b[0m\n\u001b[1;32m---> 11\u001b[1;33m         \u001b[0mp\u001b[0m \u001b[1;33m=\u001b[0m \u001b[0marr\u001b[0m\u001b[1;33m[\u001b[0m\u001b[0mi\u001b[0m\u001b[1;33m]\u001b[0m\u001b[1;33m\u001b[0m\u001b[1;33m\u001b[0m\u001b[0m\n\u001b[0m\u001b[0;32m     12\u001b[0m \u001b[1;33m\u001b[0m\u001b[0m\n\u001b[0;32m     13\u001b[0m         \u001b[0mprint\u001b[0m\u001b[1;33m(\u001b[0m\u001b[0mn\u001b[0m\u001b[1;33m-\u001b[0m\u001b[0mstd\u001b[0m \u001b[1;33m,\u001b[0m \u001b[0mln\u001b[0m\u001b[1;33m)\u001b[0m\u001b[1;33m\u001b[0m\u001b[1;33m\u001b[0m\u001b[0m\n",
      "\u001b[1;31mIndexError\u001b[0m: index 4 is out of bounds for axis 0 with size 3"
     ]
    }
   ],
   "source": [
    "array_occ  = np.array([7, 10, 11, 5, 2, 5, 5, 7, 11, 8, 9, 7, 5])\n",
    "\n",
    "def K_Num_Occur(arr,k):\n",
    "    \n",
    "    n = len(arr)\n",
    "    \n",
    "    std = 0\n",
    "    for i in range(n-std):\n",
    "        \n",
    "        ln = len(arr)\n",
    "        p = arr[i]\n",
    "        \n",
    "        print(n-std , ln)\n",
    "        \n",
    "        count = 0\n",
    "        for j in range(ln-count):\n",
    "            if j<n:\n",
    "                if arr[j] == arr[i]:\n",
    "                    count += 1\n",
    "                    std += 1\n",
    "        if count == 1:\n",
    "            print(arr[i], \"has the frequency of : 1\")\n",
    "            arr = arr[arr != p]\n",
    "        print(\"count and std are: \",count,std)\n",
    "                \n",
    "        print(arr[i], \"has the frequency of : \", count)\n",
    "        arr = arr[arr != p]\n",
    "        print(arr)   \n",
    "        \n",
    "        \n",
    "        \n",
    "K_Num_Occur(array_occ, 7)   "
   ]
  },
  {
   "cell_type": "markdown",
   "id": "4f128a84",
   "metadata": {},
   "source": [
    "#### Find the smallest and second smallest elements in an array"
   ]
  },
  {
   "cell_type": "code",
   "execution_count": 18,
   "id": "d5bb98c5",
   "metadata": {},
   "outputs": [
    {
     "name": "stdout",
     "output_type": "stream",
     "text": [
      "The 1st Smallest element of the array is : 3 \n",
      "The 2st Smallest element of the array is : 5 \n"
     ]
    }
   ],
   "source": [
    "def SmallestTwo(arr):\n",
    "    \n",
    "    n = len(arr)\n",
    "    \n",
    "    for i in range(2):\n",
    "        temp = arr[i]\n",
    "        \n",
    "        for j in range(i,n):\n",
    "            if arr[j]<temp:\n",
    "                temp = arr[j]\n",
    "                arr[i],arr[j] = arr[j],arr[i]\n",
    "        if i <=1:\n",
    "            print(\"The {}st Smallest element of the array is : {} \".format((i+1),temp))\n",
    "            \n",
    "arr = np.array([ 5, 11, 6, 3, 7])        \n",
    "\n",
    "SmallestTwo(arr)"
   ]
  },
  {
   "cell_type": "markdown",
   "id": "2915b87a",
   "metadata": {},
   "source": [
    "#### Find the smallest missing number"
   ]
  },
  {
   "cell_type": "code",
   "execution_count": 54,
   "id": "76b3a5be",
   "metadata": {},
   "outputs": [
    {
     "name": "stdout",
     "output_type": "stream",
     "text": [
      "The smallest missing number for the given array is :  4\n"
     ]
    }
   ],
   "source": [
    "#This is for a sorted array ranging from 0 to m. where m is equal to max value available + 1.\n",
    " \n",
    "def SmallMiss(arr,m):\n",
    "    \n",
    "    n = len(arr)\n",
    "    \n",
    "    for i in range(n-1):\n",
    "        \n",
    "        if arr[0]!=0:\n",
    "            print(\"The smallest missing number for the given array is : \",0)\n",
    "            break\n",
    "            \n",
    "        if arr[i+1] - arr[i]> 1:\n",
    "            print(\"The smallest missing number for the given array is : \",arr[i]+1)\n",
    "            break\n",
    "            \n",
    "        if i == n-2 :\n",
    "            print(\"The smallest missing number for the given array is : \",arr[n-1] + 1)\n",
    "            break\n",
    "    \n",
    "my_arr = np.array([0,1,2,3, 5,6,7,8])\n",
    "\n",
    "#Since the array is in range of 0-11. Here our M value is 11. \n",
    "m =11\n",
    "\n",
    "SmallMiss(my_arr, m)\n",
    "\n",
    "\n"
   ]
  },
  {
   "cell_type": "markdown",
   "id": "5f76c9b2",
   "metadata": {},
   "source": [
    "#### Maximum sum such that no two elements are adjacent"
   ]
  },
  {
   "cell_type": "code",
   "execution_count": null,
   "id": "e2ee9537",
   "metadata": {},
   "outputs": [],
   "source": []
  },
  {
   "cell_type": "markdown",
   "id": "4ddc3181",
   "metadata": {},
   "source": [
    "#### Maximum and minimum of an array using minimum number of comparisons"
   ]
  },
  {
   "cell_type": "code",
   "execution_count": 69,
   "id": "32361f78",
   "metadata": {},
   "outputs": [
    {
     "name": "stdout",
     "output_type": "stream",
     "text": [
      "The smallest element is 2 and Largest is 18\n"
     ]
    }
   ],
   "source": [
    "array  = np.array([7, 18, 10, 5, 2, 6, 8, 11, 9])\n",
    "\n",
    "def Smallest(arr):\n",
    "    n = len(arr)\n",
    "    \n",
    "    temp = arr[0]\n",
    "        \n",
    "    for j in range(n):\n",
    "        if arr[j]<temp:\n",
    "            temp = arr[j]\n",
    "    return temp\n",
    "\n",
    "\n",
    "def Largest(arr):\n",
    "    n = len(arr)\n",
    "    \n",
    "    temp1 = arr[0]\n",
    "        \n",
    "    for j in range(n):\n",
    "        if arr[j]>temp1:\n",
    "            temp1 = arr[j]\n",
    "    return temp1\n",
    "\n",
    "print(\"The smallest element is {} and Largest is {}\".format(Smallest(array) , Largest(array)))"
   ]
  },
  {
   "cell_type": "code",
   "execution_count": null,
   "id": "1222de31",
   "metadata": {},
   "outputs": [],
   "source": []
  }
 ],
 "metadata": {
  "kernelspec": {
   "display_name": "Python 3",
   "language": "python",
   "name": "python3"
  },
  "language_info": {
   "codemirror_mode": {
    "name": "ipython",
    "version": 3
   },
   "file_extension": ".py",
   "mimetype": "text/x-python",
   "name": "python",
   "nbconvert_exporter": "python",
   "pygments_lexer": "ipython3",
   "version": "3.8.8"
  }
 },
 "nbformat": 4,
 "nbformat_minor": 5
}
