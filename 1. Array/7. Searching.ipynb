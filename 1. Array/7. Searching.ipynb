{
 "cells": [
  {
   "cell_type": "code",
   "execution_count": 1,
   "id": "ab0643f2",
   "metadata": {},
   "outputs": [],
   "source": [
    "import numpy as np"
   ]
  },
  {
   "cell_type": "markdown",
   "id": "36e8bd86",
   "metadata": {},
   "source": [
    "#### Insert in a sorted Array"
   ]
  },
  {
   "cell_type": "code",
   "execution_count": 2,
   "id": "b4795bed",
   "metadata": {},
   "outputs": [
    {
     "data": {
      "text/plain": [
       "array([ 4,  5,  6,  8,  9, 10])"
      ]
     },
     "execution_count": 2,
     "metadata": {},
     "output_type": "execute_result"
    }
   ],
   "source": [
    "array = np.array([5, 6, 8, 9, 10])\n",
    "\n",
    "def InsertSorted(myarr,k):\n",
    "    n = len(myarr)\n",
    "    m = n+1\n",
    "    \n",
    "    arr = np.append(myarr,[0])\n",
    "    \n",
    "    for i in range(m-1,0,-1):\n",
    "        if arr[i-1] > k:\n",
    "            arr[i-1],arr[i] = arr[i],arr[i-1]\n",
    "            if i-1 == 0:\n",
    "                arr[0] = k\n",
    "                \n",
    "        elif arr[i-1] < k:\n",
    "            arr[i] = k\n",
    "            break\n",
    "            \n",
    "    return arr\n",
    "InsertSorted(array,4)"
   ]
  },
  {
   "cell_type": "markdown",
   "id": "8653fba4",
   "metadata": {},
   "source": [
    "#### Given an array A[] and a number x, check for pair in A[] with sum as x"
   ]
  },
  {
   "cell_type": "raw",
   "id": "ac77df13",
   "metadata": {},
   "source": [
    "Approach: \n",
    "The idea is to count the elements with remainders when divided by x, i.e 0 to x-1, each remainder separately. Suppose we have x as 6, then the numbers which are less than 6 and have remainders which add up to 6 gives sum as 6 when added. For example, we have elements, 2,4 in the array and 2%6 = 2 and 4%6 =4, and these remainders add up to give 6. Like that we have to check for pairs with remainders (1,5),(2,4),(3,3). if we have one or more elements with remainder 1 and one or more elements with remainder 5, then surely we get a sum as 6. Here we do not consider (0,6) as the elements for the resultant pair should be less than 6. when it comes to (3,3) we have to check if we have two elements with remainder 3, then we can say that “There exists a pair whose sum is x”. "
   ]
  },
  {
   "cell_type": "code",
   "execution_count": 3,
   "id": "f7a09eb3",
   "metadata": {},
   "outputs": [
    {
     "name": "stdout",
     "output_type": "stream",
     "text": [
      "2 8\n",
      "3 7\n"
     ]
    }
   ],
   "source": [
    "pairone = np.array([1,2,-2,3,8,4,5,7,-1,10])\n",
    "\n",
    "def SumPairFounder(arr,k):\n",
    "    n = len(arr)\n",
    "    \n",
    "    arr.sort()\n",
    "\n",
    "    i = 0\n",
    "    j = n-1\n",
    "    \n",
    "    while i<j:\n",
    "        if arr[i] + arr[j] == k:\n",
    "            print(arr[i],arr[j])\n",
    "            i += 1\n",
    "            j -= 1\n",
    "        \n",
    "        elif arr[i] + arr[j] < k:\n",
    "            i+=1\n",
    "        elif arr[i] + arr[j] > k:\n",
    "            j -= 1\n",
    "SumPairFounder(pairone,10)\n",
    "        "
   ]
  },
  {
   "cell_type": "markdown",
   "id": "fcc6301b",
   "metadata": {},
   "source": [
    "#### Searching in an array where adjacent differ by at most k"
   ]
  },
  {
   "cell_type": "code",
   "execution_count": 4,
   "id": "232c0557",
   "metadata": {},
   "outputs": [
    {
     "name": "stdout",
     "output_type": "stream",
     "text": [
      "Value 13 found at index 9 with adjacent difference 4\n"
     ]
    }
   ],
   "source": [
    "array = np.array([5, 6, 8, 9, 1, 13, 25, 7, 12, 13, 9, 23])\n",
    "\n",
    "def AdSearch(arr,k,x):\n",
    "    n = len(arr)\n",
    "    i= 0\n",
    "    while i <n:\n",
    "        if arr[i] == x:\n",
    "            return print(\"Value {} found at index {} with adjacent difference {}\".format(x,i,k))\n",
    "        i = i + max(1, int(abs(arr[i] - x) / k))\n",
    "        \n",
    "AdSearch(array,4,13)"
   ]
  },
  {
   "cell_type": "markdown",
   "id": "8b116d3e",
   "metadata": {},
   "source": [
    "#### Find common elements in three SORTED arrays\n"
   ]
  },
  {
   "cell_type": "code",
   "execution_count": 5,
   "id": "a5918c64",
   "metadata": {},
   "outputs": [
    {
     "name": "stdout",
     "output_type": "stream",
     "text": [
      "The common elements found in all three array are :  [20, 80]\n"
     ]
    }
   ],
   "source": [
    "ar1 = [1, 5, 10, 20, 40, 80]\n",
    "ar2 = [6, 7, 20, 80, 80, 100]\n",
    "ar3 = [3, 4, 15, 20, 30, 70, 80, 120 ]\n",
    "\n",
    "def HouseOfCommons(arr1,arr2,arr3):\n",
    "    n1 = len(arr1)\n",
    "    n2 = len(arr2)\n",
    "    n3 = len(arr3)\n",
    "    \n",
    "    i = 0\n",
    "    j = 0\n",
    "    k = 0\n",
    "    list = []\n",
    "    while (i<n1 and j<n2 and k<n3):\n",
    "        \n",
    "        if (arr1[i] == arr2[j] == arr3[k]) :\n",
    "            list.append(arr1[i])\n",
    "            i += 1\n",
    "            j += 1 \n",
    "            k += 1\n",
    "        \n",
    "        elif (arr1[i] < arr2[j] and arr1[i] <= arr3[k]) :\n",
    "            i += 1\n",
    "        elif (arr2[j] < arr1[i] and arr2[j] <= arr3[k]) :\n",
    "            j += 1\n",
    "        elif (arr3[k] < arr2[j] and arr3[k] <= arr1[i]) :\n",
    "            k += 1\n",
    "\n",
    "    return print(\"The common elements found in all three array are : \",list)   \n",
    "\n",
    "HouseOfCommons(ar1,ar2,ar3)"
   ]
  },
  {
   "cell_type": "markdown",
   "id": "daf02d3e",
   "metadata": {},
   "source": [
    "#### Find position of an element in a sorted array of infinite numbers\n"
   ]
  },
  {
   "cell_type": "markdown",
   "id": "133f5ab2",
   "metadata": {},
   "source": [
    "#### <<<<<<<<Work upon in after teaching Binary Search, Binary Tree >>>>>>>>"
   ]
  },
  {
   "cell_type": "code",
   "execution_count": null,
   "id": "45048848",
   "metadata": {},
   "outputs": [],
   "source": []
  },
  {
   "cell_type": "markdown",
   "id": "695e4e9c",
   "metadata": {},
   "source": [
    "#### Find the only repetitive element between 1 to n-1\n"
   ]
  },
  {
   "cell_type": "raw",
   "id": "10ff9b0c",
   "metadata": {},
   "source": [
    "We know sum of first n-1 natural numbers is (n – 1)*n/2. We compute sum of array elements and subtract natural number sum from it to find the only missing element."
   ]
  },
  {
   "cell_type": "code",
   "execution_count": 6,
   "id": "c57ef38d",
   "metadata": {},
   "outputs": [
    {
     "data": {
      "text/plain": [
       "9"
      ]
     },
     "execution_count": 6,
     "metadata": {},
     "output_type": "execute_result"
    }
   ],
   "source": [
    "arr = [9, 8, 2, 6, 1, 9, 5, 3, 4, 7]\n",
    "\n",
    "def Repetitive(arr):\n",
    "    n = len(arr)\n",
    "    \n",
    "    return int(sum(arr) - (n*(n-1)/2))\n",
    "\n",
    "Repetitive(arr)"
   ]
  },
  {
   "cell_type": "code",
   "execution_count": 7,
   "id": "cb50d525",
   "metadata": {},
   "outputs": [
    {
     "name": "stdout",
     "output_type": "stream",
     "text": [
      "2\n",
      "89\n"
     ]
    }
   ],
   "source": [
    "def singleNumber(nums):\n",
    " \n",
    "    return 2 * sum(set(nums)) - sum(nums)\n",
    " \n",
    "a = [2, 3, 5, 4, 5, 3, 4]\n",
    "print (int(singleNumber(a)))\n",
    " \n",
    "a = [15, 18, 16, 18, 16, 15, 89]\n",
    "print (int(singleNumber(a)))"
   ]
  },
  {
   "cell_type": "markdown",
   "id": "7c0d07c0",
   "metadata": {},
   "source": [
    "#### Maximum Subarray Sum Excluding Certain Elements\n"
   ]
  },
  {
   "cell_type": "raw",
   "id": "fabaa75f",
   "metadata": {},
   "source": [
    "Given an array of A of n integers and an array B of m integers find the Maximum Contiguous Subarray Sum of array A such that any element of array B is not present in that subarray."
   ]
  },
  {
   "cell_type": "code",
   "execution_count": 8,
   "id": "efa50843",
   "metadata": {},
   "outputs": [
    {
     "name": "stdout",
     "output_type": "stream",
     "text": [
      "The Maximum Subarray Sum = 225\n"
     ]
    }
   ],
   "source": [
    "INT_MIN = -2147483648\n",
    "\n",
    "def isPresent(B, m, x):\n",
    "    for i in range(0, m):\n",
    "        if B[i] == x:\n",
    "            return True\n",
    "    return False\n",
    " \n",
    "def findMaxSubarraySumUtil(A, B, n, m):\n",
    "    max_so_far = INT_MIN\n",
    "    curr_max = 0\n",
    "    for i in range(0, n):\n",
    "        if isPresent(B, m, A[i]) == True:\n",
    "            curr_max = 0\n",
    "            continue\n",
    " \n",
    "        curr_max = max(A[i], curr_max + A[i])\n",
    "        max_so_far = max(max_so_far, curr_max)\n",
    "    return max_so_far\n",
    "\n",
    "def findMaxSubarraySum(A, B, n, m):\n",
    " \n",
    "    maxSubarraySum = findMaxSubarraySumUtil(A, B, n, m)\n",
    "\n",
    "    if maxSubarraySum == INT_MIN:\n",
    "        print('Maximum Subarray Sum cant be found')\n",
    "    else:\n",
    "        print('The Maximum Subarray Sum =',\n",
    "              maxSubarraySum)\n",
    "\n",
    "A = [15, 18, 16, 28, 22, 17, 89, 155, 70]\n",
    "B = [18, 17,89]\n",
    "n = len(A)\n",
    "m = len(B)\n",
    "\n",
    "findMaxSubarraySum(A, B, n, m)"
   ]
  },
  {
   "cell_type": "markdown",
   "id": "44c8a1e7",
   "metadata": {},
   "source": [
    "#### Maximum equilibrium sum in an array\n"
   ]
  },
  {
   "cell_type": "code",
   "execution_count": 9,
   "id": "a3dc8bc4",
   "metadata": {},
   "outputs": [
    {
     "data": {
      "text/plain": [
       "4"
      ]
     },
     "execution_count": 9,
     "metadata": {},
     "output_type": "execute_result"
    }
   ],
   "source": [
    "def MaxEqSum(arr):\n",
    "    n = len(arr)\n",
    "    \n",
    "    maxval = -float('inf')\n",
    "    pfxsum = 0\n",
    "    valsum = sum(arr)\n",
    "\n",
    "    for i in range(n):\n",
    "        pfxsum += arr[i]\n",
    "        \n",
    "        if pfxsum == valsum:\n",
    "            maxval = max(maxval , pfxsum)\n",
    "            break\n",
    "        \n",
    "        valsum -= arr[i]\n",
    "    return maxval\n",
    "\n",
    "\n",
    "max_arr = [ -1, 2, 3, 0, 3, 2, -1]\n",
    "MaxEqSum(max_arr)"
   ]
  },
  {
   "cell_type": "markdown",
   "id": "6ce2b468",
   "metadata": {},
   "source": [
    "#### Equilibrium index of an array\n"
   ]
  },
  {
   "cell_type": "code",
   "execution_count": 10,
   "id": "f5d9e54f",
   "metadata": {},
   "outputs": [
    {
     "data": {
      "text/plain": [
       "3"
      ]
     },
     "execution_count": 10,
     "metadata": {},
     "output_type": "execute_result"
    }
   ],
   "source": [
    "def MaxEqSum(arr):\n",
    "    n = len(arr)\n",
    "    \n",
    "    maxval = -float('inf')\n",
    "    pfxsum = 0\n",
    "    valsum = sum(arr)\n",
    "\n",
    "    for i in range(n):\n",
    "        pfxsum += arr[i]\n",
    "        \n",
    "        if pfxsum == valsum:\n",
    "            maxval = max(maxval , pfxsum)\n",
    "            return i\n",
    "\n",
    "        valsum -= arr[i]\n",
    "\n",
    "\n",
    "max_arr = [ -7, 1, 5, 2, -4, 3, 0]\n",
    "MaxEqSum(max_arr)"
   ]
  },
  {
   "cell_type": "markdown",
   "id": "e329fa9a",
   "metadata": {},
   "source": [
    "#### Leaders in an array\n"
   ]
  },
  {
   "cell_type": "code",
   "execution_count": 11,
   "id": "2a216588",
   "metadata": {},
   "outputs": [
    {
     "name": "stdout",
     "output_type": "stream",
     "text": [
      "2 5 17 "
     ]
    }
   ],
   "source": [
    "Lead = [16, 17, 4, 3, 5, 2]\n",
    "\n",
    "def Leaders(arr):\n",
    "    n = len(arr)\n",
    "    max = -float('inf')\n",
    "    for i in range(n-1,0,-1):\n",
    "        if arr[i] > max:\n",
    "            max = arr[i]\n",
    "            print(max, end = \" \")\n",
    "            \n",
    "            \n",
    "Leaders(Lead)"
   ]
  },
  {
   "cell_type": "markdown",
   "id": "141a0fdf",
   "metadata": {},
   "source": [
    "#### Ceiling in a sorted array\n"
   ]
  },
  {
   "cell_type": "code",
   "execution_count": 12,
   "id": "149cafab",
   "metadata": {},
   "outputs": [
    {
     "name": "stdout",
     "output_type": "stream",
     "text": [
      "ceiling of 3 is 8\n",
      "ceiling of 0 is 1\n",
      "ceiling of 1 is 1\n",
      "ceiling of 5 is 8\n"
     ]
    }
   ],
   "source": [
    "def ceilSearch(arr, low, high, x):\n",
    "\n",
    "    if x <= arr[low]:\n",
    "        return low\n",
    "\n",
    "    i = low\n",
    "    for i in range(high):\n",
    "        if arr[i] == x:\n",
    "            return i\n",
    "        \n",
    "        if arr[i] < x and arr[i+1] >= x:\n",
    "            return i+1\n",
    "         \n",
    "    return -1\n",
    "\n",
    "arr = [1, 2, 8, 10, 10, 12, 19]\n",
    "n = len(arr)\n",
    "x = [3,0,1,5]\n",
    "\n",
    "for i in range(len(x)):\n",
    "    \n",
    "    index = ceilSearch(arr, 0, n-1, x[i])\n",
    "    if index == -1:\n",
    "        print (\"Ceiling of %d doesn't exist in array \"% x[i])\n",
    "    else:\n",
    "        print (\"ceiling of %d is %d\"%(x[i], arr[index]))"
   ]
  },
  {
   "cell_type": "markdown",
   "id": "64ba0484",
   "metadata": {},
   "source": [
    "#### Majority Element\n"
   ]
  },
  {
   "cell_type": "code",
   "execution_count": 13,
   "id": "f83e3d88",
   "metadata": {},
   "outputs": [
    {
     "name": "stdout",
     "output_type": "stream",
     "text": [
      "Our majority element is  4\n"
     ]
    }
   ],
   "source": [
    "ML = np.array([3, 3, 4, 2, 4, 4, 2, 4, 4])\n",
    "\n",
    "#To find possible majority element \n",
    "def MajEle(arr):\n",
    "    n = len(arr)\n",
    "    \n",
    "    maj_idx = 0\n",
    "    count = 0\n",
    "    \n",
    "    for i in range(n):\n",
    "        if arr[maj_idx] == arr[i]:\n",
    "            count +=1 \n",
    "        else: \n",
    "            count -= 1\n",
    "            \n",
    "        if count == 0:\n",
    "            maj_idx = i\n",
    "            count = 1\n",
    "\n",
    "    return arr[maj_idx]\n",
    "    \n",
    "#Now to confirm our most frquent element / majority element\n",
    "\n",
    "def IsInMajority(arr , poss):\n",
    "    n = len(arr)\n",
    "    count = 0\n",
    "    \n",
    "    for i in range(n):\n",
    "        if arr[i] == poss:\n",
    "            count += 1\n",
    "        \n",
    "    if count > (n/2):\n",
    "        print(\"Our majority element is \", poss)\n",
    "    else:\n",
    "        print(\"No majority element found\")\n",
    "\n",
    "poss = MajEle(ML)     \n",
    "IsInMajority(ML,poss)"
   ]
  },
  {
   "cell_type": "markdown",
   "id": "76b4e2d2",
   "metadata": {},
   "source": [
    "#### Check for Majority Element in a sorted array\n"
   ]
  },
  {
   "cell_type": "raw",
   "id": "0642d200",
   "metadata": {},
   "source": [
    "If it is already given that the array is sorted and there exists a majority element, checking if a particular element is as easy as checking if the middle element of the array is the number we are checking against.\n",
    "\n",
    "Since a majority element occurs more than n/2 times in an array, it will always be the middle element. We can use this logic to check if the given number is the majority element."
   ]
  },
  {
   "cell_type": "code",
   "execution_count": 14,
   "id": "acac5941",
   "metadata": {},
   "outputs": [
    {
     "name": "stdout",
     "output_type": "stream",
     "text": [
      "False\n",
      "True\n"
     ]
    }
   ],
   "source": [
    "MLS = np.array([2, 2, 3, 3, 4, 4, 4, 4, 4])\n",
    "\n",
    "def IsMajor(arr,key):\n",
    "    n = len(arr)\n",
    "    idx = int(n/2)\n",
    "\n",
    "    if arr[idx] == key:\n",
    "        return True\n",
    "    else:\n",
    "        return False\n",
    "    \n",
    "ls = [3,4]\n",
    "\n",
    "for i in range(2):\n",
    "    print(IsMajor(MLS ,ls[i]))"
   ]
  },
  {
   "cell_type": "markdown",
   "id": "9bc721d7",
   "metadata": {},
   "source": [
    "#### Find a peak element\n"
   ]
  },
  {
   "cell_type": "code",
   "execution_count": 15,
   "id": "b68e345f",
   "metadata": {},
   "outputs": [
    {
     "name": "stdout",
     "output_type": "stream",
     "text": [
      "Index of a peak point is 2\n"
     ]
    }
   ],
   "source": [
    "def findPeakUtil(arr, low, high, n):\n",
    "    \n",
    "\n",
    "    mid = int(low + (high - low)/2)\n",
    "\n",
    "    if ((mid == 0 or arr[mid - 1] <= arr[mid]) and\n",
    "        (mid == n - 1 or arr[mid + 1] <= arr[mid])):\n",
    "        return mid\n",
    "\n",
    "    elif (mid > 0 and arr[mid - 1] > arr[mid]):\n",
    "        return findPeakUtil(arr, low, (mid - 1), n)\n",
    "\n",
    "    else:\n",
    "        return findPeakUtil(arr, (mid + 1), high, n)\n",
    "    \n",
    "def findPeak(arr, n):\n",
    " \n",
    "    return findPeakUtil(arr, 0, n - 1, n)\n",
    "\n",
    "arr = [1, 3, 20, 4, 31, 10]\n",
    "n = len(arr)\n",
    "print(\"Index of a peak point is\", findPeak(arr, n))\n"
   ]
  },
  {
   "cell_type": "markdown",
   "id": "1797cb6a",
   "metadata": {},
   "source": [
    "#### Find the two repeating elements in a given array\n"
   ]
  },
  {
   "cell_type": "raw",
   "id": "d788b8e1",
   "metadata": {},
   "source": [
    "numbers are from 1- n and in range n+2"
   ]
  },
  {
   "cell_type": "code",
   "execution_count": 16,
   "id": "ca003713",
   "metadata": {},
   "outputs": [
    {
     "name": "stdout",
     "output_type": "stream",
     "text": [
      "Repeated element/s is/are : 4 2 "
     ]
    }
   ],
   "source": [
    "def IsRepeated(arr):\n",
    "    n = len(arr)\n",
    "    print(\"Repeated element/s is/are : \", end = \"\")\n",
    "    for i in range(n):\n",
    "        if (arr[abs(arr[i])] > 0):\n",
    "            arr[abs(arr[i])]  = (-1) * arr[abs(arr[i])]\n",
    "            \n",
    "        else:\n",
    "            print (abs(arr[i]) , end = \" \")\n",
    "            \n",
    "array = [1, 2, 5, 4, 4, 2, 3]\n",
    "IsRepeated(array)"
   ]
  },
  {
   "cell_type": "markdown",
   "id": "bf2b55bd",
   "metadata": {},
   "source": [
    "#### Find subarray with given sum | Set 1 (Nonnegative Numbers)"
   ]
  },
  {
   "cell_type": "code",
   "execution_count": 18,
   "id": "2c084445",
   "metadata": {},
   "outputs": [
    {
     "name": "stdout",
     "output_type": "stream",
     "text": [
      "The output shows the positions of the index values of starting and ending elements.\n"
     ]
    },
    {
     "data": {
      "text/plain": [
       "(4, 5)"
      ]
     },
     "execution_count": 18,
     "metadata": {},
     "output_type": "execute_result"
    }
   ],
   "source": [
    "SubSum = np.array([1, 4, 20, 3, 10, 5])\n",
    "\n",
    "def SubarrayMaxSum(arr , k):\n",
    "    n = len(arr)\n",
    "    \n",
    "    print(\"The output shows the positions of the index values of starting and ending elements.\")\n",
    "    sum = arr[0]\n",
    "    l = 0\n",
    "    i = 1\n",
    "    \n",
    "    while i<n+1:\n",
    "        \n",
    "        if sum == k:\n",
    "            return l , i-1\n",
    "        \n",
    "        elif sum < k:\n",
    "            sum += arr[i]\n",
    "            i+=1\n",
    "            \n",
    "        else:\n",
    "            sum -= arr[l]\n",
    "            l += 1\n",
    "            \n",
    "SubarrayMaxSum(SubSum , 15)"
   ]
  },
  {
   "cell_type": "markdown",
   "id": "65edbf5b",
   "metadata": {},
   "source": [
    "#### Smallest Difference Triplet from Three arrays\n"
   ]
  },
  {
   "cell_type": "code",
   "execution_count": 44,
   "id": "ea3d966f",
   "metadata": {},
   "outputs": [
    {
     "name": "stdout",
     "output_type": "stream",
     "text": [
      "7 6 5\n"
     ]
    }
   ],
   "source": [
    "def Maximum (a,b,c):\n",
    "    return max(max(a,b),c)\n",
    "\n",
    "def Minimum (a,b,c):\n",
    "    return min(min(a,b),c)\n",
    "\n",
    "def SmallDiffTriplet(a1, a2 , a3):\n",
    "    n = len(a1)   #Given that all array have same length\n",
    "    \n",
    "    a1.sort()\n",
    "    a2.sort()\n",
    "    a3.sort()\n",
    "    \n",
    "    i , j, k = 0, 0, 0\n",
    "    difference = 1213747463\n",
    "    \n",
    "    res_min = 0\n",
    "    res_mid = 0\n",
    "    res_max = 0\n",
    "        \n",
    "    while (i<n and j<n and k<n):\n",
    "    \n",
    "        sum = a1[i] + a2[j] + a3[k]\n",
    "        \n",
    "        Min = Minimum(a1[i] , a2[j] , a3[k])\n",
    "        Max = Maximum(a1[i] , a2[j] , a3[k])\n",
    "\n",
    "        \n",
    "        if (Min == a1[i]):\n",
    "            i += 1\n",
    "        elif (Min == a2[j]):\n",
    "            j += 1\n",
    "        else:\n",
    "            k += 1\n",
    "\n",
    "        if (difference > Max-Min):\n",
    "            difference = Max-Min\n",
    "\n",
    "            res_min = Min\n",
    "            res_mid = sum - (Max + Min)\n",
    "            res_max = Max\n",
    "            \n",
    "    print (res_max , res_mid, res_min)\n",
    "\n",
    "\n",
    "A = [5, 2, 8]\n",
    "B = [10, 7, 12]\n",
    "C = [9, 14, 6]\n",
    "\n",
    "SmallDiffTriplet(A, B, C)"
   ]
  },
  {
   "cell_type": "markdown",
   "id": "19c43db0",
   "metadata": {},
   "source": [
    "#### Find a triplet that sum to a given value\n"
   ]
  },
  {
   "cell_type": "raw",
   "id": "20d3e9a2",
   "metadata": {},
   "source": [
    "Given an array and a value, find if there is a triplet in array whose sum is equal to the given value. If there is such a triplet present in array, then print the triplet and return true. Else return false."
   ]
  },
  {
   "cell_type": "code",
   "execution_count": 65,
   "id": "0ac30f2e",
   "metadata": {},
   "outputs": [
    {
     "name": "stdout",
     "output_type": "stream",
     "text": [
      "Triplet elements are :  4 ,  8 and  10\n"
     ]
    },
    {
     "data": {
      "text/plain": [
       "True"
      ]
     },
     "execution_count": 65,
     "metadata": {},
     "output_type": "execute_result"
    }
   ],
   "source": [
    "def find3Numbers(A, arr_size, sum):\n",
    "    A.sort()\n",
    "    \n",
    "    for i in range(0, arr_size-2):\n",
    "\n",
    "        l = i + 1\n",
    "        r = arr_size-1\n",
    "        while (l < r):\n",
    "         \n",
    "            if( A[i] + A[l] + A[r] == sum):\n",
    "                print(\"Triplet elements are : \", A[i],\n",
    "                     ', ', A[l], 'and ', A[r]);\n",
    "                return True\n",
    "             \n",
    "            elif (A[i] + A[l] + A[r] < sum):\n",
    "                l += 1\n",
    "            else: # A[i] + A[l] + A[r] > sum\n",
    "                r -= 1\n",
    "\n",
    "    return False\n",
    "\n",
    "A = [1, 4, 45, 6, 10, 8]\n",
    "sum = 22\n",
    "arr_size = len(A)\n",
    " \n",
    "find3Numbers(A, arr_size, sum)"
   ]
  },
  {
   "cell_type": "markdown",
   "id": "0667b4fc",
   "metadata": {},
   "source": [
    "#### Find all triplets with zero sum\n"
   ]
  },
  {
   "cell_type": "code",
   "execution_count": 66,
   "id": "f37dca4c",
   "metadata": {
    "scrolled": false
   },
   "outputs": [
    {
     "name": "stdout",
     "output_type": "stream",
     "text": [
      "Triplet elements are :  -3 ,  1 and  2\n"
     ]
    },
    {
     "data": {
      "text/plain": [
       "True"
      ]
     },
     "execution_count": 66,
     "metadata": {},
     "output_type": "execute_result"
    }
   ],
   "source": [
    "def find3Numbers(A, arr_size):\n",
    "    A.sort()\n",
    "    \n",
    "    for i in range(0, arr_size-2):\n",
    "\n",
    "        l = i + 1\n",
    "        r = arr_size-1\n",
    "        while (l < r):\n",
    "         \n",
    "            if( A[i] + A[l] + A[r] == 0):\n",
    "                print(\"Triplet elements are : \", A[i],\n",
    "                     ', ', A[l], 'and ', A[r]);\n",
    "                return True\n",
    "             \n",
    "            elif (A[i] + A[l] + A[r] < 0):\n",
    "                l += 1\n",
    "            else: # A[i] + A[l] + A[r] > sum\n",
    "                r -= 1\n",
    "\n",
    "    return False\n",
    "\n",
    "A = [0, -1, 2, -3, 1]\n",
    "sum = 22\n",
    "arr_size = len(A)\n",
    " \n",
    "find3Numbers(A, arr_size)"
   ]
  },
  {
   "cell_type": "code",
   "execution_count": null,
   "id": "476c4ed1",
   "metadata": {},
   "outputs": [],
   "source": []
  }
 ],
 "metadata": {
  "kernelspec": {
   "display_name": "Python 3",
   "language": "python",
   "name": "python3"
  },
  "language_info": {
   "codemirror_mode": {
    "name": "ipython",
    "version": 3
   },
   "file_extension": ".py",
   "mimetype": "text/x-python",
   "name": "python",
   "nbconvert_exporter": "python",
   "pygments_lexer": "ipython3",
   "version": "3.8.8"
  }
 },
 "nbformat": 4,
 "nbformat_minor": 5
}
