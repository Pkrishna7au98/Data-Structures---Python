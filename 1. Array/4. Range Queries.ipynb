{
 "cells": [
  {
   "cell_type": "code",
   "execution_count": 1,
   "id": "d702daa3",
   "metadata": {},
   "outputs": [],
   "source": [
    "import numpy as np\n",
    "import sys\n",
    "import math"
   ]
  },
  {
   "cell_type": "markdown",
   "id": "f0170728",
   "metadata": {},
   "source": [
    "### Prefix Sum, Prefix Count , Range Sum of arrays"
   ]
  },
  {
   "cell_type": "markdown",
   "id": "cdbf9ed2",
   "metadata": {},
   "source": [
    "##### 1. Prefix Sum"
   ]
  },
  {
   "cell_type": "code",
   "execution_count": 2,
   "id": "9b240717",
   "metadata": {},
   "outputs": [
    {
     "name": "stdout",
     "output_type": "stream",
     "text": [
      "[1, 2, 4, 5, 8, 12, 17, 19, 27]\n",
      "Sum of the query from 0 to 6 is 17. \n"
     ]
    }
   ],
   "source": [
    "array = np.array([1, 1, 2, 1, 3, 4, 5, 2, 8])\n",
    "\n",
    "\n",
    "def PrefixSum(arr):\n",
    "    n = len(array)\n",
    "    Psum = [0]*n\n",
    "    \n",
    "    for i in range(len(arr)):\n",
    "        if i == 0:\n",
    "            Psum[i] = arr[i]\n",
    "        \n",
    "        elif i<len(arr):\n",
    "            Psum[i] = Psum[i-1] + arr[i]\n",
    "    \n",
    "    return Psum\n",
    "\n",
    "\n",
    "Psum = PrefixSum(array)\n",
    "\n",
    "def QuerySum(L,R):\n",
    "    print(Psum)\n",
    "    \n",
    "    if L == 0:\n",
    "        ask_L = 0\n",
    "    else:\n",
    "        ask  = Psum[L-1]\n",
    "    print(\"Sum of the query from {} to {} is {}. \".format(L,R,(Psum[R]-ask_L)))\n",
    "\n",
    "QuerySum(0,6)"
   ]
  },
  {
   "cell_type": "markdown",
   "id": "ca15b5a5",
   "metadata": {},
   "source": [
    "#### 2. Prefix Count"
   ]
  },
  {
   "cell_type": "code",
   "execution_count": 3,
   "id": "35c22d58",
   "metadata": {},
   "outputs": [
    {
     "name": "stdout",
     "output_type": "stream",
     "text": [
      "[1, 1, 1, 2, 3, 3, 3, 4, 5, 5, 5, 6, 7, 7, 8, 9, 9]\n"
     ]
    },
    {
     "data": {
      "text/plain": [
       "4"
      ]
     },
     "execution_count": 3,
     "metadata": {},
     "output_type": "execute_result"
    }
   ],
   "source": [
    "array = np.array([0,1,1,0,0,1,1,0,0,1,1,0,0,1,0,0,1])\n",
    "\n",
    "\n",
    "#We are counting Zeros first. \n",
    "def PrefixCount(arr):\n",
    "    n = len(arr)\n",
    "    Pcount = [0]*n\n",
    "    \n",
    "    for i in range(n):\n",
    "        if i == 0:\n",
    "            if arr[i] == 0:\n",
    "                Pcount[0] = 1\n",
    "            else:\n",
    "                Pcount [0]= 0\n",
    "        if i<n:\n",
    "            if arr[i] == 0:\n",
    "                Pcount[i] = Pcount[i-1] + 1\n",
    "            else:\n",
    "                Pcount[i] = Pcount[i-1]\n",
    "    return Pcount\n",
    "\n",
    "\n",
    "Counts = PrefixCount(array)\n",
    "print(Counts)\n",
    "\n",
    "def QuerySum(L,R):\n",
    "    if Counts[R]== 1 and Counts[L-1] == 1:\n",
    "        return 1\n",
    "    else:\n",
    "        return Counts[R] - Counts[L-1]\n",
    "\n",
    "QuerySum(1,8)\n",
    "            "
   ]
  },
  {
   "cell_type": "markdown",
   "id": "70ff325d",
   "metadata": {},
   "source": [
    "#### Range Sum"
   ]
  },
  {
   "cell_type": "code",
   "execution_count": 4,
   "id": "27c6efe4",
   "metadata": {},
   "outputs": [
    {
     "data": {
      "text/plain": [
       "[-3, -4, -1, -1, -1, 3, 3]"
      ]
     },
     "execution_count": 4,
     "metadata": {},
     "output_type": "execute_result"
    }
   ],
   "source": [
    "Rg_Sum = np.array([0,0,0,0,0,0,0])\n",
    "ques= ([1,4,-1],[2,6,3],[0,4,-3])\n",
    "\n",
    "#//-----------------------------------//\n",
    "\n",
    "for i in range(len(ques)):    \n",
    "    L,R,Val = ques[i]\n",
    "    b = len(Rg_Sum)\n",
    "    \n",
    "    if R+1<b:\n",
    "        Rg_Sum[L] = Rg_Sum[L] + Val\n",
    "        Rg_Sum[R+1] = Rg_Sum[R+1] -Val\n",
    "    \n",
    "    elif R+1==b:\n",
    "        Rg_Sum[L] =Rg_Sum[L] +  Val\n",
    "           \n",
    "def PrefixSum(arr):\n",
    "    n = len(arr)\n",
    "    PS = [0]*n\n",
    "    \n",
    "    for i in range(n):\n",
    "        if i == 0:\n",
    "            PS[i] = arr[i]\n",
    "        \n",
    "        elif i<n:\n",
    "            PS[i] = PS[i-1] + arr[i]\n",
    "    \n",
    "    return PS\n",
    "\n",
    "PrefixSum(Rg_Sum)"
   ]
  },
  {
   "cell_type": "markdown",
   "id": "2bf96338",
   "metadata": {},
   "source": [
    "#### Moksh and His Girlfriend"
   ]
  },
  {
   "cell_type": "code",
   "execution_count": 5,
   "id": "6950e3a7",
   "metadata": {},
   "outputs": [
    {
     "name": "stdout",
     "output_type": "stream",
     "text": [
      "MG after query inputs :  [ 1  1  1  0  0 -1  0 -2  0  0] \n",
      "\n",
      "MG after applying all queries :  [1, 2, 3, 3, 3, 2, 2, 0, 0, 0] \n",
      "\n",
      "Prefix count of m  [0, 1, 1, 1, 1, 2, 3, 3, 3, 3] \n",
      "\n",
      "Prefix count of m+1  [0, 0, 1, 2, 3, 3, 3, 3, 3, 3] \n",
      "\n",
      "Prefix count max value 3 \n",
      "\n",
      "Max'm values of m after removing queries (1st, 2nd ...) :  [4, 3, 5] \n",
      "\n",
      "Hence the max value of m can be obtained is 5 on q-1 queries.\n"
     ]
    }
   ],
   "source": [
    "MG = np.array([0,0,0,0,0,0,0,0,0,0])\n",
    "Q_mg = ([2,6],[1,6],[0,4])\n",
    "vv = 1\n",
    "\n",
    "#//------------------------------------------//\n",
    "#First of all we will apply the queries on the array and take prefix sum \n",
    "#                                       to get our output of the queries\n",
    "\n",
    "for i in range(len(Q_mg)):    \n",
    "    ll,rr = Q_mg[i]\n",
    "    b = len(MG)\n",
    "\n",
    "    if rr+1<b:\n",
    "        MG[ll] = MG[ll] + vv\n",
    "        MG[rr+1] = MG[rr+1] - vv\n",
    "    \n",
    "    elif rr+1==b:\n",
    "        MG[ll] =MG[ll] +  vv\n",
    "    \n",
    "print(\"MG after query inputs : \",MG,\"\\n\")\n",
    "\n",
    "    #-------------------------------------------#\n",
    "    \n",
    "pxsm = [0]*len(MG)\n",
    "def PfxSum(arr):\n",
    "    n = len(arr)\n",
    "    \n",
    "    for i in range(n):\n",
    "        if i == 0:\n",
    "            pxsm[i] = arr[i]\n",
    "        \n",
    "        elif i<n:\n",
    "            pxsm[i] = pxsm[i-1] + arr[i]\n",
    "\n",
    "    return pxsm\n",
    "\n",
    "PfxSum(MG)\n",
    "print(\"MG after applying all queries : \",PfxSum(MG),\"\\n\")\n",
    "\n",
    "#Here our output is after applying all the above queries, so now we can check for occurance\n",
    "#//--------------------------------------------------------------------------------------//\n",
    "\n",
    "def PfCount(ar_mg , vl):\n",
    "    n = len(ar_mg)\n",
    "    temp = [0]*n\n",
    "    \n",
    "    for i in range(n):\n",
    "        if i == 0:\n",
    "            if ar_mg[i] == vl:\n",
    "                temp[0] = 1\n",
    "            else:\n",
    "                temp[i]= 0\n",
    "        if i<n:\n",
    "            if ar_mg[i] == vl:\n",
    "                temp[i] = temp[i-1] + 1\n",
    "            else:\n",
    "                temp[i] = temp[i-1]\n",
    "    return temp\n",
    "\n",
    "Prefix_count_m = PfCount(pxsm,2)\n",
    "Prefix_count_m1 = PfCount(pxsm,3)\n",
    "max_m = max(Prefix_count_m)\n",
    "\n",
    "print(\"Prefix count of m \", Prefix_count_m,\"\\n\")\n",
    "print(\"Prefix count of m+1 \", Prefix_count_m1,\"\\n\")\n",
    "print(\"Prefix count max value\", max_m,\"\\n\")\n",
    "\n",
    "#//----------------------------------------------------------------------------------------//\n",
    "\n",
    "#Now we need to find the max value of m for suitable q-1 pairs of the given query\n",
    "\n",
    "Qmax = []   \n",
    "counts_m = max(Prefix_count_m)\n",
    "    \n",
    "def loss(Ll,Rr):\n",
    "    ask_mRr = Prefix_count_m[Rr]\n",
    "    \n",
    "    if Ll == 0:\n",
    "        ask_mLl = 0\n",
    "    \n",
    "    else:\n",
    "        ask_mLl = Prefix_count_m[Ll-1]\n",
    "    \n",
    "    return ask_mRr - ask_mLl\n",
    "    \n",
    "def gain(lll,rrr):\n",
    "     ask_m1Rr = Prefix_count_m1[rrr]\n",
    "    \n",
    "     if lll == 0:\n",
    "        ask_m1Ll = 0\n",
    "    \n",
    "     else:\n",
    "        ask_m1Ll = Prefix_count_m1[lll-1]\n",
    "    \n",
    "     return ask_m1Rr - ask_m1Ll\n",
    "\n",
    "for bb in range(len(Q_mg)):\n",
    "    lL,rR = Q_mg[bb]\n",
    "    ans = counts_m - loss(lL,rR) + gain(lL,rR)\n",
    "\n",
    "    Qmax.append(ans)\n",
    "\n",
    "print(\"Max'm values of m after removing queries (1st, 2nd ...) : \",Qmax,\"\\n\")\n",
    "print(\"Hence the max value of m can be obtained is {} on q-1 queries.\".format(max(Qmax)))"
   ]
  },
  {
   "cell_type": "markdown",
   "id": "9fd38227",
   "metadata": {},
   "source": [
    "#### Sqrt Decomposition"
   ]
  },
  {
   "cell_type": "markdown",
   "id": "5580f81b",
   "metadata": {},
   "source": [
    "###### for Min and max"
   ]
  },
  {
   "cell_type": "code",
   "execution_count": 6,
   "id": "5d16c215",
   "metadata": {
    "scrolled": false
   },
   "outputs": [
    {
     "name": "stdout",
     "output_type": "stream",
     "text": [
      "[7, 38, 44, 66]\n",
      "Your answer for the given query (3 ,6) is 38. \n"
     ]
    }
   ],
   "source": [
    "import math\n",
    "\n",
    "my_SD_Arr = np.array([7, 2, -8, 1,  38, 5, 10, -8, 44, 0, 43, 12, 14, 66, -34 ])\n",
    "\n",
    "n = len(my_SD_Arr)\n",
    "len_sqrt = math.ceil(n**0.5)\n",
    "\n",
    "sqrt_arr = [0]*len_sqrt\n",
    "\n",
    "\n",
    "#Now we need to find the sqrt array\n",
    "def Sqrt_Array(SD_Arr):\n",
    "        #------Let's store the min values of all elements for a sqrt size box, here 4-----#\n",
    "\n",
    "    j=0\n",
    "    for i in range(0,n,len_sqrt):\n",
    "        temp = SD_Arr[i]\n",
    "\n",
    "        for p in range(i,i+len_sqrt):\n",
    "\n",
    "            if p < n:\n",
    "                if temp < SD_Arr[p]:\n",
    "                    temp = SD_Arr[p]\n",
    "\n",
    "        sqrt_arr[j] = temp\n",
    "        j += 1\n",
    "    return sqrt_arr\n",
    "\n",
    "print(Sqrt_Array(my_SD_Arr)) \n",
    "\n",
    "#//------------------------------------------------------------------------------//#\n",
    "\n",
    "def query_SD(L,R):\n",
    "    temp = L\n",
    "    min1 = my_SD_Arr[L]\n",
    "   \n",
    "    while L == 0:\n",
    "        min1 = sqrt_arr[L]\n",
    "        \n",
    "        L+=1\n",
    "        \n",
    "    while (L!= 0 and L%len_sqrt != 0 and L<=R):\n",
    "\n",
    "        if min1 < my_SD_Arr[L]:\n",
    "            min1 = my_SD_Arr[L]\n",
    "            \n",
    "        L +=1\n",
    "            \n",
    "    while (L!= 0 and L%len_sqrt == 0 and L<=R):\n",
    "        \n",
    "        if min1 < sqrt_arr[L//len_sqrt]:\n",
    "            min1 = sqrt_arr[L//len_sqrt]\n",
    "        \n",
    "        L += 4\n",
    "        \n",
    "    return print(\"Your answer for the given query ({} ,{}) is {}. \".format(temp,R,min1) )\n",
    "\n",
    "          \n",
    "query_SD(3,6)   "
   ]
  },
  {
   "cell_type": "markdown",
   "id": "131e23bf",
   "metadata": {},
   "source": [
    "###### for query Sum by SQRT DECOMPOSITION + Updation as well"
   ]
  },
  {
   "cell_type": "code",
   "execution_count": 7,
   "id": "dab80e27",
   "metadata": {},
   "outputs": [
    {
     "name": "stdout",
     "output_type": "stream",
     "text": [
      "------------------------------------------------------------------------------------------\n",
      "The output is :  21\n",
      "The output is :  75\n"
     ]
    }
   ],
   "source": [
    "MaxN = 100\n",
    "SqrSz = 10\n",
    "\n",
    "arr = [0]*(MaxN)\n",
    "block = [0] * (SqrSz)\n",
    "BlkSz = 0\n",
    "\n",
    "\n",
    "def update(ind, val):\n",
    "    blockNumber = ind // BlkSz\n",
    "    block[blockNumber] += val - arr[ind]\n",
    "    arr[ind] = val\n",
    "    \n",
    "\n",
    "def query(L,R):\n",
    "    \n",
    "    Sum = 0\n",
    "    \n",
    "    while (L<R and L % BlkSz != 0 and L != 0):\n",
    "        Sum += arr[L]\n",
    "        L += 1\n",
    "        \n",
    "    while (L + BlkSz <= R):\n",
    "        Sum += block[L // BlkSz]\n",
    "        L += BlkSz\n",
    "        \n",
    "    while L <= R:\n",
    "        Sum += arr[L]\n",
    "        L += 1\n",
    "\n",
    "    return Sum\n",
    "\n",
    "\n",
    "def preprocess(my_arr):\n",
    "    n = len(my_arr)\n",
    "    \n",
    "    BlkIdx = -1\n",
    "    global BlkSz\n",
    "    \n",
    "    BlkSz = int(np.sqrt(n))\n",
    "\n",
    "    \n",
    "    for i in range(n):\n",
    "\n",
    "        arr[i] = my_arr[i]\n",
    "    \n",
    "        if i % BlkSz == 0:\n",
    "            BlkIdx += 1\n",
    "        \n",
    "        block[BlkIdx] += arr[i] \n",
    "            \n",
    "#print(\"Block Size is : {}\".format(BlkSz), \"Value of i {} , arr {} and block is {} \\n\".format(i, arr , block))   \n",
    "       \n",
    "    print(\"------------------------------------------------------------------------------------------\")\n",
    "    \n",
    "my_arr = np.array([1, 5, 2, 4, 6, 1, 3, 5, 7])\n",
    "rg =[[0, 5], [1, 3], [2, 4] , [6, 6]]\n",
    "\n",
    "preprocess(my_arr)\n",
    "print(\"The output is : \" ,query(1,6))\n",
    "update(4,60)\n",
    "print(\"The output is : \" ,query(1,6))"
   ]
  },
  {
   "cell_type": "markdown",
   "id": "9717d252",
   "metadata": {},
   "source": [
    "#### Fenwick Tree  : To calculate Sum / Multiplication/ division etc....\n",
    "    "
   ]
  },
  {
   "cell_type": "code",
   "execution_count": 8,
   "id": "dec22fb2",
   "metadata": {},
   "outputs": [
    {
     "name": "stdout",
     "output_type": "stream",
     "text": [
      "Our Fw_arr Tree is :  [7, 9, -8, 2, 38, 43, 10, 47, 44, 44]\n",
      "45\n"
     ]
    }
   ],
   "source": [
    "Fw_arr = np.array([7,2,-8,1,38,5,10,-8,44,0])\n",
    "\n",
    "length = len(Fw_arr)\n",
    "Fw_Tree = []\n",
    "\n",
    "#//-----------------------Lets create our Fw_arr Tree-(nLogn)-------------------------//\n",
    "\n",
    "for pp in range(1, length+1):\n",
    "\n",
    "    if pp % 2 == 1:\n",
    "        sum = Fw_arr[pp-1]\n",
    "    \n",
    "    else:\n",
    "        \n",
    "        temp = bin(pp)[2:]\n",
    "        bl = len(temp)\n",
    "\n",
    "        for i in range(bl):\n",
    "\n",
    "            if int(temp[bl-1-i]) == 1:\n",
    "                sc = 2**i\n",
    "                sum = 0\n",
    "                for j in range(sc):\n",
    "                    sum = sum + Fw_arr[pp-1-j]\n",
    "\n",
    "                break\n",
    "    Fw_Tree.append(sum)\n",
    "\n",
    "print(\"Our Fw_arr Tree is : \", Fw_Tree)\n",
    "\n",
    "#//--------------------Now we've created our FW Tree, Lets run the queries----------//\n",
    "   #Now, How to calculate the sum till a given index...is shown below.\n",
    "    \n",
    "    #For example I want sum till 9th element\n",
    "    \n",
    "def SumAt(idx):\n",
    "    p = idx-1\n",
    "\n",
    "    bin_val = bin(idx)[2:]\n",
    "    bb = len(bin_val)\n",
    "    arr_sm = []\n",
    "\n",
    "    i = 0\n",
    "    while i<bb:\n",
    "        if int(bin_val[bb-1-i]) == 1:\n",
    "            arr_sm.append(2**i)\n",
    "\n",
    "        i+=1\n",
    "\n",
    "    SuM = 0\n",
    "    for hh in range(len(arr_sm)):\n",
    "\n",
    "        SuM = SuM + Fw_Tree[p]\n",
    "        p = p-arr_sm[hh]\n",
    "\n",
    "    return SuM\n",
    "\n",
    "ans = SumAt(8) - SumAt(5-1)\n",
    "print(ans)"
   ]
  },
  {
   "cell_type": "markdown",
   "id": "5ec48c65",
   "metadata": {},
   "source": [
    "#### Sqrt (or Square Root) Decomposition Technique | Set 1 (Introduction)\n"
   ]
  },
  {
   "cell_type": "code",
   "execution_count": 10,
   "id": "e2ef664a",
   "metadata": {},
   "outputs": [
    {
     "name": "stdout",
     "output_type": "stream",
     "text": [
      "Your array is :  [1 1 2 1 3 4 5 2 8]\n",
      "sum of query [1, 3] is : 4\n",
      "sum of query [2, 4] is : 6\n",
      "sum of query [0, 5] is : 12\n"
     ]
    }
   ],
   "source": [
    "def QuerySum(arr, ran):\n",
    "    \n",
    "    print(\"Your array is : \", arr)\n",
    "    \n",
    "    \n",
    "    #Sorting the range based on Right element\n",
    "    ran.sort(key =  lambda x : x[1])\n",
    "\n",
    "    #Defining current values of L,R and sum\n",
    "    currL , currR, currSum = 0,0,0\n",
    "    \n",
    "    for i in range(len(ran)):\n",
    "        \n",
    "        #L and R values of first query\n",
    "        L,R = ran[i]\n",
    "        \n",
    "        while currL < L:\n",
    "            currSum -= arr[currL]\n",
    "            currL +=1\n",
    "            \n",
    "        while currL > L:\n",
    "            currSum += arr[currL-1]\n",
    "            currL -= 1\n",
    "            \n",
    "        while currR <= R:\n",
    "            currSum += arr[currR]\n",
    "            currR += 1\n",
    "        \n",
    "        while currR > R+1:\n",
    "            currSum -= arr[currR-1]\n",
    "            currR -= 1\n",
    "            \n",
    "        \n",
    "        print(\"sum of query {} is : {}\".format(ran[i],currSum))\n",
    "        \n",
    "\n",
    "array = np.array([1, 1, 2, 1, 3, 4, 5, 2, 8])\n",
    "ran = [[0, 5], [1, 3], [2, 4]]\n",
    "\n",
    "QuerySum(array, ran)"
   ]
  },
  {
   "cell_type": "code",
   "execution_count": 10,
   "id": "a11bb16f",
   "metadata": {},
   "outputs": [
    {
     "name": "stdout",
     "output_type": "stream",
     "text": [
      "Your array is :  [1 1 2 1 3 4 5 2 8]\n",
      "sum of query [1, 3] is : 4\n",
      "sum of query [2, 4] is : 6\n",
      "sum of query [0, 5] is : 12\n"
     ]
    }
   ],
   "source": []
  },
  {
   "cell_type": "markdown",
   "id": "d6337f50",
   "metadata": {},
   "source": [
    "### Sparse Table\n"
   ]
  },
  {
   "cell_type": "markdown",
   "id": "7383738b",
   "metadata": {},
   "source": [
    "##### Range Minimum Query"
   ]
  },
  {
   "cell_type": "raw",
   "id": "cd79104e",
   "metadata": {},
   "source": [
    "We have an array arr[0 . . . n-1]. We need to find the greatest common divisor in the range L and R where 0 <= L <= R <= n-1. Consider a situation when there are many range queries"
   ]
  },
  {
   "cell_type": "raw",
   "id": "2d3aec4a",
   "metadata": {},
   "source": [
    "GCD function is associative [ GCD(a, b, c) = GCD(GCD(a, b), c) = GCD(a, GCD(b, c))], we can compute GCD of a range using GCDs of subranges.\n",
    "If we take GCD of an overlapping range more than once, then it does not change answer. For example GCD(a, b, c) = GCD(GCD(a, b), GCD(b, c)). Therefore like minimum range query problem, we need to do only one comparison to find GCD of given range.\n",
    "We build a sparse table using the same logic as above. After building the sparse table, we can find all GCDs by breaking given range in powers of 2 and add GCD of every piece to the current answer."
   ]
  },
  {
   "cell_type": "markdown",
   "id": "13cd943c",
   "metadata": {},
   "source": [
    "#### Range sum query using Sparse Table\n"
   ]
  },
  {
   "cell_type": "code",
   "execution_count": 12,
   "id": "b64fe4f1",
   "metadata": {},
   "outputs": [
    {
     "name": "stdout",
     "output_type": "stream",
     "text": [
      "Our Sparse Table is shown below \n",
      "\n",
      "[7, 2, 2, 2]\n",
      "[2, 2, 2, 2]\n",
      "[16, 16, 5, 5]\n",
      "[38, 5, 5]\n",
      "[5, 5, 5]\n",
      "[10, 10, 10]\n",
      "[12, 12, 12]\n",
      "[18, 18]\n",
      "[33, 33]\n",
      "[67]\n",
      "\n",
      "\n",
      "2 5 18\n"
     ]
    }
   ],
   "source": [
    "a = [7, 2, 16, 38, 5, 10, 12, 18, 33, 67]\n",
    "    \n",
    "b = []\n",
    "def SparseTable(arr):\n",
    "    \n",
    "   \n",
    "\n",
    "    #When j IS 0    \n",
    "    for i in arr:\n",
    "        b.append([i])\n",
    "\n",
    "    #when j is 1\n",
    "    for j in range(1,int(len(arr)**0.5)+1):\n",
    "\n",
    "        for i in range(len(arr)- 2**(j)+1):\n",
    "\n",
    "            ind = 2**(j-1) + i\n",
    "\n",
    "            b[i].append(min([b[i][j-1] , b[ind][j-1]]))\n",
    "            \n",
    "    return b\n",
    "\n",
    "ST = SparseTable(a)\n",
    "\n",
    "print(\"Our Sparse Table is shown below \\n\")\n",
    "for i in ST:\n",
    "    print(i)\n",
    "print(\"\\n\")       \n",
    "\n",
    "def queryMin(L,R):\n",
    "    j = int(math.log2(R-L+1))\n",
    "    return b[L][j]\n",
    "\n",
    "print(queryMin(0,2),queryMin(3,7),queryMin(7,9))"
   ]
  },
  {
   "cell_type": "code",
   "execution_count": null,
   "id": "e32447ac",
   "metadata": {},
   "outputs": [],
   "source": []
  },
  {
   "cell_type": "code",
   "execution_count": null,
   "id": "07141057",
   "metadata": {},
   "outputs": [],
   "source": []
  },
  {
   "cell_type": "code",
   "execution_count": null,
   "id": "56c41071",
   "metadata": {},
   "outputs": [],
   "source": []
  }
 ],
 "metadata": {
  "kernelspec": {
   "display_name": "Python 3",
   "language": "python",
   "name": "python3"
  },
  "language_info": {
   "codemirror_mode": {
    "name": "ipython",
    "version": 3
   },
   "file_extension": ".py",
   "mimetype": "text/x-python",
   "name": "python",
   "nbconvert_exporter": "python",
   "pygments_lexer": "ipython3",
   "version": "3.8.8"
  }
 },
 "nbformat": 4,
 "nbformat_minor": 5
}
