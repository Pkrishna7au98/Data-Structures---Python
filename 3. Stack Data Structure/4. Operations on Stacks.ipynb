{
 "cells": [
  {
   "cell_type": "markdown",
   "id": "cad27af8",
   "metadata": {},
   "source": [
    "### Reverse a stack using recursion\n"
   ]
  },
  {
   "cell_type": "code",
   "execution_count": 1,
   "id": "cd3bd527",
   "metadata": {},
   "outputs": [
    {
     "name": "stdout",
     "output_type": "stream",
     "text": [
      "Original Stack \n",
      "-1 0 1 2 3 4 \n",
      "Reversed Stack \n",
      "4 3 2 1 0 -1 \n"
     ]
    }
   ],
   "source": [
    "stack = [1,2,3,4,5,6,7,8,9]\n",
    "\n",
    "def insertAtBottom(stack , item):\n",
    "    if isEmpty(stack):\n",
    "        push(stack, item)\n",
    "    else:\n",
    "        temp = pop(stack)\n",
    "        insertAtBottom(stack, item)\n",
    "        push(stack, temp)\n",
    "        \n",
    "def reverse(stack):\n",
    "    if not isEmpty(stack):\n",
    "        temp = pop(stack)\n",
    "        reverse(stack)\n",
    "        insertAtBottom(stack, temp)\n",
    "\n",
    "def createStack():\n",
    "    stack = []\n",
    "    return stack\n",
    " \n",
    "def isEmpty( stack ):\n",
    "    return len(stack) == 0\n",
    " \n",
    "def push( stack, item ):\n",
    "    stack.append( item )\n",
    "\n",
    "def pop( stack ):\n",
    "\n",
    "    if(isEmpty( stack )):\n",
    "        print(\"Stack Underflow \")\n",
    "        exit(1)\n",
    " \n",
    "    return stack.pop()\n",
    " \n",
    "def prints(stack):\n",
    "    for i in range(len(stack)-1, -1, -1):\n",
    "        print(stack[i], end = ' ')\n",
    "    print()\n",
    "    \n",
    "stack = createStack()\n",
    "push( stack, str(4) )\n",
    "push( stack, str(3) )\n",
    "push( stack, str(2) )\n",
    "push( stack, str(1) )\n",
    "push( stack, str(0) )\n",
    "push( stack, str(-1) )\n",
    "print(\"Original Stack \")\n",
    "prints(stack)\n",
    " \n",
    "reverse(stack)\n",
    " \n",
    "print(\"Reversed Stack \")\n",
    "prints(stack)"
   ]
  },
  {
   "cell_type": "markdown",
   "id": "f4b767de",
   "metadata": {},
   "source": [
    "### Sort a stack using recursion\n"
   ]
  },
  {
   "cell_type": "code",
   "execution_count": 2,
   "id": "c37e26c5",
   "metadata": {},
   "outputs": [
    {
     "name": "stdout",
     "output_type": "stream",
     "text": [
      "[1, 2, 3, 4, 5, 6, 7, 8]\n"
     ]
    }
   ],
   "source": [
    "StacK = [4,1,7,8,5,2,6,3]\n",
    "\n",
    "def sortStack(stack):\n",
    "    if (len(stack) != 0):\n",
    "        temp = stack.pop()\n",
    "        sortStack(stack)\n",
    "        SortedInsert(stack, temp)\n",
    "        \n",
    "def SortedInsert(stack, val):\n",
    "    if (len(stack) == 0) or val > stack[-1]:\n",
    "        stack.append(val)\n",
    "        return\n",
    "    else:\n",
    "        aval = stack.pop()\n",
    "        SortedInsert(stack, val)\n",
    "        stack.append(aval)\n",
    "        \n",
    "        \n",
    "sortStack(StacK)\n",
    "print(StacK)"
   ]
  },
  {
   "cell_type": "markdown",
   "id": "f481fe1d",
   "metadata": {},
   "source": [
    "### Sort a stack using a temporary stack\n"
   ]
  },
  {
   "cell_type": "code",
   "execution_count": 3,
   "id": "69e29bfa",
   "metadata": {},
   "outputs": [
    {
     "name": "stdout",
     "output_type": "stream",
     "text": [
      "[3, 23, 31, 34, 92, 98]\n"
     ]
    }
   ],
   "source": [
    "inputarr = [34, 3, 31, 98, 92, 23]\n",
    "temparr = []\n",
    "\n",
    "def Sort_ExtraSpace(stack):\n",
    "    \n",
    "    if not temparr:\n",
    "        temp = stack.pop()\n",
    "        temparr.append(temp)\n",
    "    \n",
    "    while len(stack) != 0:\n",
    "        temp = stack.pop()\n",
    "    \n",
    "        if temp > temparr[-1]:\n",
    "                temparr.append(temp) \n",
    "                \n",
    "        else:\n",
    "            i = 0\n",
    "            while len(temparr) != 0 and temp < temparr[-1]:\n",
    "                val = temparr.pop()\n",
    "                stack.append(val)\n",
    "                i+=1\n",
    "            temparr.append(temp)\n",
    "            \n",
    "Sort_ExtraSpace(inputarr)\n",
    "print(temparr)"
   ]
  },
  {
   "cell_type": "markdown",
   "id": "293b7cd2",
   "metadata": {},
   "source": [
    "### Reverse a stack without using extra space in O(n)"
   ]
  },
  {
   "cell_type": "code",
   "execution_count": 26,
   "id": "02353969",
   "metadata": {},
   "outputs": [
    {
     "name": "stdout",
     "output_type": "stream",
     "text": [
      "Original Stack\n",
      "4 3 2 1 \n",
      "Reversed Stack\n",
      "1 2 3 4 "
     ]
    }
   ],
   "source": [
    "class stackNode:\n",
    "    \n",
    "    def __init__(self, data):\n",
    "        self.data = data\n",
    "        self.next = None\n",
    "        \n",
    "class Stack:\n",
    "    \n",
    "    def __init__(self):\n",
    "        self.top = None\n",
    "        \n",
    "    def Push(self, new_data):\n",
    "        if self.top == None:\n",
    "            self.top = stackNode(new_data)\n",
    "            return\n",
    "        \n",
    "        new_node = stackNode(new_data)\n",
    "        \n",
    "        new_node.next = self.top\n",
    "        self.top = new_node\n",
    "        \n",
    "    def Pop(self):\n",
    "        temp = self.top\n",
    "        self.top = self.top.next\n",
    "        return temp\n",
    "        \n",
    "    def Display(self):\n",
    "        val = self.top\n",
    "        \n",
    "        while val is not None:\n",
    "            print(val.data,  end = \" \")\n",
    "            val = val.next\n",
    "    \n",
    "    def Reverse_Stack(self):\n",
    "        prev = self.top\n",
    "        cur = prev.next\n",
    "        succ = None\n",
    "        prev.next = None\n",
    "         \n",
    "        while (cur != None):\n",
    "            succ = cur.next\n",
    "            cur.next = prev\n",
    "            prev = cur\n",
    "            cur = succ\n",
    "         \n",
    "        self.top = prev\n",
    "\n",
    "if __name__=='__main__':\n",
    "     \n",
    "    s = Stack()\n",
    "    s.Push(1)\n",
    "    s.Push(2)\n",
    "    s.Push(3)\n",
    "    s.Push(4)\n",
    "     \n",
    "    print(\"Original Stack\")\n",
    "    s.Display()\n",
    "    print()\n",
    "    \n",
    "    # Reverse\n",
    "    s.Reverse_Stack()\n",
    "  \n",
    "    print(\"Reversed Stack\")\n",
    "    s.Display()"
   ]
  },
  {
   "cell_type": "markdown",
   "id": "116d51d3",
   "metadata": {},
   "source": [
    "### Delete Middle Element of Stack"
   ]
  },
  {
   "cell_type": "code",
   "execution_count": 29,
   "id": "b2bc15e2",
   "metadata": {},
   "outputs": [
    {
     "name": "stdout",
     "output_type": "stream",
     "text": [
      "7 6 5 3 2 1 "
     ]
    }
   ],
   "source": [
    "class Stack:\n",
    "    def __init__(self):\n",
    "        self.items = []\n",
    "      \n",
    "    def isEmpty(self):\n",
    "        return self.items == []\n",
    "      \n",
    "    def push(self, item):\n",
    "        self.items.append(item)\n",
    "      \n",
    "    def pop(self):\n",
    "        return self.items.pop()\n",
    "      \n",
    "    def peek(self):\n",
    "        return self.items[len(self.items)-1]\n",
    "      \n",
    "    def size(self):\n",
    "        return len(self.items)\n",
    "          \n",
    "def deleteMid(st, n, curr) :\n",
    "    \n",
    "    if st.isEmpty() or curr ==n:\n",
    "        return \n",
    "    \n",
    "    x = st.peek()\n",
    "    st.pop()\n",
    "    \n",
    "    deleteMid(st , n, curr+1)\n",
    "    \n",
    "    if curr != int(n/2):\n",
    "        st.push(x)\n",
    "    \n",
    "    \n",
    "st = Stack()\n",
    "  \n",
    "st.push('1')\n",
    "st.push('2')\n",
    "st.push('3')\n",
    "st.push('4')\n",
    "st.push('5')\n",
    "st.push('6')\n",
    "st.push('7')\n",
    "  \n",
    "deleteMid(st, st.size(), 0)\n",
    "\n",
    "while (st.isEmpty() == False) :\n",
    "    p = st.peek()\n",
    "    st.pop()\n",
    "    print (str(p) + \" \", end=\"\")"
   ]
  },
  {
   "cell_type": "markdown",
   "id": "32733a80",
   "metadata": {},
   "source": [
    "### Sorting array using Stacks\n"
   ]
  },
  {
   "cell_type": "code",
   "execution_count": null,
   "id": "fda62063",
   "metadata": {},
   "outputs": [],
   "source": [
    "array_to_be_sorted = [2,1,5,3,6,9,8,7,4]\n",
    "\n",
    "stack = []\n",
    "\n",
    "while len(array_to_be_sorted) > 0:\n",
    "    tmp = array_to_be_sorted.pop()\n",
    "    \n",
    "    while len(array_to_be_sorted) > 0 and array_to_be_sorted[-1] < tmp:\n",
    "        array_to_be_sorted.append(stack[-1])\n",
    "        stack.pop()\n",
    "    \n",
    "    stack.append(tmp)\n",
    "\n",
    "print(stack)"
   ]
  },
  {
   "cell_type": "code",
   "execution_count": null,
   "id": "71d921ee",
   "metadata": {},
   "outputs": [],
   "source": []
  },
  {
   "cell_type": "code",
   "execution_count": null,
   "id": "b2a5d2a2",
   "metadata": {},
   "outputs": [],
   "source": []
  },
  {
   "cell_type": "code",
   "execution_count": null,
   "id": "fa55132d",
   "metadata": {},
   "outputs": [],
   "source": []
  },
  {
   "cell_type": "code",
   "execution_count": null,
   "id": "55c1478a",
   "metadata": {},
   "outputs": [],
   "source": []
  },
  {
   "cell_type": "code",
   "execution_count": null,
   "id": "b7586e2e",
   "metadata": {},
   "outputs": [],
   "source": []
  },
  {
   "cell_type": "code",
   "execution_count": null,
   "id": "fc61a1e9",
   "metadata": {},
   "outputs": [],
   "source": []
  },
  {
   "cell_type": "code",
   "execution_count": null,
   "id": "19007dd4",
   "metadata": {},
   "outputs": [],
   "source": []
  }
 ],
 "metadata": {
  "kernelspec": {
   "display_name": "Python 3",
   "language": "python",
   "name": "python3"
  }
 },
 "nbformat": 4,
 "nbformat_minor": 5
}
