{
 "cells": [
  {
   "cell_type": "markdown",
   "id": "411fe893",
   "metadata": {},
   "source": [
    "# Stack Data Structure"
   ]
  },
  {
   "cell_type": "markdown",
   "id": "61e137f0",
   "metadata": {},
   "source": [
    "<img src=\"https://media.geeksforgeeks.org/wp-content/cdn-uploads/gq/2013/03/stack.png\">"
   ]
  },
  {
   "cell_type": "markdown",
   "id": "04963a49",
   "metadata": {},
   "source": [
    "<img src=\"https://media.geeksforgeeks.org/wp-content/uploads/20210716162942/stack-660x345.png\">"
   ]
  },
  {
   "cell_type": "markdown",
   "id": "c5d98255",
   "metadata": {},
   "source": [
    "### Stack | Set 1"
   ]
  },
  {
   "cell_type": "markdown",
   "id": "18ca03d0",
   "metadata": {},
   "source": [
    "### Implementing Stack using Arrays"
   ]
  },
  {
   "cell_type": "code",
   "execution_count": 1,
   "id": "aa838e23",
   "metadata": {},
   "outputs": [
    {
     "name": "stdout",
     "output_type": "stream",
     "text": [
      "10 pushed to stack \n",
      "20 pushed to stack \n",
      "30 pushed to stack \n",
      "30 popped from stack\n",
      "20 Is the last element of stack\n"
     ]
    }
   ],
   "source": [
    "def createStack():\n",
    "    stack = []\n",
    "    return stack\n",
    "\n",
    "def isEmpty(stack):\n",
    "    return len(stack) == 0\n",
    "\n",
    "def push(stack, item):\n",
    "    stack.append(item)\n",
    "    print(item + \" pushed to stack \")\n",
    "\n",
    "def pop(stack):\n",
    "    if (isEmpty(stack)):\n",
    "        return str(-maxsize -1) \n",
    "     \n",
    "    return stack.pop()\n",
    "\n",
    "def peek(stack):\n",
    "    if (isEmpty(stack)):\n",
    "        return str(-maxsize -1) \n",
    "    return stack[len(stack) - 1]\n",
    "\n",
    "stack = createStack()\n",
    "push(stack, str(10))\n",
    "push(stack, str(20))\n",
    "push(stack, str(30))\n",
    "print(pop(stack) + \" popped from stack\")\n",
    "print(peek(stack) + \" Is the last element of stack\")"
   ]
  },
  {
   "cell_type": "markdown",
   "id": "c3edb01f",
   "metadata": {},
   "source": [
    "### Implementing Stack using Linked List:"
   ]
  },
  {
   "cell_type": "code",
   "execution_count": 2,
   "id": "537616f2",
   "metadata": {},
   "outputs": [
    {
     "name": "stdout",
     "output_type": "stream",
     "text": [
      " 10 pushed to stack\n",
      " 20 pushed to stack\n",
      " 30 pushed to stack\n",
      " 30 popped from stack\n",
      "Top element is  20 \n"
     ]
    }
   ],
   "source": [
    "class StackNode:\n",
    " \n",
    "    def __init__(self, data):\n",
    "        self.data = data\n",
    "        self.next = None\n",
    " \n",
    " \n",
    "class Stack:\n",
    " \n",
    "    def __init__(self):\n",
    "        self.root = None\n",
    " \n",
    "    def isEmpty(self):\n",
    "        return True if self.root is None else False\n",
    " \n",
    "    def push(self, data):\n",
    "        newNode = StackNode(data)\n",
    "        newNode.next = self.root\n",
    "        self.root = newNode\n",
    "        print (\"% d pushed to stack\" % (data))\n",
    " \n",
    "    def pop(self):\n",
    "        if (self.isEmpty()):\n",
    "            return float(\"-inf\")\n",
    "        temp = self.root\n",
    "        self.root = self.root.next\n",
    "        popped = temp.data\n",
    "        return popped\n",
    " \n",
    "    def peek(self):\n",
    "        if self.isEmpty():\n",
    "            return float(\"-inf\")\n",
    "        return self.root.data\n",
    "\n",
    "if __name__ == \"__main__\":\n",
    "\n",
    "    stack = Stack()\n",
    "    stack.push(10)\n",
    "    stack.push(20)\n",
    "    stack.push(30)\n",
    "\n",
    "    print (\"% d popped from stack\" % (stack.pop()))\n",
    "    print (\"Top element is % d \" % (stack.peek()))"
   ]
  },
  {
   "cell_type": "markdown",
   "id": "24eb725e",
   "metadata": {},
   "source": [
    "### Implementation using collections.deque:"
   ]
  },
  {
   "cell_type": "code",
   "execution_count": 3,
   "id": "005f4558",
   "metadata": {},
   "outputs": [
    {
     "name": "stdout",
     "output_type": "stream",
     "text": [
      "5\n",
      "4\n",
      "deque([1, 2, 3])\n"
     ]
    }
   ],
   "source": [
    "from collections import deque\n",
    "\n",
    "stack = deque()\n",
    "\n",
    "stack.append(1)\n",
    "stack.append(2)\n",
    "stack.append(3)\n",
    "stack.append(4)\n",
    "stack.append(5)\n",
    "\n",
    "\n",
    "print(stack.pop())\n",
    "print(stack.pop())\n",
    "\n",
    "print(stack)"
   ]
  },
  {
   "cell_type": "markdown",
   "id": "a2e08f3f",
   "metadata": {},
   "source": [
    "### Implementation using queue module\n"
   ]
  },
  {
   "cell_type": "raw",
   "id": "7181d427",
   "metadata": {},
   "source": [
    "Queue module also has a LIFO Queue, which is basically a Stack. Data is inserted into Queue using the put() function and get() takes data out from the Queue. \n",
    "\n",
    "There are various functions available in this module: \n",
    "\n",
    "maxsize – Number of items allowed in the queue.\n",
    "empty() – Return True if the queue is empty, False otherwise.\n",
    "full() – Return True if there are maxsize items in the queue. If the queue was initialized with maxsize=0 (the default), then full() never returns True.\n",
    "get() – Remove and return an item from the queue. If the queue is empty, wait until an item is available.\n",
    "get_nowait() – Return an item if one is immediately available, else raise QueueEmpty.\n",
    "put(item) – Put an item into the queue. If the queue is full, wait until a free slot is available before adding the item.\n",
    "put_nowait(item) – Put an item into the queue without blocking.\n",
    "qsize() – Return the number of items in the queue. If no free slot is immediately available, raise QueueFull."
   ]
  },
  {
   "cell_type": "code",
   "execution_count": 1,
   "id": "78267f15",
   "metadata": {},
   "outputs": [
    {
     "name": "stdout",
     "output_type": "stream",
     "text": [
      "0\n",
      "Full:  True\n",
      "Size:  3\n",
      "\n",
      "Empty:  False\n"
     ]
    }
   ],
   "source": [
    "from queue import LifoQueue\n",
    "\n",
    "stack  = LifoQueue(maxsize = 3)\n",
    "\n",
    "print(stack.qsize())\n",
    "\n",
    "stack.put(83)\n",
    "stack.put(32)\n",
    "stack.put(67)\n",
    "\n",
    "print(\"Full: \", stack.full())\n",
    "print(\"Size: \", stack.qsize())\n",
    "\n",
    "stack.get(67)\n",
    "\n",
    "print(\"\\nEmpty: \", stack.empty())\n"
   ]
  },
  {
   "cell_type": "code",
   "execution_count": null,
   "id": "3b3727d2",
   "metadata": {},
   "outputs": [],
   "source": []
  },
  {
   "cell_type": "code",
   "execution_count": null,
   "id": "8d42d0d1",
   "metadata": {},
   "outputs": [],
   "source": []
  }
 ],
 "metadata": {
  "kernelspec": {
   "display_name": "Python 3",
   "language": "python",
   "name": "python3"
  },
  "language_info": {
   "codemirror_mode": {
    "name": "ipython",
    "version": 3
   },
   "file_extension": ".py",
   "mimetype": "text/x-python",
   "name": "python",
   "nbconvert_exporter": "python",
   "pygments_lexer": "ipython3",
   "version": "3.8.8"
  }
 },
 "nbformat": 4,
 "nbformat_minor": 5
}
