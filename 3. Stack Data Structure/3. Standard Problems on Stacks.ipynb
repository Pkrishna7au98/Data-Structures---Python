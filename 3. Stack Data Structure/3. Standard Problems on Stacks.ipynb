{
 "cells": [
  {
   "cell_type": "markdown",
   "id": "99aa0052",
   "metadata": {},
   "source": [
    "### Infix to Postfix"
   ]
  },
  {
   "cell_type": "code",
   "execution_count": 1,
   "id": "9e0b8eca",
   "metadata": {
    "scrolled": true
   },
   "outputs": [
    {
     "name": "stdout",
     "output_type": "stream",
     "text": [
      "abcd^e-fgh*+^*$i$\n"
     ]
    }
   ],
   "source": [
    "class Conversion_IPO:\n",
    "    \n",
    "    def __init__(self, capacity):\n",
    "        self.top = -1\n",
    "        self.capacity = capacity\n",
    "        self.array = []\n",
    "        self.output = []\n",
    "        self.precedence = {'+':1, '-':1, '*':2, '/':2, '^':3}\n",
    "        \n",
    "    def isEmpty(self):\n",
    "        return True if self.top == -1 else False\n",
    "    \n",
    "    def Peek(self):\n",
    "        return self.array[-1]\n",
    "    \n",
    "    def Pop(self):\n",
    "        self.top -= 1\n",
    "        if not self.isEmpty():\n",
    "            return self.array.pop()\n",
    "        else:\n",
    "            return \"$\"\n",
    "        \n",
    "    def Push(self, op):\n",
    "        self.top += 1\n",
    "        self.array.append(op)\n",
    "        \n",
    "    def isOperand(self, ch):\n",
    "        return ch.isalpha()\n",
    "    \n",
    "    def notGreater(self, i):\n",
    "        try:\n",
    "            a = self.precedence[i]\n",
    "            b = self.precedence[self.Peek()]\n",
    "            return True if a <= b else False\n",
    "        \n",
    "        except KeyError:\n",
    "            return False\n",
    "        \n",
    "    def InfinixToPostfix(self, expression):\n",
    "        exp = expression\n",
    "        \n",
    "        for i in exp:\n",
    "            if self.isOperand(i):\n",
    "                self.output.append(i)\n",
    "                \n",
    "            elif i == '(':\n",
    "                self.Push(i)\n",
    "                \n",
    "            elif i == \")\":\n",
    "                while (not self.isEmpty()) and (self.Peek() != \"(\" ):\n",
    "                    a = self.Pop()\n",
    "                    self.output.append(a)\n",
    "                    \n",
    "                if (not self.isEmpty() and self.Peek() != '('):\n",
    "                    return -1\n",
    "                else:\n",
    "                    self.Pop()\n",
    "            \n",
    "            else:\n",
    "                while (not self.isEmpty()) and self.notGreater(i):\n",
    "                    self.output.append(self.Pop())\n",
    "                self.Push(i)\n",
    "        \n",
    "        while not self.isEmpty():\n",
    "            self.output.append(self.Pop())\n",
    "        print (\"\".join(self.output))\n",
    "              \n",
    "            \n",
    "            \n",
    "expression = \"a+b*(c^d-e)^(f+g*h)-i\"    \n",
    "expression[::-1]\n",
    "obj = Conversion_IPO(len(expression))\n",
    "obj.InfinixToPostfix(expression)\n",
    "                    "
   ]
  },
  {
   "cell_type": "markdown",
   "id": "c273fdcb",
   "metadata": {},
   "source": [
    "### Prefix to Infix "
   ]
  },
  {
   "cell_type": "code",
   "execution_count": 2,
   "id": "c171dbfe",
   "metadata": {},
   "outputs": [
    {
     "name": "stdout",
     "output_type": "stream",
     "text": [
      "The Prefix to Infix conversion output is :  ((A-(B/C))*((A/K)-L))\n"
     ]
    }
   ],
   "source": [
    "class Conversion_PI:\n",
    "    \n",
    "    def __init__(self, capacity):\n",
    "        self.array = []\n",
    "        self.top = 0\n",
    "\n",
    "    def isOperand(self, ch):\n",
    "        return ch.isalpha()\n",
    "    \n",
    "    def isOperator(self, ch):\n",
    "        if ch == \"*\" or ch == \"+\" or ch == \"-\" or ch == \"/\" or ch == \"^\" or ch == \"(\" or ch == \")\":\n",
    "            return True\n",
    "        else:\n",
    "            return False\n",
    "    \n",
    "    def PrefixToInfix(self, expression):\n",
    "        i = len(expression)\n",
    "        \n",
    "        if i == 0:\n",
    "            print(\"Stack Underflow\")\n",
    "            return\n",
    "        \n",
    "        while i>0:\n",
    "            char = expression[i-1]\n",
    "            if type(char) == \"str\" or self.isOperand(char):\n",
    "                self.array.append(char)\n",
    "                self.top += 1\n",
    "                \n",
    "            if self.isOperator(char):\n",
    "                Aval = str(self.array.pop())\n",
    "                Bval = str(self.array.pop())\n",
    "                \n",
    "                output = str(\"(\"+Aval + str(char)+Bval+\")\")\n",
    "                self.array.append(output)\n",
    "                self.top += 1\n",
    "            \n",
    "            i -= 1\n",
    "            \n",
    "        return print(\"The Prefix to Infix conversion output is : \",self.array[0])\n",
    "                  \n",
    "expression = \"*-A/BC-/AKL\"          \n",
    "obj = Conversion_PI(len(expression))\n",
    "obj.PrefixToInfix(expression)\n"
   ]
  },
  {
   "cell_type": "markdown",
   "id": "e359b8ba",
   "metadata": {},
   "source": [
    "### Prefix to Postfix Conversion"
   ]
  },
  {
   "cell_type": "raw",
   "id": "4d309282",
   "metadata": {},
   "source": [
    "Algorithm for Prefix to Postfix: \n",
    "\n",
    "Read the Prefix expression in reverse order (from right to left)\n",
    "If the symbol is an operand, then push it onto the Stack\n",
    "If the symbol is an operator, then pop two operands from the Stack \n",
    "Create a string by concatenating the two operands and the operator after them. \n",
    "string = operand1 + operand2 + operator \n",
    "And push the resultant string back to Stack\n",
    "Repeat the above steps until end of Prefix expression."
   ]
  },
  {
   "cell_type": "code",
   "execution_count": 3,
   "id": "b3208392",
   "metadata": {},
   "outputs": [
    {
     "name": "stdout",
     "output_type": "stream",
     "text": [
      "The Prefix to Postfix conversion output is :  ['ABC/-AK/L-*']\n"
     ]
    }
   ],
   "source": [
    "expression = \"*-A/BC-/AKL\"\n",
    "\n",
    "array = []\n",
    "operators = set(['+', '-', '*', '/', '^'])\n",
    "\n",
    "#reversing the expression\n",
    "expression = expression[::-1]\n",
    "\n",
    "def PrefixToPostfix(expression):\n",
    "    length = len(expression) - 1 \n",
    "    \n",
    "    if length == -1:\n",
    "        print(\"Stack Underflow\")\n",
    "        return\n",
    "    \n",
    "    else:\n",
    "        i = 0\n",
    "        while i <= length:\n",
    "            char = expression[i]\n",
    "            if type(char) == \"str\" or char.isalpha() :\n",
    "                array.append(char)\n",
    "            \n",
    "            if char in operators:\n",
    "                Aval = str(array.pop())\n",
    "                Bval = str(array.pop())\n",
    "                \n",
    "                output = str(Aval + Bval + str(char))\n",
    "                array.append(output)\n",
    "            \n",
    "            i += 1\n",
    "            \n",
    "        return print(\"The Prefix to Postfix conversion output is : \",array)\n",
    "    \n",
    "PrefixToPostfix(expression)"
   ]
  },
  {
   "cell_type": "markdown",
   "id": "5ccc3790",
   "metadata": {},
   "source": [
    "### Postfix to Prefix Conversion"
   ]
  },
  {
   "cell_type": "code",
   "execution_count": null,
   "id": "4d22c302",
   "metadata": {},
   "outputs": [],
   "source": []
  },
  {
   "cell_type": "markdown",
   "id": "7376e55d",
   "metadata": {},
   "source": [
    "Read the Postfix expression from left to right\n",
    "If the symbol is an operand, then push it onto the Stack\n",
    "If the symbol is an operator, then pop two operands from the Stack \n",
    "Create a string by concatenating the two operands and the operator before them. \n",
    "string = operator + operand2 + operand1 \n",
    "And push the resultant string back to Stack\n",
    "Repeat the above steps until end of Postfix expression. "
   ]
  },
  {
   "cell_type": "code",
   "execution_count": 4,
   "id": "a56f455f",
   "metadata": {
    "scrolled": true
   },
   "outputs": [
    {
     "name": "stdout",
     "output_type": "stream",
     "text": [
      "The Postfix to Prefix conversion output is :  ['*-A/BC-/AKL']\n"
     ]
    }
   ],
   "source": [
    "string = \"ABC/-AK/L-*\"\n",
    "\n",
    "stack = []\n",
    "operators = set(['+', '-', '*', '/', '^'])\n",
    "\n",
    "def PostfixToPrefix(string):\n",
    "    length = len(string) - 1 \n",
    "    \n",
    "    if length == -1:\n",
    "        print(\"Stack Underflow\")\n",
    "        return\n",
    "    \n",
    "    else:\n",
    "        i = 0\n",
    "        while i <= length:\n",
    "            char = string[i]\n",
    "            if type(char) == \"str\" or char.isalpha() :\n",
    "                stack.append(char)\n",
    "            \n",
    "            if char in operators:\n",
    "                Aval = str(stack.pop())\n",
    "                Bval = str(stack.pop())\n",
    "                \n",
    "                output = str( str(char)+ Bval + Aval )\n",
    "                stack.append(output)\n",
    "            \n",
    "            i += 1\n",
    "            \n",
    "        return print(\"The Postfix to Prefix conversion output is : \",stack)\n",
    "    \n",
    "PostfixToPrefix(string)"
   ]
  },
  {
   "cell_type": "markdown",
   "id": "049ac397",
   "metadata": {},
   "source": [
    "### Postfix to Infix"
   ]
  },
  {
   "cell_type": "code",
   "execution_count": 5,
   "id": "b5c5cc4b",
   "metadata": {},
   "outputs": [
    {
     "name": "stdout",
     "output_type": "stream",
     "text": [
      "The Prefix to Infix conversion output is :  ['((a*b)+c)']\n"
     ]
    }
   ],
   "source": [
    "class Conversion_PoIn:\n",
    "    \n",
    "    def __init__(self, capacity):\n",
    "        self.Stack_PoIn = []\n",
    "\n",
    "    def isOperand(self, ch):\n",
    "        return ch.isalpha()\n",
    "    \n",
    "    def isOperator(self, ch):\n",
    "        if ch == \"*\" or ch == \"+\" or ch == \"-\" or ch == \"/\" or ch == \"^\" or ch == \"(\" or ch == \")\":\n",
    "            return True\n",
    "        else:\n",
    "            return False\n",
    "    \n",
    "    def PostfixtoInfix(self, expression):\n",
    "        i = len(expression)\n",
    "        \n",
    "        if i == 0:\n",
    "            print(\"Stack Underflow\")\n",
    "            return\n",
    "        \n",
    "        p = 0\n",
    "        while p < i:\n",
    "            char = expression[p]\n",
    "            if type(char) == \"str\" or self.isOperand(char):\n",
    "                self.Stack_PoIn.append(char)\n",
    "                \n",
    "            if self.isOperator(char):\n",
    "                Aval = str(self.Stack_PoIn.pop())\n",
    "                Bval = str(self.Stack_PoIn.pop())\n",
    "                \n",
    "                output = str(\"(\"+Bval + str(char)+Aval+\")\")\n",
    "                self.Stack_PoIn.append(output)\n",
    "            \n",
    "            p += 1\n",
    "            \n",
    "        return print(\"The Prefix to Infix conversion output is : \",self.Stack_PoIn)\n",
    "                  \n",
    "expression = \"ab*c+\"          \n",
    "obj = Conversion_PoIn(len(expression))\n",
    "obj.PostfixtoInfix(expression)\n"
   ]
  },
  {
   "cell_type": "markdown",
   "id": "69433d19",
   "metadata": {},
   "source": [
    "### Convert Infix To Prefix Notation\n"
   ]
  },
  {
   "cell_type": "code",
   "execution_count": 6,
   "id": "670747be",
   "metadata": {},
   "outputs": [
    {
     "name": "stdout",
     "output_type": "stream",
     "text": [
      "The Infix to Prefix conversion of the given expression is :  ++-+kl*mn*//*^opwuvtq"
     ]
    }
   ],
   "source": [
    "IPstack = \"k+l-m*n+(o^p)*w/u/v*t+q\"\n",
    "IPstack = IPstack[::-1]\n",
    "\n",
    "precedence = {'+':1, '-':1, '*':2, '/':2, '^':3}\n",
    "\n",
    "stack = []\n",
    "prefix = []\n",
    "\n",
    "for i in IPstack:\n",
    "    \n",
    "    if i.isalpha():\n",
    "        prefix.append(i)\n",
    "    \n",
    "    elif i in precedence:\n",
    "        if len(stack) == 0:\n",
    "            stack.append(i)\n",
    "        \n",
    "        elif i == \")\":\n",
    "            stack.append(i)\n",
    "        \n",
    "        elif i == \"(\":\n",
    "            axe = stack[-1]\n",
    "            \n",
    "            while axe != \")\":\n",
    "                app = stack.pop()\n",
    "                prefix.append(app)\n",
    "                axe = stack[-1]\n",
    "            stack.pop()\n",
    "        \n",
    "        else:\n",
    "            a = precedence[i]\n",
    "            b = precedence[stack[-1]]\n",
    "            \n",
    "            if a >= b:\n",
    "                stack.append(i)\n",
    "            else:\n",
    "                while a < b:\n",
    "                    ele = stack.pop()\n",
    "                    prefix.append(ele)\n",
    "                    b = precedence[stack[-1]]\n",
    "                stack.append(i)\n",
    "    \n",
    "while len(stack) != 0:\n",
    "    ending = stack.pop()\n",
    "    prefix.append(ending)\n",
    "    \n",
    "prefix = prefix[::-1]\n",
    "\n",
    "print(\"The Infix to Prefix conversion of the given expression is : \", end = \" \")\n",
    "for i in prefix:\n",
    "    print(i,end=\"\")"
   ]
  },
  {
   "cell_type": "markdown",
   "id": "3d491bb5",
   "metadata": {},
   "source": [
    "### The Stock Span Problem\n"
   ]
  },
  {
   "cell_type": "markdown",
   "id": "eb75fe99",
   "metadata": {},
   "source": [
    "<img src=\"https://media.geeksforgeeks.org/wp-content/uploads/Stock_span.png\">"
   ]
  },
  {
   "cell_type": "code",
   "execution_count": 7,
   "id": "21503774",
   "metadata": {},
   "outputs": [
    {
     "name": "stdout",
     "output_type": "stream",
     "text": [
      "[1, 1, 1, 2, 1, 4, 6]\n"
     ]
    }
   ],
   "source": [
    "price = [100, 80, 60, 70, 60, 75, 85]\n",
    "span = []\n",
    "\n",
    "span.append(1)\n",
    "\n",
    "for i in range(1,len(price)):\n",
    "    arr = price[:i]\n",
    "    arr = arr[::-1]\n",
    "    count = 1\n",
    "    \n",
    "    for j in arr:\n",
    "        if j < price[i]:\n",
    "            count += 1\n",
    "        elif j> i:\n",
    "               break\n",
    "    span.append(count)\n",
    "        \n",
    "print(span)"
   ]
  },
  {
   "cell_type": "markdown",
   "id": "43710bbf",
   "metadata": {},
   "source": [
    "### Check for Balanced Brackets in an expression (well-formedness) using Stack"
   ]
  },
  {
   "cell_type": "code",
   "execution_count": 8,
   "id": "7ce1d662",
   "metadata": {},
   "outputs": [
    {
     "name": "stdout",
     "output_type": "stream",
     "text": [
      "Hurray ! Brackets are Balanced. \n"
     ]
    }
   ],
   "source": [
    "exp = \"[()]{}{[()()]()}\" \n",
    "\n",
    "stack = []\n",
    "store = [\"(\", \"{\", \"[\"]\n",
    "for i in exp:\n",
    "    if i in store:\n",
    "        stack.append(i)\n",
    "    else:\n",
    "        \n",
    "        if not stack:\n",
    "            break\n",
    "        \n",
    "        curr = stack.pop()\n",
    "        \n",
    "        if curr == \"(\":\n",
    "            if i != \")\":\n",
    "                break\n",
    "        if curr == \"{\":\n",
    "            if i != \"}\":\n",
    "                break\n",
    "        if curr == \"[\":\n",
    "            if i != \"]\":\n",
    "                break\n",
    "            \n",
    "if stack:\n",
    "    print(\"Brackets are not balanced\")\n",
    "else:\n",
    "    print(\"Hurray ! Brackets are Balanced. \")\n",
    "        \n",
    "            \n",
    "            "
   ]
  },
  {
   "cell_type": "markdown",
   "id": "6d0709d6",
   "metadata": {},
   "source": [
    "### Next Greater Element\n"
   ]
  },
  {
   "cell_type": "raw",
   "id": "86851cb6",
   "metadata": {},
   "source": [
    "Element       NGE\n",
    "   4      -->   5\n",
    "   5      -->   25\n",
    "   2      -->   25\n",
    "   25     -->   -1"
   ]
  },
  {
   "cell_type": "code",
   "execution_count": 9,
   "id": "fa01fdd7",
   "metadata": {},
   "outputs": [
    {
     "name": "stdout",
     "output_type": "stream",
     "text": [
      "4 has NGE :  5\n",
      "2 has NGE :  25\n",
      "5 has NGE :  25\n"
     ]
    }
   ],
   "source": [
    "array = [4, 5, 2, 25]\n",
    "\n",
    "stack = []\n",
    "\n",
    "stack.append(array[0])\n",
    "bigger = -float(\"inf\")\n",
    "\n",
    "for i in range(1, len(array)):\n",
    "    if array[i] > stack[-1]:\n",
    "        if array[i] > bigger:\n",
    "            bigger = array[i]\n",
    "        print(stack[-1], \"has NGE : \", array[i])\n",
    "        stack.pop()\n",
    "        stack.append(array[i])\n",
    "        \n",
    "    if array[i] < stack[-1]:\n",
    "        stack.append(array[i])\n",
    "\n",
    "for j in stack[:]:\n",
    "    if j == bigger:\n",
    "         break\n",
    "    print(j , \"has NGE : \", bigger)"
   ]
  },
  {
   "cell_type": "markdown",
   "id": "80016074",
   "metadata": {},
   "source": [
    "### Next Greater Frequency Element\n"
   ]
  },
  {
   "cell_type": "raw",
   "id": "d03c9a65",
   "metadata": {},
   "source": [
    "Input : a[] = [1, 1, 2, 3, 4, 2, 1] \n",
    "    \n",
    "    mid process : Frequency of Input array/stack = [3, 3, 2, 1, 1, 2, 3]\n",
    "    \n",
    "Output : [-1, -1, 1, 2, 2, 1, -1]\n",
    "\n",
    "\n",
    "for the frequency array/stack we can use Hashing , that we will see in further tutorials. \n",
    "    But this problem has two parts.  1. converting it to frequency array and then 2. next greater element of the frequencies. "
   ]
  },
  {
   "cell_type": "markdown",
   "id": "79934cf0",
   "metadata": {},
   "source": [
    "### Maximum product of indexes of next greater on left and right"
   ]
  },
  {
   "cell_type": "code",
   "execution_count": 10,
   "id": "5192e7d4",
   "metadata": {},
   "outputs": [
    {
     "name": "stdout",
     "output_type": "stream",
     "text": [
      "The Maximum product of indexes of next greater on left and right is :  24\n"
     ]
    }
   ],
   "source": [
    "arr = [ 1, 1, 1, 1, 0, 1, 1, 1, 1, 1]\n",
    "length = len(arr)\n",
    "\n",
    "Leftist = []\n",
    "Rightist = []\n",
    "\n",
    "for i in range(len(arr)):\n",
    "    if i == length-1:\n",
    "        Rightist.append(0)\n",
    "    \n",
    "    if i == 0:\n",
    "        Leftist.append(0)\n",
    "        \n",
    "        \n",
    "    for l in range(i+1,length):\n",
    "        if arr[l] > arr[i]:\n",
    "            Rightist.append(l+1)\n",
    "            break\n",
    "        \n",
    "        if l == length-1:\n",
    "            Rightist.append(0)\n",
    "                \n",
    "        \n",
    "    for m in range(i-1,-1,-1):\n",
    "        if arr[m] > arr[i]:\n",
    "            Leftist.append(m+1)\n",
    "            break\n",
    "        \n",
    "        if m == 0:\n",
    "            Leftist.append(0) \n",
    "        \n",
    "        \n",
    "for p in range(length):\n",
    "    arr[p] = Leftist[p] * Rightist[p]\n",
    "    \n",
    "print(\"The Maximum product of indexes of next greater on left and right is : \", max(arr))"
   ]
  },
  {
   "cell_type": "markdown",
   "id": "3caf146c",
   "metadata": {},
   "source": [
    "### The Celebrity Problem\n"
   ]
  },
  {
   "cell_type": "code",
   "execution_count": 11,
   "id": "7eb05151",
   "metadata": {},
   "outputs": [
    {
     "name": "stdout",
     "output_type": "stream",
     "text": [
      "Celebrity is :  2\n"
     ]
    }
   ],
   "source": [
    "MATRIX = [ [ 0, 0, 1, 0 ],\n",
    "           [ 0, 1, 1, 0 ],\n",
    "           [ 0, 0, 0, 0 ],\n",
    "           [ 1, 0, 1, 1 ] ]\n",
    "\n",
    "c = 0\n",
    "\n",
    "for i in range(1,len(MATRIX)):\n",
    "    if MATRIX[c][i] == 1:\n",
    "        c = i\n",
    "\n",
    "for j in range(len(MATRIX)):\n",
    "    if j != c and (MATRIX[c][j] ==1 or MATRIX[j][c] == 0 ):\n",
    "        print(\"No Celebrity found\")\n",
    "        break\n",
    "    elif j == len(MATRIX)-1:\n",
    "        print(\"Celebrity is : \" ,c)"
   ]
  },
  {
   "cell_type": "markdown",
   "id": "7cfb2b6d",
   "metadata": {},
   "source": [
    "### Expression Evaluation\n"
   ]
  },
  {
   "cell_type": "raw",
   "id": "da4f803a",
   "metadata": {},
   "source": [
    "Rules:\n",
    "    \n",
    "    1. if an operand, push it to opearnds stack\n",
    "    2. if an operator. \n",
    "        2.1 if Opeartor stack is null, push it\n",
    "        2.2 if the operator is opening bracket, push it\n",
    "        2.3 if the opeartor has higher or equal precedence than the top of operator stack, then pop 2 elements from \n",
    "            operand stack, perform the operation and then, push the output to the opearnd stack\n",
    "        2.4 if the operator has lower precedence, simply push it\n",
    "        2.5 if the operator is closing bracket, pop the two top elements of operand stack and evaluate them and push back\n",
    "            until you find the opening bracket, and at the end simply remove the opening bracket too."
   ]
  },
  {
   "cell_type": "code",
   "execution_count": 12,
   "id": "56674346",
   "metadata": {},
   "outputs": [
    {
     "name": "stdout",
     "output_type": "stream",
     "text": [
      "22\n",
      "212\n",
      "1400\n",
      "100\n"
     ]
    }
   ],
   "source": [
    "def precedence(op):\n",
    "     \n",
    "    if op == '+' or op == '-':\n",
    "        return 1\n",
    "    if op == '*' or op == '/':\n",
    "        return 2\n",
    "    return 0\n",
    "\n",
    "def applyOp(a, b, op):\n",
    "     \n",
    "    if op == '+': return a + b\n",
    "    if op == '-': return a - b\n",
    "    if op == '*': return a * b\n",
    "    if op == '/': return a // b\n",
    "    \n",
    "def evaluate(tokens):\n",
    "     \n",
    "    # stack to store integer values.\n",
    "    values = []\n",
    "    ops = []\n",
    "    i = 0\n",
    "     \n",
    "    while i < len(tokens):\n",
    "\n",
    "        if tokens[i] == ' ':\n",
    "            i += 1\n",
    "            continue\n",
    "         \n",
    "        elif tokens[i] == '(':\n",
    "            ops.append(tokens[i])\n",
    "\n",
    "        elif tokens[i].isdigit():\n",
    "            val = 0\n",
    "\n",
    "            while (i < len(tokens) and\n",
    "                tokens[i].isdigit()):\n",
    "             \n",
    "                val = (val * 10) + int(tokens[i])\n",
    "                i += 1\n",
    "             \n",
    "            values.append(val)\n",
    "\n",
    "            i-=1\n",
    "\n",
    "        elif tokens[i] == ')':\n",
    "         \n",
    "            while len(ops) != 0 and ops[-1] != '(':\n",
    "             \n",
    "                val2 = values.pop()\n",
    "                val1 = values.pop()\n",
    "                op = ops.pop()\n",
    "                 \n",
    "                values.append(applyOp(val1, val2, op))\n",
    "\n",
    "            ops.pop()\n",
    "\n",
    "        else:\n",
    "\n",
    "            while (len(ops) != 0 and\n",
    "                precedence(ops[-1]) >=\n",
    "                   precedence(tokens[i])):\n",
    "                         \n",
    "                val2 = values.pop()\n",
    "                val1 = values.pop()\n",
    "                op = ops.pop()\n",
    "                 \n",
    "                values.append(applyOp(val1, val2, op))\n",
    "             \n",
    "            ops.append(tokens[i])\n",
    "         \n",
    "        i += 1\n",
    "     \n",
    "    while len(ops) != 0:\n",
    "         \n",
    "        val2 = values.pop()\n",
    "        val1 = values.pop()\n",
    "        op = ops.pop()\n",
    "                 \n",
    "        values.append(applyOp(val1, val2, op))\n",
    "\n",
    "    return values[-1]\n",
    "\n",
    "if __name__ == \"__main__\":\n",
    "     \n",
    "    print(evaluate(\"10 + 2 * 6\"))\n",
    "    print(evaluate(\"100 * 2 + 12\"))\n",
    "    print(evaluate(\"100 * ( 2 + 12 )\"))\n",
    "    print(evaluate(\"100 * ( 2 + 12 ) / 14\"))"
   ]
  },
  {
   "cell_type": "markdown",
   "id": "6119c993",
   "metadata": {},
   "source": [
    "### Arithmetic Expression Evaluation\n"
   ]
  },
  {
   "cell_type": "markdown",
   "id": "48ed3610",
   "metadata": {},
   "source": [
    "<img src=\"https://media.geeksforgeeks.org/wp-content/uploads/s1-9.png\">"
   ]
  },
  {
   "cell_type": "raw",
   "id": "ee08e94b",
   "metadata": {},
   "source": [
    "The procedure for getting the result is: \n",
    " \n",
    "\n",
    "Convert the expression in Reverse Polish notation( post-fix notation). \n",
    " \n",
    "Push the operands into the stack in the order they appear. \n",
    " \n",
    "When any operator encounters then pop two topmost operands for executing the operation. \n",
    " \n",
    "After execution push the result obtained into the stack. \n",
    " \n",
    "After the complete execution of expression, the final result remains on the top of the stack. "
   ]
  },
  {
   "cell_type": "code",
   "execution_count": 19,
   "id": "520cfb14",
   "metadata": {},
   "outputs": [
    {
     "name": "stdout",
     "output_type": "stream",
     "text": [
      "Enter infix expression(2+4)*(4+6)\n",
      "infix expression:  (2+4)*(4+6)\n",
      "postfix expression:  24+46+*\n",
      "The answer is :  60.0\n"
     ]
    }
   ],
   "source": [
    "OPERATORS = set(['+', '-', '*', '/', '(', ')', '^'])  # set of operators\n",
    "PRIORITY = {'+':1, '-':1, '*':2, '/':2, '^':3} # dictionary having priorities \n",
    "\n",
    "def infix_to_postfix(expression): #input expression\n",
    "\n",
    "    stack = [] # initially stack empty\n",
    "    output = '' # initially output empty\n",
    "\n",
    "    for ch in expression:\n",
    "\n",
    "        if ch not in OPERATORS:  # if an operand then put it directly in postfix expression\n",
    "            output+= ch\n",
    "\n",
    "        elif ch=='(':  # else operators should be put in stack\n",
    "            stack.append('(')\n",
    "\n",
    "        elif ch==')':\n",
    "            while stack and stack[-1]!= '(':\n",
    "                output+=stack.pop()\n",
    "            stack.pop()\n",
    "\n",
    "        else:\n",
    "            # lesser priority can't be on top on higher or equal priority    \n",
    "             # so pop and put in output   \n",
    "\n",
    "            while stack and stack[-1]!='(' and PRIORITY[ch]<=PRIORITY[stack[-1]]:\n",
    "                output+=stack.pop()\n",
    "            stack.append(ch)\n",
    "\n",
    "    while stack:\n",
    "        output+=stack.pop()\n",
    "    return output\n",
    "\n",
    "expression = input('Enter infix expression')\n",
    " \n",
    "#(2+4)*(4+6)\n",
    "print('infix expression: ',expression)\n",
    "Pfix = infix_to_postfix(expression)\n",
    "print('postfix expression: ',Pfix)\n",
    "\n",
    "\n",
    "#----After converting the infix to postfix expression. Lets evaluate this now\n",
    "\n",
    "def Operation(a, b, op):\n",
    "     \n",
    "    if op == '+': return float(a) + float(b)\n",
    "    if op == '-': return float(a) - float(b)\n",
    "    if op == '*': return float(a) * float(b)\n",
    "    if op == '/': return float(a) / float(b)\n",
    "    \n",
    "empty = []\n",
    "\n",
    "for op in Pfix:\n",
    "    if op.isnumeric():\n",
    "        empty.append(op)\n",
    "\n",
    "    else: \n",
    "        b = empty.pop()\n",
    "        a = empty.pop()\n",
    "        \n",
    "        output = Operation(a, b, op)\n",
    "        \n",
    "        empty.append(output)\n",
    "print(\"The answer is : \",empty[-1])"
   ]
  },
  {
   "cell_type": "markdown",
   "id": "75f193d4",
   "metadata": {},
   "source": [
    "## Tower of Hanoi"
   ]
  },
  {
   "cell_type": "code",
   "execution_count": 24,
   "id": "17013be0",
   "metadata": {},
   "outputs": [
    {
     "name": "stdout",
     "output_type": "stream",
     "text": [
      "Move the disk 1 from ' S ' to ' D '\n",
      "Move the disk 2 from ' S ' to ' A '\n",
      "Move the disk 1 from ' D ' to ' A '\n",
      "Move the disk 3 from ' S ' to ' D '\n",
      "Move the disk 1 from ' A ' to ' S '\n",
      "Move the disk 2 from ' A ' to ' D '\n",
      "Move the disk 1 from ' S ' to ' D '\n"
     ]
    }
   ],
   "source": [
    "import sys\n",
    "\n",
    "class Stack:\n",
    "    def __init__(self,capacity):\n",
    "        self.capacity = capacity\n",
    "        self.top = -1\n",
    "        self.array = [0]*capacity\n",
    "        \n",
    "def createStack(capacity):\n",
    "    stack = Stack(capacity)\n",
    "    return stack\n",
    "\n",
    "def isFull(stack):\n",
    "    return (stack.top == stack.capacity - 1)\n",
    "    \n",
    "def isEmpty(stack):\n",
    "    return (stack.top == -1)\n",
    "\n",
    "def Push(stack, item):\n",
    "    if isFull(stack):\n",
    "        return \n",
    "    \n",
    "    stack.top += 1\n",
    "    stack.array[stack.top] = item\n",
    "    \n",
    "def Pop(stack):\n",
    "    if isEmpty(stack):\n",
    "        return -sys.maxsize\n",
    "    Top = stack.top\n",
    "    stack.top -= 1\n",
    "    return stack.array[Top]\n",
    "\n",
    "def LegalMoveDecider(src ,dest ,s ,d):\n",
    "    Pole1TopDisk = Pop(src)\n",
    "    Pole2TopDisk = Pop(dest)\n",
    "\n",
    "    if Pole1TopDisk == -sys.maxsize:\n",
    "        Push(src, Pole2TopDisk)\n",
    "        Instructions(d, s , Pole2TopDisk)\n",
    "        \n",
    "    elif Pole2TopDisk == -sys.maxsize:\n",
    "        Push(dest, Pole1TopDisk)\n",
    "        Instructions(s , d , Pole1TopDisk)\n",
    "    \n",
    "    elif Pole1TopDisk > Pole2TopDisk:\n",
    "        Push(src , Pole1TopDisk)\n",
    "        Push(src , Pole2TopDisk)\n",
    "        Instructions(d ,s ,Pole2TopDisk)\n",
    "        \n",
    "    else:\n",
    "        Push(dest, Pole2TopDisk)\n",
    "        Push(dest, Pole1TopDisk)\n",
    "        Instructions(s, d, Pole1TopDisk)\n",
    "        \n",
    "#Additional Function to get the instructions printed, to verify manually for tiny cases\n",
    "\n",
    "def Instructions(fromPeg, toPeg, disk):\n",
    "        print(\"Move the disk\", disk, \"from '\", fromPeg, \"' to '\", toPeg, \"'\")\n",
    "    \n",
    "    \n",
    "def TOHIterative(num_of_disks):\n",
    "    \n",
    "    src = createStack(num_of_disks)\n",
    "    aux = createStack(num_of_disks)\n",
    "    dest = createStack(num_of_disks)\n",
    "    \n",
    "    s ,d ,a = \"S\" , \"D\" , \"A\"\n",
    "    \n",
    "    if num_of_disks % 2 == 0:\n",
    "        \n",
    "        temp = a\n",
    "        a = d\n",
    "        d = temp\n",
    "        \n",
    "    totalMoves = 2**(num_of_disks) - 1\n",
    "    \n",
    "    #Creating the Source tower\n",
    "    for i in range(num_of_disks, 0, -1):\n",
    "        Push(src , i)\n",
    "        \n",
    "    for j in range(1, totalMoves+1):\n",
    "        \n",
    "        if j%3 == 1:\n",
    "            LegalMoveDecider(src ,dest ,s ,d)\n",
    "        \n",
    "        elif (j % 3 == 2):\n",
    "            LegalMoveDecider(src, aux, s, a)\n",
    "   \n",
    "        elif (j % 3 == 0):\n",
    "            LegalMoveDecider(aux, dest, a, d)\n",
    "            \n",
    "TOHIterative(3)"
   ]
  },
  {
   "cell_type": "code",
   "execution_count": null,
   "id": "2906d73d",
   "metadata": {},
   "outputs": [],
   "source": []
  },
  {
   "cell_type": "code",
   "execution_count": null,
   "id": "4923c222",
   "metadata": {},
   "outputs": [],
   "source": []
  },
  {
   "cell_type": "code",
   "execution_count": null,
   "id": "b46df6c5",
   "metadata": {},
   "outputs": [],
   "source": []
  }
 ],
 "metadata": {
  "kernelspec": {
   "display_name": "Python 3",
   "language": "python",
   "name": "python3"
  },
  "language_info": {
   "codemirror_mode": {
    "name": "ipython",
    "version": 3
   },
   "file_extension": ".py",
   "mimetype": "text/x-python",
   "name": "python",
   "nbconvert_exporter": "python",
   "pygments_lexer": "ipython3",
   "version": "3.8.8"
  }
 },
 "nbformat": 4,
 "nbformat_minor": 5
}
